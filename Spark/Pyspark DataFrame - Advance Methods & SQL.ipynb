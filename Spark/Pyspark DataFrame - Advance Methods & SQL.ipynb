{
 "cells": [
  {
   "cell_type": "code",
   "execution_count": 1,
   "id": "a69222f5",
   "metadata": {
    "collapsed": true
   },
   "outputs": [
    {
     "data": {
      "text/html": [
       "\n",
       "        <div>\n",
       "            <p><b>SparkContext</b></p>\n",
       "\n",
       "            <p><a href=\"http://10.0.2.15:4042\">Spark UI</a></p>\n",
       "\n",
       "            <dl>\n",
       "              <dt>Version</dt>\n",
       "                <dd><code>v2.4.8</code></dd>\n",
       "              <dt>Master</dt>\n",
       "                <dd><code>local[*]</code></dd>\n",
       "              <dt>AppName</dt>\n",
       "                <dd><code>PySparkShell</code></dd>\n",
       "            </dl>\n",
       "        </div>\n",
       "        "
      ],
      "text/plain": [
       "<SparkContext master=local[*] appName=PySparkShell>"
      ]
     },
     "execution_count": 1,
     "metadata": {},
     "output_type": "execute_result"
    }
   ],
   "source": [
    "sc"
   ]
  },
  {
   "cell_type": "code",
   "execution_count": 2,
   "id": "55efff24",
   "metadata": {
    "collapsed": true
   },
   "outputs": [
    {
     "data": {
      "text/html": [
       "\n",
       "            <div>\n",
       "                <p><b>SparkSession - hive</b></p>\n",
       "                \n",
       "        <div>\n",
       "            <p><b>SparkContext</b></p>\n",
       "\n",
       "            <p><a href=\"http://10.0.2.15:4042\">Spark UI</a></p>\n",
       "\n",
       "            <dl>\n",
       "              <dt>Version</dt>\n",
       "                <dd><code>v2.4.8</code></dd>\n",
       "              <dt>Master</dt>\n",
       "                <dd><code>local[*]</code></dd>\n",
       "              <dt>AppName</dt>\n",
       "                <dd><code>PySparkShell</code></dd>\n",
       "            </dl>\n",
       "        </div>\n",
       "        \n",
       "            </div>\n",
       "        "
      ],
      "text/plain": [
       "<pyspark.sql.session.SparkSession at 0x7fea10060b00>"
      ]
     },
     "execution_count": 2,
     "metadata": {},
     "output_type": "execute_result"
    }
   ],
   "source": [
    "spark"
   ]
  },
  {
   "cell_type": "code",
   "execution_count": 3,
   "id": "e3202c5d",
   "metadata": {},
   "outputs": [],
   "source": [
    "people_df = spark.read.json(\"file:///home/hadoop/Downloads/People.json\")"
   ]
  },
  {
   "cell_type": "code",
   "execution_count": 6,
   "id": "4df0f02a",
   "metadata": {
    "collapsed": true
   },
   "outputs": [
    {
     "name": "stdout",
     "output_type": "stream",
     "text": [
      "+---------+-----------+----------+------+---+---------+------+\n",
      "|     city|    country|first_name|gender| id|last_name|salary|\n",
      "+---------+-----------+----------+------+---+---------+------+\n",
      "|Mulyosari|  Indonesia|     Valma|Female|  1|     Sans|983107|\n",
      "|  Niihama|      Japan|     Paolo|  Male|  2|   Kiddie|649173|\n",
      "|Dū Qal‘ah|Afghanistan|    Miltie|  Male|  3| De Zuani|352898|\n",
      "|   Iberia|       Peru|    Jarrid|  Male|  4| Dalziell|170398|\n",
      "| La Ronge|     Canada| Reinaldos|  Male|  5|   Keeffe|440989|\n",
      "+---------+-----------+----------+------+---+---------+------+\n",
      "only showing top 5 rows\n",
      "\n"
     ]
    }
   ],
   "source": [
    "people_df.show(5)"
   ]
  },
  {
   "cell_type": "code",
   "execution_count": 7,
   "id": "80af8afd",
   "metadata": {},
   "outputs": [
    {
     "name": "stdout",
     "output_type": "stream",
     "text": [
      "root\n",
      " |-- city: string (nullable = true)\n",
      " |-- country: string (nullable = true)\n",
      " |-- first_name: string (nullable = true)\n",
      " |-- gender: string (nullable = true)\n",
      " |-- id: long (nullable = true)\n",
      " |-- last_name: string (nullable = true)\n",
      " |-- salary: long (nullable = true)\n",
      "\n"
     ]
    }
   ],
   "source": [
    "people_df.printSchema()"
   ]
  },
  {
   "cell_type": "markdown",
   "id": "453b2943",
   "metadata": {},
   "source": [
    "#### 1. Create a User Defined Schema for fields of DataFrame."
   ]
  },
  {
   "cell_type": "code",
   "execution_count": 8,
   "id": "7cee70be",
   "metadata": {},
   "outputs": [],
   "source": [
    "from pyspark.sql.functions import *\n",
    "from pyspark.sql.types import IntegerType, FloatType, StringType, StructType, StructField\n",
    "from pyspark.sql.types import *"
   ]
  },
  {
   "cell_type": "code",
   "execution_count": 9,
   "id": "b3d41378",
   "metadata": {},
   "outputs": [],
   "source": [
    "schema = StructType([\n",
    "    StructField(\"id\", IntegerType(), True),\n",
    "    StructField(\"first_name\", StringType(), True),\n",
    "    StructField(\"last_name\", StringType(), True),\n",
    "    StructField(\"gender\", StringType(), True),\n",
    "    StructField(\"salary\", LongType(), True),\n",
    "    StructField(\"city\", StringType(), True),\n",
    "    StructField(\"country\", StringType(), True)\n",
    "  ])"
   ]
  },
  {
   "cell_type": "code",
   "execution_count": 10,
   "id": "78fcf041",
   "metadata": {},
   "outputs": [],
   "source": [
    "people_df = spark.read.schema(schema).json(\"file:///home/hadoop/Downloads/People.json\")"
   ]
  },
  {
   "cell_type": "code",
   "execution_count": 12,
   "id": "82336630",
   "metadata": {
    "collapsed": true
   },
   "outputs": [
    {
     "name": "stdout",
     "output_type": "stream",
     "text": [
      "root\n",
      " |-- id: integer (nullable = true)\n",
      " |-- first_name: string (nullable = true)\n",
      " |-- last_name: string (nullable = true)\n",
      " |-- gender: string (nullable = true)\n",
      " |-- salary: long (nullable = true)\n",
      " |-- city: string (nullable = true)\n",
      " |-- country: string (nullable = true)\n",
      "\n"
     ]
    }
   ],
   "source": [
    "people_df.printSchema()"
   ]
  },
  {
   "cell_type": "code",
   "execution_count": 13,
   "id": "6cae106a",
   "metadata": {
    "collapsed": true
   },
   "outputs": [
    {
     "name": "stdout",
     "output_type": "stream",
     "text": [
      "+---+----------+---------+------+------+------------------+------------+\n",
      "| id|first_name|last_name|gender|salary|              city|     country|\n",
      "+---+----------+---------+------+------+------------------+------------+\n",
      "|  1|     Valma|     Sans|Female|983107|         Mulyosari|   Indonesia|\n",
      "|  2|     Paolo|   Kiddie|  Male|649173|           Niihama|       Japan|\n",
      "|  3|    Miltie| De Zuani|  Male|352898|         Dū Qal‘ah| Afghanistan|\n",
      "|  4|    Jarrid| Dalziell|  Male|170398|            Iberia|        Peru|\n",
      "|  5| Reinaldos|   Keeffe|  Male|440989|          La Ronge|      Canada|\n",
      "|  6|        Eb|Schwanden|  Male|274126|      Kuala Lumpur|    Malaysia|\n",
      "|  7|    Alleyn|   Paddon|  Male|681914|         Al Qurayn|Saudi Arabia|\n",
      "|  8|   Baryram|     Yell|  Male|250748|           Jixiang|       China|\n",
      "|  9|     Cammy|     Axel|Female|221750|Thị Trấn Phong Thổ|     Vietnam|\n",
      "| 10|       Erl|  Caldera|  Male|680801|        Kotatengah|   Indonesia|\n",
      "| 11|    Miguel|   Moules|  Male|819771|        Roldanillo|    Colombia|\n",
      "| 12| Mireielle|   Hurley|Female|486029|            Malārd|        Iran|\n",
      "| 13|    Feodor| Grummitt|  Male|358045|     Fada N'gourma|Burkina Faso|\n",
      "| 14|     Diana|  Lawfull|Female|397683|           Ciangir|   Indonesia|\n",
      "| 15|      Evie|   Kaysor|Female|436202|         El Cantón|   Venezuela|\n",
      "| 16|    Janean|    Sayse|Female|892405|          La Unión|    Colombia|\n",
      "| 17|     Colan|   Stoppe|  Male|218434|            Xinhua|       China|\n",
      "| 18|      Erik| Stitcher|  Male|776023|     Крива Паланка|   Macedonia|\n",
      "| 19|   Sargent|   Cleall|  Male|819269|          Qīr Moāv|      Jordan|\n",
      "| 20|   Tamqrah|Millichip|Female|313540|      Bogandinskiy|      Russia|\n",
      "+---+----------+---------+------+------+------------------+------------+\n",
      "only showing top 20 rows\n",
      "\n"
     ]
    }
   ],
   "source": [
    "people_df.show()"
   ]
  },
  {
   "cell_type": "code",
   "execution_count": 17,
   "id": "4d0a056a",
   "metadata": {
    "collapsed": true
   },
   "outputs": [
    {
     "name": "stdout",
     "output_type": "stream",
     "text": [
      "+---+-------+--------+-------+---+-------+--------+---------+-------+------------+----+-------+-----+-----+--------+--------+---+\n",
      "|age|balance|campaign|contact|day|default|duration|education|housing|         job|loan|marital|month|pdays|poutcome|previous|  y|\n",
      "+---+-------+--------+-------+---+-------+--------+---------+-------+------------+----+-------+-----+-----+--------+--------+---+\n",
      "| 58|   2143|       1|unknown|  5|     no|     261| tertiary|    yes|  management|  no|married|  may|   -1| unknown|       0| no|\n",
      "| 44|     29|       1|unknown|  5|     no|     151|secondary|    yes|  technician|  no| single|  may|   -1| unknown|       0| no|\n",
      "| 33|      2|       1|unknown|  5|     no|      76|secondary|    yes|entrepreneur| yes|married|  may|   -1| unknown|       0| no|\n",
      "+---+-------+--------+-------+---+-------+--------+---------+-------+------------+----+-------+-----+-----+--------+--------+---+\n",
      "only showing top 3 rows\n",
      "\n"
     ]
    }
   ],
   "source": [
    "bank_data = spark.read.json(\"file:///home/hadoop/Downloads/bank_edited.json\", multiLine=True)\n",
    "bank_data.show(3)"
   ]
  },
  {
   "cell_type": "code",
   "execution_count": 18,
   "id": "ceed0220",
   "metadata": {},
   "outputs": [
    {
     "name": "stdout",
     "output_type": "stream",
     "text": [
      "root\n",
      " |-- age: long (nullable = true)\n",
      " |-- balance: long (nullable = true)\n",
      " |-- campaign: long (nullable = true)\n",
      " |-- contact: string (nullable = true)\n",
      " |-- day: long (nullable = true)\n",
      " |-- default: string (nullable = true)\n",
      " |-- duration: long (nullable = true)\n",
      " |-- education: string (nullable = true)\n",
      " |-- housing: string (nullable = true)\n",
      " |-- job: string (nullable = true)\n",
      " |-- loan: string (nullable = true)\n",
      " |-- marital: string (nullable = true)\n",
      " |-- month: string (nullable = true)\n",
      " |-- pdays: long (nullable = true)\n",
      " |-- poutcome: string (nullable = true)\n",
      " |-- previous: long (nullable = true)\n",
      " |-- y: string (nullable = true)\n",
      "\n"
     ]
    }
   ],
   "source": [
    "bank_data.printSchema()"
   ]
  },
  {
   "cell_type": "markdown",
   "id": "0601556c",
   "metadata": {},
   "source": [
    "#### 2. TypeCasting Any one Column."
   ]
  },
  {
   "cell_type": "code",
   "execution_count": 19,
   "id": "ca3b9fda",
   "metadata": {},
   "outputs": [
    {
     "data": {
      "text/plain": [
       "DataFrame[age: int, balance: bigint, campaign: bigint, contact: string, day: bigint, default: string, duration: bigint, education: string, housing: string, job: string, loan: string, marital: string, month: string, pdays: bigint, poutcome: string, previous: bigint, y: string]"
      ]
     },
     "execution_count": 19,
     "metadata": {},
     "output_type": "execute_result"
    }
   ],
   "source": [
    "# Typecasting age from long to integer.\n",
    "bank_data.withColumn(\"age\", col(\"age\").cast(IntegerType()))"
   ]
  },
  {
   "cell_type": "markdown",
   "id": "64ce1e76",
   "metadata": {},
   "source": [
    "#### 3. Creating New Column from two strings."
   ]
  },
  {
   "cell_type": "code",
   "execution_count": 26,
   "id": "43f10d61",
   "metadata": {},
   "outputs": [
    {
     "name": "stdout",
     "output_type": "stream",
     "text": [
      "+---+----------+---------+------+------+---------+---------+------------+\n",
      "| id|first_name|last_name|gender|salary|     city|  country|   Full_Name|\n",
      "+---+----------+---------+------+------+---------+---------+------------+\n",
      "|  1|     Valma|     Sans|Female|983107|Mulyosari|Indonesia|  Valma Sans|\n",
      "|  2|     Paolo|   Kiddie|  Male|649173|  Niihama|    Japan|Paolo Kiddie|\n",
      "+---+----------+---------+------+------+---------+---------+------------+\n",
      "only showing top 2 rows\n",
      "\n"
     ]
    }
   ],
   "source": [
    "from pyspark.sql.functions import concat, lit\n",
    "\n",
    "people_df.withColumn(\"Full_Name\", concat(col(\"first_name\"), lit(\" \"), col(\"last_name\"))).show(2)"
   ]
  },
  {
   "cell_type": "markdown",
   "id": "439ddc3f",
   "metadata": {},
   "source": [
    "#### 4. Renaming Existing Column."
   ]
  },
  {
   "cell_type": "code",
   "execution_count": 28,
   "id": "6fcbdf76",
   "metadata": {},
   "outputs": [],
   "source": [
    "people_df = people_df.withColumnRenamed(\"salary\", \"income\")"
   ]
  },
  {
   "cell_type": "code",
   "execution_count": 29,
   "id": "c6187327",
   "metadata": {},
   "outputs": [
    {
     "data": {
      "text/plain": [
       "DataFrame[id: int, first_name: string, last_name: string, gender: string, income: bigint, city: string, country: string]"
      ]
     },
     "execution_count": 29,
     "metadata": {},
     "output_type": "execute_result"
    }
   ],
   "source": [
    "people_df"
   ]
  },
  {
   "cell_type": "markdown",
   "id": "b18cf914",
   "metadata": {},
   "source": [
    "#### 5. Limit()"
   ]
  },
  {
   "cell_type": "code",
   "execution_count": 31,
   "id": "5d87a6b5",
   "metadata": {
    "scrolled": true
   },
   "outputs": [
    {
     "name": "stdout",
     "output_type": "stream",
     "text": [
      "+---+----------+---------+------+------+---------+-----------+\n",
      "| id|first_name|last_name|gender|income|     city|    country|\n",
      "+---+----------+---------+------+------+---------+-----------+\n",
      "|  1|     Valma|     Sans|Female|983107|Mulyosari|  Indonesia|\n",
      "|  2|     Paolo|   Kiddie|  Male|649173|  Niihama|      Japan|\n",
      "|  3|    Miltie| De Zuani|  Male|352898|Dū Qal‘ah|Afghanistan|\n",
      "|  4|    Jarrid| Dalziell|  Male|170398|   Iberia|       Peru|\n",
      "|  5| Reinaldos|   Keeffe|  Male|440989| La Ronge|     Canada|\n",
      "+---+----------+---------+------+------+---------+-----------+\n",
      "\n"
     ]
    }
   ],
   "source": [
    "people_df.limit(5).show()"
   ]
  },
  {
   "cell_type": "markdown",
   "id": "d926f602",
   "metadata": {},
   "source": [
    "#### 6. OrderBy()\n",
    "    * Arrange Data in ascending & descending order."
   ]
  },
  {
   "cell_type": "code",
   "execution_count": 34,
   "id": "d0c4290a",
   "metadata": {
    "collapsed": true
   },
   "outputs": [
    {
     "name": "stdout",
     "output_type": "stream",
     "text": [
      "+---+----------+---------+------+------+------------+---------+\n",
      "| id|first_name|last_name|gender|income|        city|  country|\n",
      "+---+----------+---------+------+------+------------+---------+\n",
      "| 93|      Cory|    Prigg|  Male| 12876|     Gondang|Indonesia|\n",
      "|590|      Flem| Tumielli|  Male| 13347| Debre Zeyit| Ethiopia|\n",
      "|192|       Odo|  Conyers|  Male| 15555|  Raffingora| Zimbabwe|\n",
      "|407|  Barbabas|Ballingal|  Male| 18598|Beringinjaya|Indonesia|\n",
      "|297|     Daron|   Melato|Female| 19881|      Phayao| Thailand|\n",
      "+---+----------+---------+------+------+------------+---------+\n",
      "only showing top 5 rows\n",
      "\n"
     ]
    }
   ],
   "source": [
    "people_df.orderBy(['income'], ascending = True).show(5)"
   ]
  },
  {
   "cell_type": "code",
   "execution_count": 38,
   "id": "8a1fdee0",
   "metadata": {
    "scrolled": false
   },
   "outputs": [
    {
     "name": "stdout",
     "output_type": "stream",
     "text": [
      "+---+----------+------------+------+------+------------------+--------------+\n",
      "| id|first_name|   last_name|gender|income|              city|       country|\n",
      "+---+----------+------------+------+------+------------------+--------------+\n",
      "|490|  Cathlene|    Gatfield|Female|981605|           Mīrābād|   Afghanistan|\n",
      "|448|      Yuri|     Duggary|  Male|414107|     Sang-e Māshah|   Afghanistan|\n",
      "|  3|    Miltie|    De Zuani|  Male|352898|         Dū Qal‘ah|   Afghanistan|\n",
      "|155|    Guntar|    Langmuir|  Male|290613|             Khōst|   Afghanistan|\n",
      "|983|      Tiff|     Dreakin|Female|208548|             Āsmār|   Afghanistan|\n",
      "|290|     Myles|      Britch|  Male|191508|         Dū Laīnah|   Afghanistan|\n",
      "|419|   Ezekiel|   Fleetwood|  Male|163113|      Barakī Barak|   Afghanistan|\n",
      "|701|    Gerrie|      Heigho|  Male|503327|             Föglö| Aland Islands|\n",
      "|674|    Ludwig|    Bothwell|  Male|825171|         Martanesh|       Albania|\n",
      "|421|    Hamnet|     Maruska|  Male|129628|           Hoçisht|       Albania|\n",
      "|299|     Mordy|      Enrich|  Male|543696|          Fagatogo|American Samoa|\n",
      "|335|     Golda|     Tesimon|Female|953260|              Uíge|        Angola|\n",
      "| 98|     Gates|        Cars|Female|866673|              Luau|        Angola|\n",
      "|872|     Rycca|       Maund|Female|987858|              Azul|     Argentina|\n",
      "|587|      Cord|      Tuplin|  Male|962743|             Allen|     Argentina|\n",
      "|707|Hyacinthie|    Robjents|Female|942563| Villa Ojo de Agua|     Argentina|\n",
      "|285|     Meara|       Musla|Female|915901|            Zapala|     Argentina|\n",
      "|359|     Patsy|    Dodgshon|  Male|855456|Villa Constitución|     Argentina|\n",
      "|296|      Anya|   Trowsdall|Female|842606|   28 de Noviembre|     Argentina|\n",
      "|794|     Alain|Barrowclough|  Male|675649|         Concordia|     Argentina|\n",
      "+---+----------+------------+------+------+------------------+--------------+\n",
      "only showing top 20 rows\n",
      "\n"
     ]
    }
   ],
   "source": [
    "people_df.orderBy(['country','income'], ascending = [True, False]).show()"
   ]
  },
  {
   "cell_type": "markdown",
   "id": "03ce29ea",
   "metadata": {},
   "source": [
    "#### Materialized View\n",
    "    * createOrReplaceTempView()"
   ]
  },
  {
   "cell_type": "code",
   "execution_count": 39,
   "id": "1ded37d2",
   "metadata": {},
   "outputs": [],
   "source": [
    "bank_data.createOrReplaceTempView('bankdata')"
   ]
  },
  {
   "cell_type": "code",
   "execution_count": 41,
   "id": "340afe27",
   "metadata": {
    "collapsed": true
   },
   "outputs": [
    {
     "name": "stdout",
     "output_type": "stream",
     "text": [
      "+---+-------+--------+-------+---+-------+--------+---------+-------+----------+----+-------+-----+-----+--------+--------+---+\n",
      "|age|balance|campaign|contact|day|default|duration|education|housing|       job|loan|marital|month|pdays|poutcome|previous|  y|\n",
      "+---+-------+--------+-------+---+-------+--------+---------+-------+----------+----+-------+-----+-----+--------+--------+---+\n",
      "| 58|   2143|       1|unknown|  5|     no|     261| tertiary|    yes|management|  no|married|  may|   -1| unknown|       0| no|\n",
      "| 44|     29|       1|unknown|  5|     no|     151|secondary|    yes|technician|  no| single|  may|   -1| unknown|       0| no|\n",
      "+---+-------+--------+-------+---+-------+--------+---------+-------+----------+----+-------+-----+-----+--------+--------+---+\n",
      "only showing top 2 rows\n",
      "\n"
     ]
    }
   ],
   "source": [
    "spark.sql(\"select * from bankdata\").show(2)"
   ]
  },
  {
   "cell_type": "code",
   "execution_count": 44,
   "id": "99b0ffd9",
   "metadata": {
    "scrolled": false
   },
   "outputs": [
    {
     "name": "stdout",
     "output_type": "stream",
     "text": [
      "+-----+\n",
      "|count|\n",
      "+-----+\n",
      "|45211|\n",
      "+-----+\n",
      "\n"
     ]
    }
   ],
   "source": [
    "spark.sql(\"select count(*) as count from bankdata\").show()"
   ]
  },
  {
   "cell_type": "markdown",
   "id": "68377024",
   "metadata": {},
   "source": [
    "* Show the Top 10 Youngest Age Group Empoyee with Maximum Balance.\n",
    "* Show the Worst 5 Job Type Having Minimum Salary."
   ]
  },
  {
   "cell_type": "code",
   "execution_count": null,
   "id": "48eeccda",
   "metadata": {},
   "outputs": [],
   "source": []
  }
 ],
 "metadata": {
  "kernelspec": {
   "display_name": "Python 3",
   "language": "python",
   "name": "python3"
  },
  "language_info": {
   "codemirror_mode": {
    "name": "ipython",
    "version": 3
   },
   "file_extension": ".py",
   "mimetype": "text/x-python",
   "name": "python",
   "nbconvert_exporter": "python",
   "pygments_lexer": "ipython3",
   "version": "3.6.9"
  }
 },
 "nbformat": 4,
 "nbformat_minor": 5
}
