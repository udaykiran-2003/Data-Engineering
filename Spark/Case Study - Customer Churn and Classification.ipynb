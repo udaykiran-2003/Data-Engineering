{
 "cells": [
  {
   "cell_type": "code",
   "execution_count": 1,
   "id": "8572f98a",
   "metadata": {
    "collapsed": true
   },
   "outputs": [
    {
     "data": {
      "text/html": [
       "\n",
       "        <div>\n",
       "            <p><b>SparkContext</b></p>\n",
       "\n",
       "            <p><a href=\"http://10.0.2.15:4042\">Spark UI</a></p>\n",
       "\n",
       "            <dl>\n",
       "              <dt>Version</dt>\n",
       "                <dd><code>v2.4.8</code></dd>\n",
       "              <dt>Master</dt>\n",
       "                <dd><code>local[*]</code></dd>\n",
       "              <dt>AppName</dt>\n",
       "                <dd><code>PySparkShell</code></dd>\n",
       "            </dl>\n",
       "        </div>\n",
       "        "
      ],
      "text/plain": [
       "<SparkContext master=local[*] appName=PySparkShell>"
      ]
     },
     "execution_count": 1,
     "metadata": {},
     "output_type": "execute_result"
    }
   ],
   "source": [
    "sc"
   ]
  },
  {
   "cell_type": "code",
   "execution_count": 2,
   "id": "986ff403",
   "metadata": {
    "collapsed": true
   },
   "outputs": [
    {
     "data": {
      "text/html": [
       "\n",
       "            <div>\n",
       "                <p><b>SparkSession - hive</b></p>\n",
       "                \n",
       "        <div>\n",
       "            <p><b>SparkContext</b></p>\n",
       "\n",
       "            <p><a href=\"http://10.0.2.15:4042\">Spark UI</a></p>\n",
       "\n",
       "            <dl>\n",
       "              <dt>Version</dt>\n",
       "                <dd><code>v2.4.8</code></dd>\n",
       "              <dt>Master</dt>\n",
       "                <dd><code>local[*]</code></dd>\n",
       "              <dt>AppName</dt>\n",
       "                <dd><code>PySparkShell</code></dd>\n",
       "            </dl>\n",
       "        </div>\n",
       "        \n",
       "            </div>\n",
       "        "
      ],
      "text/plain": [
       "<pyspark.sql.session.SparkSession at 0x7f16d5409b70>"
      ]
     },
     "execution_count": 2,
     "metadata": {},
     "output_type": "execute_result"
    }
   ],
   "source": [
    "spark"
   ]
  },
  {
   "cell_type": "markdown",
   "id": "4e788ca6",
   "metadata": {},
   "source": [
    "#### 1. Read the Dataset"
   ]
  },
  {
   "cell_type": "code",
   "execution_count": 4,
   "id": "bc9f7760",
   "metadata": {
    "collapsed": true
   },
   "outputs": [
    {
     "data": {
      "text/plain": [
       "Row(customerID='7590-VHVEG', gender='Female', SeniorCitizen=0, Partner='Yes', Dependents='No', tenure=1, PhoneService='No', MultipleLines='No phone service', InternetService='DSL', OnlineSecurity='No', OnlineBackup='Yes', DeviceProtection='No', TechSupport='No', StreamingTV='No', StreamingMovies='No', Contract='Month-to-month', PaperlessBilling='Yes', PaymentMethod='Electronic check', MonthlyCharges=29.85, TotalCharges='29.85', Churn='No')"
      ]
     },
     "execution_count": 4,
     "metadata": {},
     "output_type": "execute_result"
    }
   ],
   "source": [
    "churn_data = spark.read.csv(\"file:///home/hadoop/Downloads/Telco_Customer_Churn.csv\",\n",
    "                           header = True, inferSchema=True)\n",
    "churn_data.head()"
   ]
  },
  {
   "cell_type": "code",
   "execution_count": 11,
   "id": "333993f5",
   "metadata": {},
   "outputs": [
    {
     "name": "stdout",
     "output_type": "stream",
     "text": [
      "+----------+------+-------------+-------+----------+------+------------+----------------+---------------+--------------+------------+----------------+-----------+-----------+---------------+--------------+----------------+--------------------+--------------+------------+-----+\n",
      "|customerID|gender|SeniorCitizen|Partner|Dependents|tenure|PhoneService|   MultipleLines|InternetService|OnlineSecurity|OnlineBackup|DeviceProtection|TechSupport|StreamingTV|StreamingMovies|      Contract|PaperlessBilling|       PaymentMethod|MonthlyCharges|TotalCharges|Churn|\n",
      "+----------+------+-------------+-------+----------+------+------------+----------------+---------------+--------------+------------+----------------+-----------+-----------+---------------+--------------+----------------+--------------------+--------------+------------+-----+\n",
      "|7590-VHVEG|Female|            0|    Yes|        No|     1|          No|No phone service|            DSL|            No|         Yes|              No|         No|         No|             No|Month-to-month|             Yes|    Electronic check|         29.85|       29.85|   No|\n",
      "|5575-GNVDE|  Male|            0|     No|        No|    34|         Yes|              No|            DSL|           Yes|          No|             Yes|         No|         No|             No|      One year|              No|        Mailed check|         56.95|      1889.5|   No|\n",
      "|3668-QPYBK|  Male|            0|     No|        No|     2|         Yes|              No|            DSL|           Yes|         Yes|              No|         No|         No|             No|Month-to-month|             Yes|        Mailed check|         53.85|      108.15|  Yes|\n",
      "|7795-CFOCW|  Male|            0|     No|        No|    45|          No|No phone service|            DSL|           Yes|          No|             Yes|        Yes|         No|             No|      One year|              No|Bank transfer (au...|          42.3|     1840.75|   No|\n",
      "|9237-HQITU|Female|            0|     No|        No|     2|         Yes|              No|    Fiber optic|            No|          No|              No|         No|         No|             No|Month-to-month|             Yes|    Electronic check|          70.7|      151.65|  Yes|\n",
      "+----------+------+-------------+-------+----------+------+------------+----------------+---------------+--------------+------------+----------------+-----------+-----------+---------------+--------------+----------------+--------------------+--------------+------------+-----+\n",
      "only showing top 5 rows\n",
      "\n"
     ]
    }
   ],
   "source": [
    "churn_data.show(5)"
   ]
  },
  {
   "cell_type": "markdown",
   "id": "506c86f4",
   "metadata": {},
   "source": [
    "#### 2. Data Exploration\n",
    "    a. How many customer records are in the dataset ?"
   ]
  },
  {
   "cell_type": "code",
   "execution_count": 6,
   "id": "2c766913",
   "metadata": {},
   "outputs": [
    {
     "data": {
      "text/plain": [
       "7043"
      ]
     },
     "execution_count": 6,
     "metadata": {},
     "output_type": "execute_result"
    }
   ],
   "source": [
    "churn_data.count()"
   ]
  },
  {
   "cell_type": "code",
   "execution_count": 7,
   "id": "fd23f313",
   "metadata": {},
   "outputs": [
    {
     "data": {
      "text/plain": [
       "21"
      ]
     },
     "execution_count": 7,
     "metadata": {},
     "output_type": "execute_result"
    }
   ],
   "source": [
    "len(churn_data.columns)"
   ]
  },
  {
   "cell_type": "code",
   "execution_count": 8,
   "id": "f9a71dcc",
   "metadata": {
    "collapsed": true
   },
   "outputs": [
    {
     "data": {
      "text/plain": [
       "['customerID',\n",
       " 'gender',\n",
       " 'SeniorCitizen',\n",
       " 'Partner',\n",
       " 'Dependents',\n",
       " 'tenure',\n",
       " 'PhoneService',\n",
       " 'MultipleLines',\n",
       " 'InternetService',\n",
       " 'OnlineSecurity',\n",
       " 'OnlineBackup',\n",
       " 'DeviceProtection',\n",
       " 'TechSupport',\n",
       " 'StreamingTV',\n",
       " 'StreamingMovies',\n",
       " 'Contract',\n",
       " 'PaperlessBilling',\n",
       " 'PaymentMethod',\n",
       " 'MonthlyCharges',\n",
       " 'TotalCharges',\n",
       " 'Churn']"
      ]
     },
     "execution_count": 8,
     "metadata": {},
     "output_type": "execute_result"
    }
   ],
   "source": [
    "churn_data.columns"
   ]
  },
  {
   "cell_type": "markdown",
   "id": "b9fd3043",
   "metadata": {},
   "source": [
    "    b. What is the distribution of gender among customers?"
   ]
  },
  {
   "cell_type": "code",
   "execution_count": 9,
   "id": "0fbd260d",
   "metadata": {},
   "outputs": [
    {
     "name": "stdout",
     "output_type": "stream",
     "text": [
      "root\n",
      " |-- customerID: string (nullable = true)\n",
      " |-- gender: string (nullable = true)\n",
      " |-- SeniorCitizen: integer (nullable = true)\n",
      " |-- Partner: string (nullable = true)\n",
      " |-- Dependents: string (nullable = true)\n",
      " |-- tenure: integer (nullable = true)\n",
      " |-- PhoneService: string (nullable = true)\n",
      " |-- MultipleLines: string (nullable = true)\n",
      " |-- InternetService: string (nullable = true)\n",
      " |-- OnlineSecurity: string (nullable = true)\n",
      " |-- OnlineBackup: string (nullable = true)\n",
      " |-- DeviceProtection: string (nullable = true)\n",
      " |-- TechSupport: string (nullable = true)\n",
      " |-- StreamingTV: string (nullable = true)\n",
      " |-- StreamingMovies: string (nullable = true)\n",
      " |-- Contract: string (nullable = true)\n",
      " |-- PaperlessBilling: string (nullable = true)\n",
      " |-- PaymentMethod: string (nullable = true)\n",
      " |-- MonthlyCharges: double (nullable = true)\n",
      " |-- TotalCharges: string (nullable = true)\n",
      " |-- Churn: string (nullable = true)\n",
      "\n"
     ]
    }
   ],
   "source": [
    "churn_data.printSchema()"
   ]
  },
  {
   "cell_type": "code",
   "execution_count": 10,
   "id": "5857edcd",
   "metadata": {
    "collapsed": true
   },
   "outputs": [
    {
     "name": "stdout",
     "output_type": "stream",
     "text": [
      "+------+-----+\n",
      "|gender|count|\n",
      "+------+-----+\n",
      "|Female| 3488|\n",
      "|  Male| 3555|\n",
      "+------+-----+\n",
      "\n"
     ]
    }
   ],
   "source": [
    "churn_data.groupBy(['gender']).count().show()"
   ]
  },
  {
   "cell_type": "markdown",
   "id": "fa9036ac",
   "metadata": {},
   "source": [
    "    c. What is the distribution of contract types among customers?"
   ]
  },
  {
   "cell_type": "code",
   "execution_count": 12,
   "id": "395acf69",
   "metadata": {
    "collapsed": true
   },
   "outputs": [
    {
     "name": "stdout",
     "output_type": "stream",
     "text": [
      "+--------------+-----+\n",
      "|      Contract|count|\n",
      "+--------------+-----+\n",
      "|Month-to-month| 3875|\n",
      "|      One year| 1473|\n",
      "|      Two year| 1695|\n",
      "+--------------+-----+\n",
      "\n"
     ]
    }
   ],
   "source": [
    "churn_data.groupBy(['Contract']).count().show()"
   ]
  },
  {
   "cell_type": "markdown",
   "id": "9ad611f5",
   "metadata": {},
   "source": [
    "    d. What is percentage of Customers who churned ?"
   ]
  },
  {
   "cell_type": "code",
   "execution_count": 14,
   "id": "dab4d63f",
   "metadata": {},
   "outputs": [
    {
     "data": {
      "text/plain": [
       "1869"
      ]
     },
     "execution_count": 14,
     "metadata": {},
     "output_type": "execute_result"
    }
   ],
   "source": [
    "churn_data.select(['Churn']).where(\"Churn = 'Yes'\").count()"
   ]
  },
  {
   "cell_type": "code",
   "execution_count": 15,
   "id": "25334e5d",
   "metadata": {},
   "outputs": [
    {
     "data": {
      "text/plain": [
       "26.536987079369588"
      ]
     },
     "execution_count": 15,
     "metadata": {},
     "output_type": "execute_result"
    }
   ],
   "source": [
    "churn_data.select(['Churn']).where(\"Churn = 'Yes'\").count()/churn_data.count() * 100"
   ]
  },
  {
   "cell_type": "markdown",
   "id": "edfaa6ed",
   "metadata": {},
   "source": [
    "#### 3. Data Preprocessing\n",
    "    * Check for Missing values and Handle missing data."
   ]
  },
  {
   "cell_type": "code",
   "execution_count": 16,
   "id": "5a5f2f48",
   "metadata": {},
   "outputs": [],
   "source": [
    "from pyspark.sql.functions import *\n",
    "from pyspark.sql.types import *"
   ]
  },
  {
   "cell_type": "code",
   "execution_count": 19,
   "id": "1bdbe059",
   "metadata": {
    "collapsed": true
   },
   "outputs": [
    {
     "name": "stdout",
     "output_type": "stream",
     "text": [
      "+----------+------+-------------+-------+----------+------+------------+-------------+---------------+--------------+------------+----------------+-----------+-----------+---------------+--------+----------------+-------------+--------------+------------+-----+\n",
      "|customerID|gender|SeniorCitizen|Partner|Dependents|tenure|PhoneService|MultipleLines|InternetService|OnlineSecurity|OnlineBackup|DeviceProtection|TechSupport|StreamingTV|StreamingMovies|Contract|PaperlessBilling|PaymentMethod|MonthlyCharges|TotalCharges|Churn|\n",
      "+----------+------+-------------+-------+----------+------+------------+-------------+---------------+--------------+------------+----------------+-----------+-----------+---------------+--------+----------------+-------------+--------------+------------+-----+\n",
      "|         0|     0|            0|      0|         0|     0|           0|            0|              0|             0|           0|               0|          0|          0|              0|       0|               0|            0|             0|           0|    0|\n",
      "+----------+------+-------------+-------+----------+------+------------+-------------+---------------+--------------+------------+----------------+-----------+-----------+---------------+--------+----------------+-------------+--------------+------------+-----+\n",
      "\n"
     ]
    }
   ],
   "source": [
    "churn_data.select([count(when(isnull(col), col)).alias(col) for col in churn_data.columns ]).show()"
   ]
  },
  {
   "cell_type": "code",
   "execution_count": 22,
   "id": "69c52a49",
   "metadata": {},
   "outputs": [],
   "source": [
    "churn_data = churn_data.withColumn('TotalCharges', when(col('TotalCharges') == \" \", None)\\\n",
    "                      .otherwise(col(\"TotalCharges\")))"
   ]
  },
  {
   "cell_type": "code",
   "execution_count": 23,
   "id": "dd88f3af",
   "metadata": {
    "collapsed": true
   },
   "outputs": [
    {
     "name": "stdout",
     "output_type": "stream",
     "text": [
      "+----------+------+-------------+-------+----------+------+------------+-------------+---------------+--------------+------------+----------------+-----------+-----------+---------------+--------+----------------+-------------+--------------+------------+-----+\n",
      "|customerID|gender|SeniorCitizen|Partner|Dependents|tenure|PhoneService|MultipleLines|InternetService|OnlineSecurity|OnlineBackup|DeviceProtection|TechSupport|StreamingTV|StreamingMovies|Contract|PaperlessBilling|PaymentMethod|MonthlyCharges|TotalCharges|Churn|\n",
      "+----------+------+-------------+-------+----------+------+------------+-------------+---------------+--------------+------------+----------------+-----------+-----------+---------------+--------+----------------+-------------+--------------+------------+-----+\n",
      "|         0|     0|            0|      0|         0|     0|           0|            0|              0|             0|           0|               0|          0|          0|              0|       0|               0|            0|             0|          11|    0|\n",
      "+----------+------+-------------+-------+----------+------+------------+-------------+---------------+--------------+------------+----------------+-----------+-----------+---------------+--------+----------------+-------------+--------------+------------+-----+\n",
      "\n"
     ]
    }
   ],
   "source": [
    "churn_data.select([count(when(isnull(col), col)).alias(col) for col in churn_data.columns ]).show()"
   ]
  },
  {
   "cell_type": "code",
   "execution_count": 25,
   "id": "31474ffd",
   "metadata": {},
   "outputs": [],
   "source": [
    "churn_data1 = churn_data.na.drop()"
   ]
  },
  {
   "cell_type": "code",
   "execution_count": 30,
   "id": "ddef2425",
   "metadata": {},
   "outputs": [],
   "source": [
    "from pyspark.sql.types import FloatType\n",
    "\n",
    "churn_data1 = churn_data1.withColumn('TotalCharges', col('TotalCharges').cast(FloatType()))"
   ]
  },
  {
   "cell_type": "markdown",
   "id": "8994cbbc",
   "metadata": {},
   "source": [
    "#### 4. Import Mllib\n",
    "    \n",
    "    f. Convert categorical variables into numerical format using one-hot encoding or label encoding."
   ]
  },
  {
   "cell_type": "code",
   "execution_count": 58,
   "id": "1b9c7d8f",
   "metadata": {},
   "outputs": [],
   "source": [
    "churn_data1 = churn_data1.drop(col('customerID'))"
   ]
  },
  {
   "cell_type": "code",
   "execution_count": 33,
   "id": "0bcd7d86",
   "metadata": {},
   "outputs": [],
   "source": [
    "from pyspark.ml.feature import StringIndexer, OneHotEncoderEstimator, VectorAssembler\n",
    "from pyspark.ml import Pipeline"
   ]
  },
  {
   "cell_type": "code",
   "execution_count": 34,
   "id": "c30832c5",
   "metadata": {
    "scrolled": true
   },
   "outputs": [
    {
     "name": "stdout",
     "output_type": "stream",
     "text": [
      "['customerID', 'gender', 'SeniorCitizen', 'Partner', 'Dependents', 'tenure', 'PhoneService', 'MultipleLines', 'InternetService', 'OnlineSecurity', 'OnlineBackup', 'DeviceProtection', 'TechSupport', 'StreamingTV', 'StreamingMovies', 'Contract', 'PaperlessBilling', 'PaymentMethod', 'MonthlyCharges', 'TotalCharges', 'Churn']\n"
     ]
    }
   ],
   "source": [
    "print(churn_data1.columns)"
   ]
  },
  {
   "cell_type": "code",
   "execution_count": 59,
   "id": "6418bf05",
   "metadata": {},
   "outputs": [],
   "source": [
    "categorical_cols = [field.name for field in churn_data1.schema.fields \\\n",
    "            if isinstance(field.dataType,StringType)]"
   ]
  },
  {
   "cell_type": "code",
   "execution_count": 75,
   "id": "d1999926",
   "metadata": {},
   "outputs": [
    {
     "name": "stdout",
     "output_type": "stream",
     "text": [
      "['gender', 'Partner', 'Dependents', 'PhoneService', 'MultipleLines', 'InternetService', 'OnlineSecurity', 'OnlineBackup', 'DeviceProtection', 'TechSupport', 'StreamingTV', 'StreamingMovies', 'Contract', 'PaperlessBilling', 'PaymentMethod']\n"
     ]
    }
   ],
   "source": [
    "print(categorical_cols[:-1])"
   ]
  },
  {
   "cell_type": "code",
   "execution_count": 76,
   "id": "23d71fa2",
   "metadata": {},
   "outputs": [],
   "source": [
    "stages = []\n",
    "\n",
    "for catcols in categorical_cols[:-1]:\n",
    "    stringindexer = StringIndexer(inputCol= catcols, outputCol=catcols + \"Index\")\n",
    "    onehotencoder = OneHotEncoderEstimator(inputCols=[stringindexer.getOutputCol()],\n",
    "                                          outputCols=[catcols + \"classVec\"])\n",
    "    stages += [stringindexer , onehotencoder]"
   ]
  },
  {
   "cell_type": "code",
   "execution_count": 77,
   "id": "b5a13744",
   "metadata": {},
   "outputs": [
    {
     "data": {
      "text/plain": [
       "['SeniorCitizen', 'tenure', 'MonthlyCharges', 'TotalCharges']"
      ]
     },
     "execution_count": 77,
     "metadata": {},
     "output_type": "execute_result"
    }
   ],
   "source": [
    "[field.name for field in churn_data1.schema.fields \\\n",
    "            if not isinstance(field.dataType,StringType)]"
   ]
  },
  {
   "cell_type": "code",
   "execution_count": 78,
   "id": "133fbff6",
   "metadata": {},
   "outputs": [],
   "source": [
    "numericalCols = ['SeniorCitizen', 'tenure', 'MonthlyCharges', 'TotalCharges']"
   ]
  },
  {
   "cell_type": "code",
   "execution_count": 79,
   "id": "edfdaf70",
   "metadata": {},
   "outputs": [],
   "source": [
    "assemblerInputs = [c + \"classVec\" for c in categorical_cols[:-1]] + numericalCols\n",
    "assembler = VectorAssembler(inputCols=assemblerInputs, outputCol=\"features\")\n",
    "stages += [assembler]"
   ]
  },
  {
   "cell_type": "code",
   "execution_count": 80,
   "id": "ce49a3f4",
   "metadata": {},
   "outputs": [],
   "source": [
    "label_stringIdx = StringIndexer(inputCol='Churn', outputCol='label')"
   ]
  },
  {
   "cell_type": "code",
   "execution_count": 81,
   "id": "cfc8cd1a",
   "metadata": {},
   "outputs": [],
   "source": [
    "stages += [label_stringIdx]"
   ]
  },
  {
   "cell_type": "code",
   "execution_count": 82,
   "id": "76beb677",
   "metadata": {},
   "outputs": [],
   "source": [
    "pipeline = Pipeline(stages=stages)"
   ]
  },
  {
   "cell_type": "code",
   "execution_count": 83,
   "id": "ca81e0f5",
   "metadata": {},
   "outputs": [],
   "source": [
    "preprocessing = pipeline.fit(churn_data1)"
   ]
  },
  {
   "cell_type": "code",
   "execution_count": 84,
   "id": "a3e9317d",
   "metadata": {},
   "outputs": [],
   "source": [
    "churn_df = preprocessing.transform(churn_data1)"
   ]
  },
  {
   "cell_type": "code",
   "execution_count": 87,
   "id": "600b7d1a",
   "metadata": {
    "collapsed": true
   },
   "outputs": [
    {
     "name": "stdout",
     "output_type": "stream",
     "text": [
      "+--------------+-------------+----------------+\n",
      "|      Contract|ContractIndex|ContractclassVec|\n",
      "+--------------+-------------+----------------+\n",
      "|Month-to-month|          0.0|   (2,[0],[1.0])|\n",
      "|      One year|          2.0|       (2,[],[])|\n",
      "|Month-to-month|          0.0|   (2,[0],[1.0])|\n",
      "|      One year|          2.0|       (2,[],[])|\n",
      "|Month-to-month|          0.0|   (2,[0],[1.0])|\n",
      "|Month-to-month|          0.0|   (2,[0],[1.0])|\n",
      "|Month-to-month|          0.0|   (2,[0],[1.0])|\n",
      "|Month-to-month|          0.0|   (2,[0],[1.0])|\n",
      "|Month-to-month|          0.0|   (2,[0],[1.0])|\n",
      "|      One year|          2.0|       (2,[],[])|\n",
      "|Month-to-month|          0.0|   (2,[0],[1.0])|\n",
      "|      Two year|          1.0|   (2,[1],[1.0])|\n",
      "|      One year|          2.0|       (2,[],[])|\n",
      "|Month-to-month|          0.0|   (2,[0],[1.0])|\n",
      "|Month-to-month|          0.0|   (2,[0],[1.0])|\n",
      "|      Two year|          1.0|   (2,[1],[1.0])|\n",
      "|      One year|          2.0|       (2,[],[])|\n",
      "|      Two year|          1.0|   (2,[1],[1.0])|\n",
      "|Month-to-month|          0.0|   (2,[0],[1.0])|\n",
      "|Month-to-month|          0.0|   (2,[0],[1.0])|\n",
      "+--------------+-------------+----------------+\n",
      "only showing top 20 rows\n",
      "\n"
     ]
    }
   ],
   "source": [
    "churn_df.select(['Contract','ContractIndex','ContractclassVec']).show()"
   ]
  },
  {
   "cell_type": "code",
   "execution_count": 89,
   "id": "677ac62b",
   "metadata": {
    "collapsed": true
   },
   "outputs": [
    {
     "name": "stdout",
     "output_type": "stream",
     "text": [
      "+------------------------------------------------------------------------------------------------------------------------------------------------+-----+\n",
      "|features                                                                                                                                        |label|\n",
      "+------------------------------------------------------------------------------------------------------------------------------------------------+-----+\n",
      "|(30,[2,7,8,11,12,14,16,18,20,22,23,27,28,29],[1.0,1.0,1.0,1.0,1.0,1.0,1.0,1.0,1.0,1.0,1.0,1.0,29.85,29.850000381469727])                        |0.0  |\n",
      "|(30,[0,1,2,3,4,7,9,10,13,14,16,18,24,27,28,29],[1.0,1.0,1.0,1.0,1.0,1.0,1.0,1.0,1.0,1.0,1.0,1.0,1.0,34.0,56.95,1889.5])                         |0.0  |\n",
      "|(30,[0,1,2,3,4,7,9,11,12,14,16,18,20,22,24,27,28,29],[1.0,1.0,1.0,1.0,1.0,1.0,1.0,1.0,1.0,1.0,1.0,1.0,1.0,1.0,1.0,2.0,53.85,108.1500015258789]) |1.0  |\n",
      "|(30,[0,1,2,7,9,10,13,15,16,18,25,27,28,29],[1.0,1.0,1.0,1.0,1.0,1.0,1.0,1.0,1.0,1.0,1.0,45.0,42.3,1840.75])                                     |0.0  |\n",
      "|(30,[1,2,3,4,6,8,10,12,14,16,18,20,22,23,27,28,29],[1.0,1.0,1.0,1.0,1.0,1.0,1.0,1.0,1.0,1.0,1.0,1.0,1.0,1.0,2.0,70.7,151.64999389648438])       |1.0  |\n",
      "|(30,[1,2,3,5,6,8,10,13,14,17,19,20,22,23,27,28,29],[1.0,1.0,1.0,1.0,1.0,1.0,1.0,1.0,1.0,1.0,1.0,1.0,1.0,1.0,8.0,99.65,820.5])                   |1.0  |\n",
      "|(30,[0,1,3,5,6,8,11,12,14,17,18,20,22,27,28,29],[1.0,1.0,1.0,1.0,1.0,1.0,1.0,1.0,1.0,1.0,1.0,1.0,1.0,22.0,89.1,1949.4000244140625])             |0.0  |\n",
      "|(30,[1,2,7,9,10,12,14,16,18,20,24,27,28,29],[1.0,1.0,1.0,1.0,1.0,1.0,1.0,1.0,1.0,1.0,1.0,10.0,29.75,301.8999938964844])                         |0.0  |\n",
      "|(30,[2,3,5,6,8,10,13,15,17,19,20,22,23,27,28,29],[1.0,1.0,1.0,1.0,1.0,1.0,1.0,1.0,1.0,1.0,1.0,1.0,1.0,28.0,104.8,3046.050048828125])            |1.0  |\n",
      "|(30,[0,1,3,4,7,9,11,12,14,16,18,25,27,28,29],[1.0,1.0,1.0,1.0,1.0,1.0,1.0,1.0,1.0,1.0,1.0,1.0,62.0,56.15,3487.949951171875])                    |0.0  |\n",
      "|(30,[0,3,4,7,9,10,12,14,16,18,20,22,24,27,28,29],[1.0,1.0,1.0,1.0,1.0,1.0,1.0,1.0,1.0,1.0,1.0,1.0,1.0,13.0,49.95,587.4500122070312])            |0.0  |\n",
      "|(30,[0,1,2,3,4,21,27,28,29],[1.0,1.0,1.0,1.0,1.0,1.0,16.0,18.95,326.79998779296875])                                                            |0.0  |\n",
      "|(30,[0,2,3,5,6,8,10,13,14,17,19,27,28,29],[1.0,1.0,1.0,1.0,1.0,1.0,1.0,1.0,1.0,1.0,1.0,58.0,100.35,5681.10009765625])                           |0.0  |\n",
      "|(30,[0,1,2,3,5,6,8,11,13,14,17,19,20,22,25,27,28,29],[1.0,1.0,1.0,1.0,1.0,1.0,1.0,1.0,1.0,1.0,1.0,1.0,1.0,1.0,1.0,49.0,103.7,5036.2998046875])  |1.0  |\n",
      "|(30,[0,1,2,3,4,6,9,10,13,15,17,19,20,22,23,27,28,29],[1.0,1.0,1.0,1.0,1.0,1.0,1.0,1.0,1.0,1.0,1.0,1.0,1.0,1.0,1.0,25.0,105.5,2686.050048828125])|0.0  |\n",
      "|(30,[3,5,6,9,11,13,15,17,19,21,27,28,29],[1.0,1.0,1.0,1.0,1.0,1.0,1.0,1.0,1.0,1.0,69.0,113.25,7895.14990234375])                                |0.0  |\n",
      "|(30,[1,2,3,4,24,27,28,29],[1.0,1.0,1.0,1.0,1.0,52.0,20.65,1022.9500122070312])                                                                  |0.0  |\n",
      "|(30,[0,1,3,5,6,9,10,13,14,17,19,21,25,27,28,29],[1.0,1.0,1.0,1.0,1.0,1.0,1.0,1.0,1.0,1.0,1.0,1.0,1.0,71.0,106.7,7382.25])                       |0.0  |\n",
      "|(30,[3,4,7,8,10,13,15,16,18,20,27,28,29],[1.0,1.0,1.0,1.0,1.0,1.0,1.0,1.0,1.0,1.0,10.0,55.2,528.3499755859375])                                 |1.0  |\n",
      "|(30,[1,2,3,4,6,8,11,13,14,16,19,20,22,23,27,28,29],[1.0,1.0,1.0,1.0,1.0,1.0,1.0,1.0,1.0,1.0,1.0,1.0,1.0,1.0,21.0,90.05,1862.9000244140625])     |0.0  |\n",
      "+------------------------------------------------------------------------------------------------------------------------------------------------+-----+\n",
      "only showing top 20 rows\n",
      "\n"
     ]
    }
   ],
   "source": [
    "churn_df1 = churn_df.select([\"features\",\"label\"])\n",
    "churn_df1.show(truncate=False)"
   ]
  },
  {
   "cell_type": "markdown",
   "id": "3f1440b3",
   "metadata": {},
   "source": [
    "#### Split Dataset into Train and Test"
   ]
  },
  {
   "cell_type": "code",
   "execution_count": 133,
   "id": "66c819fc",
   "metadata": {},
   "outputs": [],
   "source": [
    "train, test = churn_df1.randomSplit([0.8, 0.2], seed = 42)"
   ]
  },
  {
   "cell_type": "code",
   "execution_count": 134,
   "id": "fdd91ed8",
   "metadata": {},
   "outputs": [
    {
     "data": {
      "text/plain": [
       "DataFrame[features: vector, label: double]"
      ]
     },
     "execution_count": 134,
     "metadata": {},
     "output_type": "execute_result"
    }
   ],
   "source": [
    "train.select(['features','label'])"
   ]
  },
  {
   "cell_type": "markdown",
   "id": "0d9aab2d",
   "metadata": {},
   "source": [
    "#### Build Decision Tree ML Model"
   ]
  },
  {
   "cell_type": "code",
   "execution_count": 135,
   "id": "1cbea8c9",
   "metadata": {},
   "outputs": [],
   "source": [
    "from pyspark.ml.classification import DecisionTreeClassifier, RandomForestClassifier\n",
    "tree = DecisionTreeClassifier(featuresCol='features', labelCol='label')\n",
    "decision_model = tree.fit(train)"
   ]
  },
  {
   "cell_type": "markdown",
   "id": "416a240b",
   "metadata": {},
   "source": [
    "#### Evaluate the Model"
   ]
  },
  {
   "cell_type": "code",
   "execution_count": 136,
   "id": "ea9700a2",
   "metadata": {},
   "outputs": [],
   "source": [
    "predictions = decision_model.transform(test)"
   ]
  },
  {
   "cell_type": "code",
   "execution_count": 137,
   "id": "db3d0be9",
   "metadata": {
    "collapsed": true
   },
   "outputs": [
    {
     "name": "stdout",
     "output_type": "stream",
     "text": [
      "+-----+----------------------------------------+----------+\n",
      "|label|probability                             |prediction|\n",
      "+-----+----------------------------------------+----------+\n",
      "|1.0  |[0.11170212765957446,0.8882978723404256]|1.0       |\n",
      "|1.0  |[0.11170212765957446,0.8882978723404256]|1.0       |\n",
      "|1.0  |[0.11170212765957446,0.8882978723404256]|1.0       |\n",
      "|0.0  |[0.11170212765957446,0.8882978723404256]|1.0       |\n",
      "|0.0  |[0.35760517799352753,0.6423948220064725]|1.0       |\n",
      "|0.0  |[0.35760517799352753,0.6423948220064725]|1.0       |\n",
      "|0.0  |[0.35760517799352753,0.6423948220064725]|1.0       |\n",
      "|0.0  |[0.35760517799352753,0.6423948220064725]|1.0       |\n",
      "|1.0  |[0.6820388349514563,0.3179611650485437] |0.0       |\n",
      "|1.0  |[0.35760517799352753,0.6423948220064725]|1.0       |\n",
      "|1.0  |[0.11170212765957446,0.8882978723404256]|1.0       |\n",
      "|1.0  |[0.11170212765957446,0.8882978723404256]|1.0       |\n",
      "|1.0  |[0.11170212765957446,0.8882978723404256]|1.0       |\n",
      "|0.0  |[0.11170212765957446,0.8882978723404256]|1.0       |\n",
      "|1.0  |[0.11170212765957446,0.8882978723404256]|1.0       |\n",
      "|0.0  |[0.5714285714285714,0.42857142857142855]|0.0       |\n",
      "|1.0  |[0.4930232558139535,0.5069767441860465] |1.0       |\n",
      "|0.0  |[0.4930232558139535,0.5069767441860465] |1.0       |\n",
      "|0.0  |[0.35760517799352753,0.6423948220064725]|1.0       |\n",
      "|1.0  |[0.35760517799352753,0.6423948220064725]|1.0       |\n",
      "+-----+----------------------------------------+----------+\n",
      "only showing top 20 rows\n",
      "\n"
     ]
    }
   ],
   "source": [
    "predictions.select(['label','probability','prediction']).show(truncate=False)"
   ]
  },
  {
   "cell_type": "code",
   "execution_count": 138,
   "id": "2939a97f",
   "metadata": {},
   "outputs": [
    {
     "data": {
      "text/plain": [
       "0.8041085840058694"
      ]
     },
     "execution_count": 138,
     "metadata": {},
     "output_type": "execute_result"
    }
   ],
   "source": [
    "from pyspark.ml.evaluation import MulticlassClassificationEvaluator\n",
    "evaluator = MulticlassClassificationEvaluator(labelCol=\"label\", predictionCol=\"prediction\",\n",
    "                                             metricName=\"accuracy\")\n",
    "accuracy = evaluator.evaluate(predictions)\n",
    "accuracy"
   ]
  },
  {
   "cell_type": "markdown",
   "id": "9a276544",
   "metadata": {},
   "source": [
    "#### Build Random Forest ML Model"
   ]
  },
  {
   "cell_type": "code",
   "execution_count": 139,
   "id": "df47d7e4",
   "metadata": {},
   "outputs": [],
   "source": [
    "from pyspark.ml.classification import RandomForestClassifier\n",
    "randomForest = RandomForestClassifier(featuresCol='features', labelCol='label')\n",
    "rf_model = randomForest.fit(train)"
   ]
  },
  {
   "cell_type": "code",
   "execution_count": 140,
   "id": "2c4b4841",
   "metadata": {},
   "outputs": [],
   "source": [
    "predictions = rf_model.transform(test)"
   ]
  },
  {
   "cell_type": "code",
   "execution_count": 141,
   "id": "4576e416",
   "metadata": {},
   "outputs": [
    {
     "data": {
      "text/plain": [
       "0.7945707997065297"
      ]
     },
     "execution_count": 141,
     "metadata": {},
     "output_type": "execute_result"
    }
   ],
   "source": [
    "from pyspark.ml.evaluation import MulticlassClassificationEvaluator\n",
    "evaluator = MulticlassClassificationEvaluator(labelCol=\"label\", predictionCol=\"prediction\",\n",
    "                                             metricName=\"accuracy\")\n",
    "accuracy = evaluator.evaluate(predictions)\n",
    "accuracy"
   ]
  },
  {
   "cell_type": "markdown",
   "id": "487c60d9",
   "metadata": {},
   "source": [
    "#### Logistic Regression ML Model"
   ]
  },
  {
   "cell_type": "code",
   "execution_count": 142,
   "id": "b7fabd38",
   "metadata": {},
   "outputs": [],
   "source": [
    "from pyspark.ml.classification import LogisticRegression\n",
    "logistic = LogisticRegression(featuresCol='features', labelCol='label')\n",
    "logit_model = logistic.fit(train)"
   ]
  },
  {
   "cell_type": "code",
   "execution_count": 143,
   "id": "93647558",
   "metadata": {},
   "outputs": [],
   "source": [
    "predictions = logit_model.transform(test)"
   ]
  },
  {
   "cell_type": "code",
   "execution_count": 144,
   "id": "f453b233",
   "metadata": {},
   "outputs": [
    {
     "data": {
      "text/plain": [
       "0.8129126925898753"
      ]
     },
     "execution_count": 144,
     "metadata": {},
     "output_type": "execute_result"
    }
   ],
   "source": [
    "from pyspark.ml.evaluation import MulticlassClassificationEvaluator\n",
    "evaluator = MulticlassClassificationEvaluator(labelCol=\"label\", predictionCol=\"prediction\",\n",
    "                                             metricName=\"accuracy\")\n",
    "accuracy = evaluator.evaluate(predictions)\n",
    "accuracy"
   ]
  },
  {
   "cell_type": "code",
   "execution_count": null,
   "id": "cfe0ff52",
   "metadata": {},
   "outputs": [],
   "source": []
  }
 ],
 "metadata": {
  "kernelspec": {
   "display_name": "Python 3",
   "language": "python",
   "name": "python3"
  },
  "language_info": {
   "codemirror_mode": {
    "name": "ipython",
    "version": 3
   },
   "file_extension": ".py",
   "mimetype": "text/x-python",
   "name": "python",
   "nbconvert_exporter": "python",
   "pygments_lexer": "ipython3",
   "version": "3.6.9"
  }
 },
 "nbformat": 4,
 "nbformat_minor": 5
}
