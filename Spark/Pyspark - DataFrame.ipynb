{
 "cells": [
  {
   "cell_type": "code",
   "execution_count": 1,
   "id": "0e33cbd8",
   "metadata": {},
   "outputs": [
    {
     "data": {
      "text/html": [
       "\n",
       "        <div>\n",
       "            <p><b>SparkContext</b></p>\n",
       "\n",
       "            <p><a href=\"http://10.0.2.15:4041\">Spark UI</a></p>\n",
       "\n",
       "            <dl>\n",
       "              <dt>Version</dt>\n",
       "                <dd><code>v2.4.8</code></dd>\n",
       "              <dt>Master</dt>\n",
       "                <dd><code>local[*]</code></dd>\n",
       "              <dt>AppName</dt>\n",
       "                <dd><code>PySparkShell</code></dd>\n",
       "            </dl>\n",
       "        </div>\n",
       "        "
      ],
      "text/plain": [
       "<SparkContext master=local[*] appName=PySparkShell>"
      ]
     },
     "execution_count": 1,
     "metadata": {},
     "output_type": "execute_result"
    }
   ],
   "source": [
    "sc"
   ]
  },
  {
   "cell_type": "code",
   "execution_count": 2,
   "id": "5c72847d",
   "metadata": {},
   "outputs": [
    {
     "data": {
      "text/html": [
       "\n",
       "            <div>\n",
       "                <p><b>SparkSession - hive</b></p>\n",
       "                \n",
       "        <div>\n",
       "            <p><b>SparkContext</b></p>\n",
       "\n",
       "            <p><a href=\"http://10.0.2.15:4041\">Spark UI</a></p>\n",
       "\n",
       "            <dl>\n",
       "              <dt>Version</dt>\n",
       "                <dd><code>v2.4.8</code></dd>\n",
       "              <dt>Master</dt>\n",
       "                <dd><code>local[*]</code></dd>\n",
       "              <dt>AppName</dt>\n",
       "                <dd><code>PySparkShell</code></dd>\n",
       "            </dl>\n",
       "        </div>\n",
       "        \n",
       "            </div>\n",
       "        "
      ],
      "text/plain": [
       "<pyspark.sql.session.SparkSession at 0x7f1d80104b00>"
      ]
     },
     "execution_count": 2,
     "metadata": {},
     "output_type": "execute_result"
    }
   ],
   "source": [
    "spark"
   ]
  },
  {
   "cell_type": "markdown",
   "id": "e82788b1",
   "metadata": {},
   "source": [
    "1. Create a New Spark Session Instance."
   ]
  },
  {
   "cell_type": "code",
   "execution_count": 3,
   "id": "aa4273a7",
   "metadata": {},
   "outputs": [],
   "source": [
    "sc.stop()"
   ]
  },
  {
   "cell_type": "code",
   "execution_count": 4,
   "id": "84a317f7",
   "metadata": {},
   "outputs": [],
   "source": [
    "from pyspark import SparkConf, SparkContext\n",
    "# setMaster() - Set Spark Content Manager which is local[cpu_cores] \n",
    "config = SparkConf().setMaster(\"local[4]\").setAppName(\"PySparkSession\")\n",
    "sc = SparkContext(conf=config)"
   ]
  },
  {
   "cell_type": "code",
   "execution_count": 5,
   "id": "9aad51e5",
   "metadata": {},
   "outputs": [],
   "source": [
    "from pyspark.sql import SparkSession\n",
    "spark = SparkSession.builder.appName(\"SQlSession\").getOrCreate()"
   ]
  },
  {
   "cell_type": "code",
   "execution_count": 6,
   "id": "a9efd610",
   "metadata": {},
   "outputs": [
    {
     "data": {
      "text/html": [
       "\n",
       "            <div>\n",
       "                <p><b>SparkSession - hive</b></p>\n",
       "                \n",
       "        <div>\n",
       "            <p><b>SparkContext</b></p>\n",
       "\n",
       "            <p><a href=\"http://10.0.2.15:4041\">Spark UI</a></p>\n",
       "\n",
       "            <dl>\n",
       "              <dt>Version</dt>\n",
       "                <dd><code>v2.4.8</code></dd>\n",
       "              <dt>Master</dt>\n",
       "                <dd><code>local[4]</code></dd>\n",
       "              <dt>AppName</dt>\n",
       "                <dd><code>PySparkSession</code></dd>\n",
       "            </dl>\n",
       "        </div>\n",
       "        \n",
       "            </div>\n",
       "        "
      ],
      "text/plain": [
       "<pyspark.sql.session.SparkSession at 0x7f1d71ed1550>"
      ]
     },
     "execution_count": 6,
     "metadata": {},
     "output_type": "execute_result"
    }
   ],
   "source": [
    "spark"
   ]
  },
  {
   "cell_type": "code",
   "execution_count": 7,
   "id": "f8f14f63",
   "metadata": {},
   "outputs": [
    {
     "data": {
      "text/html": [
       "\n",
       "        <div>\n",
       "            <p><b>SparkContext</b></p>\n",
       "\n",
       "            <p><a href=\"http://10.0.2.15:4041\">Spark UI</a></p>\n",
       "\n",
       "            <dl>\n",
       "              <dt>Version</dt>\n",
       "                <dd><code>v2.4.8</code></dd>\n",
       "              <dt>Master</dt>\n",
       "                <dd><code>local[4]</code></dd>\n",
       "              <dt>AppName</dt>\n",
       "                <dd><code>PySparkSession</code></dd>\n",
       "            </dl>\n",
       "        </div>\n",
       "        "
      ],
      "text/plain": [
       "<SparkContext master=local[4] appName=PySparkSession>"
      ]
     },
     "execution_count": 7,
     "metadata": {},
     "output_type": "execute_result"
    }
   ],
   "source": [
    "sc"
   ]
  },
  {
   "cell_type": "code",
   "execution_count": 8,
   "id": "1d12bf92",
   "metadata": {},
   "outputs": [
    {
     "name": "stdout",
     "output_type": "stream",
     "text": [
      "mkdir: `/flights': File exists\r\n"
     ]
    }
   ],
   "source": [
    "!hdfs dfs -mkdir /flights"
   ]
  },
  {
   "cell_type": "code",
   "execution_count": 9,
   "id": "6f268145",
   "metadata": {},
   "outputs": [
    {
     "name": "stdout",
     "output_type": "stream",
     "text": [
      "put: `/flights/raw_flight_data.csv': File exists\r\n"
     ]
    }
   ],
   "source": [
    "!hdfs dfs -put /home/hadoop/Downloads/raw_flight_data.csv /flights"
   ]
  },
  {
   "cell_type": "code",
   "execution_count": 10,
   "id": "246d9797",
   "metadata": {},
   "outputs": [],
   "source": [
    "flights_df = spark.read.csv(\"hdfs://localhost:9000/flights/raw_flight_data.csv\",header=True,\n",
    "                           inferSchema=True)"
   ]
  },
  {
   "cell_type": "code",
   "execution_count": 11,
   "id": "9ebb017f",
   "metadata": {},
   "outputs": [
    {
     "data": {
      "text/plain": [
       "[Row(DayofMonth=19, DayOfWeek=5, Carrier='DL', OriginAirportID=11433, DestAirportID=13303, DepDelay=-3, ArrDelay=1),\n",
       " Row(DayofMonth=19, DayOfWeek=5, Carrier='DL', OriginAirportID=14869, DestAirportID=12478, DepDelay=0, ArrDelay=-8),\n",
       " Row(DayofMonth=19, DayOfWeek=5, Carrier='DL', OriginAirportID=14057, DestAirportID=14869, DepDelay=-4, ArrDelay=-15),\n",
       " Row(DayofMonth=19, DayOfWeek=5, Carrier='DL', OriginAirportID=15016, DestAirportID=11433, DepDelay=28, ArrDelay=24),\n",
       " Row(DayofMonth=19, DayOfWeek=5, Carrier='DL', OriginAirportID=11193, DestAirportID=12892, DepDelay=-6, ArrDelay=-11)]"
      ]
     },
     "execution_count": 11,
     "metadata": {},
     "output_type": "execute_result"
    }
   ],
   "source": [
    "flights_df.head(5)"
   ]
  },
  {
   "cell_type": "code",
   "execution_count": 12,
   "id": "b380fd27",
   "metadata": {},
   "outputs": [
    {
     "name": "stdout",
     "output_type": "stream",
     "text": [
      "+----------+---------+-------+---------------+-------------+--------+--------+\n",
      "|DayofMonth|DayOfWeek|Carrier|OriginAirportID|DestAirportID|DepDelay|ArrDelay|\n",
      "+----------+---------+-------+---------------+-------------+--------+--------+\n",
      "|        19|        5|     DL|          11433|        13303|      -3|       1|\n",
      "|        19|        5|     DL|          14869|        12478|       0|      -8|\n",
      "|        19|        5|     DL|          14057|        14869|      -4|     -15|\n",
      "|        19|        5|     DL|          15016|        11433|      28|      24|\n",
      "|        19|        5|     DL|          11193|        12892|      -6|     -11|\n",
      "|        19|        5|     DL|          10397|        15016|      -1|     -19|\n",
      "|        19|        5|     DL|          15016|        10397|       0|      -1|\n",
      "|        19|        5|     DL|          10397|        14869|      15|      24|\n",
      "|        19|        5|     DL|          10397|        10423|      33|      34|\n",
      "|        19|        5|     DL|          11278|        10397|     323|     322|\n",
      "|        19|        5|     DL|          14107|        13487|      -7|     -13|\n",
      "|        19|        5|     DL|          11433|        11298|      22|      41|\n",
      "|        19|        5|     DL|          11298|        11433|      40|      20|\n",
      "|        19|        5|     DL|          11433|        12892|      -2|      -7|\n",
      "|        19|        5|     DL|          10397|        12451|      71|      75|\n",
      "|        19|        5|     DL|          12451|        10397|      75|      57|\n",
      "|        19|        5|     DL|          12953|        10397|      -1|      10|\n",
      "|        19|        5|     DL|          11433|        12953|      -3|     -10|\n",
      "|        19|        5|     DL|          10397|        14771|      31|      38|\n",
      "|        19|        5|     DL|          13204|        10397|       8|      25|\n",
      "+----------+---------+-------+---------------+-------------+--------+--------+\n",
      "only showing top 20 rows\n",
      "\n"
     ]
    }
   ],
   "source": [
    "flights_df.show()   # Show Data in a Tabular format"
   ]
  },
  {
   "cell_type": "markdown",
   "id": "9a38a31f",
   "metadata": {},
   "source": [
    "#### 1. select\n",
    "    \n",
    "    * To select specific column from DataFrame"
   ]
  },
  {
   "cell_type": "code",
   "execution_count": 13,
   "id": "35389516",
   "metadata": {},
   "outputs": [
    {
     "name": "stdout",
     "output_type": "stream",
     "text": [
      "+----------+-------+---------------+--------+\n",
      "|DayOfMonth|Carrier|OriginAirportID|DepDelay|\n",
      "+----------+-------+---------------+--------+\n",
      "|        19|     DL|          11433|      -3|\n",
      "|        19|     DL|          14869|       0|\n",
      "|        19|     DL|          14057|      -4|\n",
      "|        19|     DL|          15016|      28|\n",
      "|        19|     DL|          11193|      -6|\n",
      "|        19|     DL|          10397|      -1|\n",
      "|        19|     DL|          15016|       0|\n",
      "|        19|     DL|          10397|      15|\n",
      "|        19|     DL|          10397|      33|\n",
      "|        19|     DL|          11278|     323|\n",
      "|        19|     DL|          14107|      -7|\n",
      "|        19|     DL|          11433|      22|\n",
      "|        19|     DL|          11298|      40|\n",
      "|        19|     DL|          11433|      -2|\n",
      "|        19|     DL|          10397|      71|\n",
      "|        19|     DL|          12451|      75|\n",
      "|        19|     DL|          12953|      -1|\n",
      "|        19|     DL|          11433|      -3|\n",
      "|        19|     DL|          10397|      31|\n",
      "|        19|     DL|          13204|       8|\n",
      "+----------+-------+---------------+--------+\n",
      "only showing top 20 rows\n",
      "\n"
     ]
    }
   ],
   "source": [
    "flights_df.select(['DayOfMonth', 'Carrier', 'OriginAirportID', 'DepDelay']).show()"
   ]
  },
  {
   "cell_type": "markdown",
   "id": "0331e5c1",
   "metadata": {},
   "source": [
    "#### 2. Distinct():\n",
    "\n",
    "    * Show unique values from selected columns."
   ]
  },
  {
   "cell_type": "code",
   "execution_count": 14,
   "id": "80e4f870",
   "metadata": {},
   "outputs": [
    {
     "name": "stdout",
     "output_type": "stream",
     "text": [
      "+-------+\n",
      "|Carrier|\n",
      "+-------+\n",
      "|     UA|\n",
      "|     AA|\n",
      "|     EV|\n",
      "|     B6|\n",
      "|     DL|\n",
      "|     OO|\n",
      "|     F9|\n",
      "|     YV|\n",
      "|     US|\n",
      "|     MQ|\n",
      "|     HA|\n",
      "|     AS|\n",
      "|     FL|\n",
      "|     VX|\n",
      "|     WN|\n",
      "|     9E|\n",
      "+-------+\n",
      "\n"
     ]
    }
   ],
   "source": [
    "flights_df.select(['Carrier']).distinct().show()"
   ]
  },
  {
   "cell_type": "markdown",
   "id": "36ade62e",
   "metadata": {},
   "source": [
    "#### 3. Columns\n",
    "    \n",
    "    * Show List of all DataFrame Columns"
   ]
  },
  {
   "cell_type": "code",
   "execution_count": 15,
   "id": "03634cc3",
   "metadata": {},
   "outputs": [
    {
     "data": {
      "text/plain": [
       "['DayofMonth',\n",
       " 'DayOfWeek',\n",
       " 'Carrier',\n",
       " 'OriginAirportID',\n",
       " 'DestAirportID',\n",
       " 'DepDelay',\n",
       " 'ArrDelay']"
      ]
     },
     "execution_count": 15,
     "metadata": {},
     "output_type": "execute_result"
    }
   ],
   "source": [
    "flights_df.columns"
   ]
  },
  {
   "cell_type": "markdown",
   "id": "92f7d9bb",
   "metadata": {},
   "source": [
    "4. Count() - Aggregate method to show count of dataframe/count of values."
   ]
  },
  {
   "cell_type": "code",
   "execution_count": 16,
   "id": "fb0ad548",
   "metadata": {},
   "outputs": [
    {
     "data": {
      "text/plain": [
       "2719418"
      ]
     },
     "execution_count": 16,
     "metadata": {},
     "output_type": "execute_result"
    }
   ],
   "source": [
    "# Count() - Here it aggregates to show total number of rows.\n",
    "flights_df.count()"
   ]
  },
  {
   "cell_type": "code",
   "execution_count": 17,
   "id": "c0492a0f",
   "metadata": {},
   "outputs": [
    {
     "data": {
      "text/plain": [
       "16"
      ]
     },
     "execution_count": 17,
     "metadata": {},
     "output_type": "execute_result"
    }
   ],
   "source": [
    "# show total count of Distinct Carrier\n",
    "flights_df.select(['Carrier']).distinct().count()"
   ]
  },
  {
   "cell_type": "markdown",
   "id": "0ff30401",
   "metadata": {},
   "source": [
    "#### 5. printSchema()\n",
    "    \n",
    "   * Method prints schema name and schema datatypes."
   ]
  },
  {
   "cell_type": "code",
   "execution_count": 18,
   "id": "88a7ae2d",
   "metadata": {},
   "outputs": [
    {
     "name": "stdout",
     "output_type": "stream",
     "text": [
      "root\n",
      " |-- DayofMonth: integer (nullable = true)\n",
      " |-- DayOfWeek: integer (nullable = true)\n",
      " |-- Carrier: string (nullable = true)\n",
      " |-- OriginAirportID: integer (nullable = true)\n",
      " |-- DestAirportID: integer (nullable = true)\n",
      " |-- DepDelay: integer (nullable = true)\n",
      " |-- ArrDelay: integer (nullable = true)\n",
      "\n"
     ]
    }
   ],
   "source": [
    "flights_df.printSchema()"
   ]
  },
  {
   "cell_type": "markdown",
   "id": "761db82a",
   "metadata": {},
   "source": [
    "#### 6. where()\n",
    "    \n",
    "    * It is like filter() method of RDD with boolean conditions and statements."
   ]
  },
  {
   "cell_type": "code",
   "execution_count": 19,
   "id": "7aefa5f3",
   "metadata": {},
   "outputs": [
    {
     "data": {
      "text/plain": [
       "Row(DayofMonth=19, DayOfWeek=5, Carrier='DL', OriginAirportID=15016, DestAirportID=11433, DepDelay=28, ArrDelay=24)"
      ]
     },
     "execution_count": 19,
     "metadata": {},
     "output_type": "execute_result"
    }
   ],
   "source": [
    "flights_df.where(flights_df.DepDelay > 0).first()"
   ]
  },
  {
   "cell_type": "code",
   "execution_count": 20,
   "id": "bed74305",
   "metadata": {},
   "outputs": [
    {
     "name": "stdout",
     "output_type": "stream",
     "text": [
      "+----------+---------+-------+---------------+-------------+--------+--------+\n",
      "|DayofMonth|DayOfWeek|Carrier|OriginAirportID|DestAirportID|DepDelay|ArrDelay|\n",
      "+----------+---------+-------+---------------+-------------+--------+--------+\n",
      "|        19|        5|     DL|          15016|        11433|      28|      24|\n",
      "|        19|        5|     DL|          10397|        14869|      15|      24|\n",
      "|        19|        5|     DL|          10397|        10423|      33|      34|\n",
      "|        19|        5|     DL|          11278|        10397|     323|     322|\n",
      "|        19|        5|     DL|          11433|        11298|      22|      41|\n",
      "|        19|        5|     DL|          11298|        11433|      40|      20|\n",
      "|        19|        5|     DL|          10397|        12451|      71|      75|\n",
      "|        19|        5|     DL|          12451|        10397|      75|      57|\n",
      "|        19|        5|     DL|          10397|        14771|      31|      38|\n",
      "|        19|        5|     DL|          13204|        10397|       8|      25|\n",
      "|        19|        5|     DL|          12889|        13487|       7|      16|\n",
      "|        19|        5|     DL|          14027|        10397|      13|      25|\n",
      "|        19|        5|     DL|          13244|        10397|       4|      13|\n",
      "|        19|        5|     DL|          12953|        11697|      12|      -8|\n",
      "|        19|        5|     DL|          10397|        12892|      15|       7|\n",
      "|        19|        5|     DL|          14747|        14869|      15|      18|\n",
      "|        19|        5|     DL|          10423|        10397|      56|      49|\n",
      "|        20|        6|     DL|          12892|        15304|      21|      -2|\n",
      "|        20|        6|     DL|          10397|        11193|      16|      -2|\n",
      "|        20|        6|     DL|          10397|        11278|       2|       1|\n",
      "+----------+---------+-------+---------------+-------------+--------+--------+\n",
      "only showing top 20 rows\n",
      "\n"
     ]
    }
   ],
   "source": [
    "flights_df.where(flights_df.DepDelay > 0).show()"
   ]
  },
  {
   "cell_type": "code",
   "execution_count": 21,
   "id": "7ef69644",
   "metadata": {},
   "outputs": [
    {
     "name": "stdout",
     "output_type": "stream",
     "text": [
      "+----------+---------+-------+---------------+-------------+--------+--------+\n",
      "|DayofMonth|DayOfWeek|Carrier|OriginAirportID|DestAirportID|DepDelay|ArrDelay|\n",
      "+----------+---------+-------+---------------+-------------+--------+--------+\n",
      "|        19|        5|     DL|          15016|        11433|      28|      24|\n",
      "|        19|        5|     DL|          10397|        14869|      15|      24|\n",
      "|        19|        5|     DL|          10397|        10423|      33|      34|\n",
      "|        19|        5|     DL|          11278|        10397|     323|     322|\n",
      "|        19|        5|     DL|          11433|        11298|      22|      41|\n",
      "|        19|        5|     DL|          11298|        11433|      40|      20|\n",
      "|        19|        5|     DL|          10397|        12451|      71|      75|\n",
      "|        19|        5|     DL|          12451|        10397|      75|      57|\n",
      "|        19|        5|     DL|          10397|        14771|      31|      38|\n",
      "|        19|        5|     DL|          13204|        10397|       8|      25|\n",
      "|        19|        5|     DL|          12889|        13487|       7|      16|\n",
      "|        19|        5|     DL|          14027|        10397|      13|      25|\n",
      "|        19|        5|     DL|          13244|        10397|       4|      13|\n",
      "|        19|        5|     DL|          10397|        12892|      15|       7|\n",
      "|        19|        5|     DL|          14747|        14869|      15|      18|\n",
      "|        19|        5|     DL|          10423|        10397|      56|      49|\n",
      "|        20|        6|     DL|          10397|        11278|       2|       1|\n",
      "|        20|        6|     DL|          11278|        10397|      34|      38|\n",
      "|        20|        6|     DL|          11697|        12953|      20|       1|\n",
      "|        20|        6|     DL|          13487|        13198|      35|      26|\n",
      "+----------+---------+-------+---------------+-------------+--------+--------+\n",
      "only showing top 20 rows\n",
      "\n"
     ]
    }
   ],
   "source": [
    "flights_df.where((flights_df.DepDelay > 0) & (flights_df.ArrDelay > 0)).show()"
   ]
  },
  {
   "cell_type": "markdown",
   "id": "8b1376d5",
   "metadata": {},
   "source": [
    "#### 7. Filter()\n",
    "    * Similar to where() which filter the DataFrame Output using condition statements."
   ]
  },
  {
   "cell_type": "code",
   "execution_count": 22,
   "id": "53736215",
   "metadata": {},
   "outputs": [
    {
     "name": "stdout",
     "output_type": "stream",
     "text": [
      "+----------+---------+-------+---------------+-------------+--------+--------+\n",
      "|DayofMonth|DayOfWeek|Carrier|OriginAirportID|DestAirportID|DepDelay|ArrDelay|\n",
      "+----------+---------+-------+---------------+-------------+--------+--------+\n",
      "|        19|        5|     DL|          15016|        11433|      28|      24|\n",
      "|        19|        5|     DL|          10397|        14869|      15|      24|\n",
      "|        19|        5|     DL|          10397|        10423|      33|      34|\n",
      "|        19|        5|     DL|          11278|        10397|     323|     322|\n",
      "|        19|        5|     DL|          11433|        11298|      22|      41|\n",
      "|        19|        5|     DL|          11298|        11433|      40|      20|\n",
      "|        19|        5|     DL|          10397|        12451|      71|      75|\n",
      "|        19|        5|     DL|          12451|        10397|      75|      57|\n",
      "|        19|        5|     DL|          10397|        14771|      31|      38|\n",
      "|        19|        5|     DL|          13204|        10397|       8|      25|\n",
      "|        19|        5|     DL|          12889|        13487|       7|      16|\n",
      "|        19|        5|     DL|          14027|        10397|      13|      25|\n",
      "|        19|        5|     DL|          13244|        10397|       4|      13|\n",
      "|        19|        5|     DL|          10397|        12892|      15|       7|\n",
      "|        19|        5|     DL|          14747|        14869|      15|      18|\n",
      "|        19|        5|     DL|          10423|        10397|      56|      49|\n",
      "|        20|        6|     DL|          10397|        11278|       2|       1|\n",
      "|        20|        6|     DL|          11278|        10397|      34|      38|\n",
      "|        20|        6|     DL|          11697|        12953|      20|       1|\n",
      "|        20|        6|     DL|          13487|        13198|      35|      26|\n",
      "+----------+---------+-------+---------------+-------------+--------+--------+\n",
      "only showing top 20 rows\n",
      "\n"
     ]
    }
   ],
   "source": [
    "flights_df.filter((flights_df.DepDelay > 0) & (flights_df.ArrDelay > 0)).show()"
   ]
  },
  {
   "cell_type": "markdown",
   "id": "569d00c2",
   "metadata": {},
   "source": [
    "#### 8. isin()\n",
    "    \n",
    "  * Filter values from DataFrame by matching Pattern."
   ]
  },
  {
   "cell_type": "code",
   "execution_count": 23,
   "id": "e1da2e97",
   "metadata": {},
   "outputs": [
    {
     "data": {
      "text/plain": [
       "Column<b'(Carrier IN (DL, F9, UA, 9E))'>"
      ]
     },
     "execution_count": 23,
     "metadata": {},
     "output_type": "execute_result"
    }
   ],
   "source": [
    "flights_df.Carrier.isin('DL','F9','UA','9E')"
   ]
  },
  {
   "cell_type": "code",
   "execution_count": 24,
   "id": "699ee828",
   "metadata": {},
   "outputs": [
    {
     "name": "stdout",
     "output_type": "stream",
     "text": [
      "+----------+---------+-------+---------------+-------------+--------+--------+\n",
      "|DayofMonth|DayOfWeek|Carrier|OriginAirportID|DestAirportID|DepDelay|ArrDelay|\n",
      "+----------+---------+-------+---------------+-------------+--------+--------+\n",
      "|        19|        5|     DL|          11433|        13303|      -3|       1|\n",
      "|        19|        5|     DL|          14869|        12478|       0|      -8|\n",
      "|        19|        5|     DL|          14057|        14869|      -4|     -15|\n",
      "|        19|        5|     DL|          15016|        11433|      28|      24|\n",
      "|        19|        5|     DL|          11193|        12892|      -6|     -11|\n",
      "|        19|        5|     DL|          10397|        15016|      -1|     -19|\n",
      "|        19|        5|     DL|          15016|        10397|       0|      -1|\n",
      "|        19|        5|     DL|          10397|        14869|      15|      24|\n",
      "|        19|        5|     DL|          10397|        10423|      33|      34|\n",
      "|        19|        5|     DL|          11278|        10397|     323|     322|\n",
      "|        19|        5|     DL|          14107|        13487|      -7|     -13|\n",
      "|        19|        5|     DL|          11433|        11298|      22|      41|\n",
      "|        19|        5|     DL|          11298|        11433|      40|      20|\n",
      "|        19|        5|     DL|          11433|        12892|      -2|      -7|\n",
      "|        19|        5|     DL|          10397|        12451|      71|      75|\n",
      "|        19|        5|     DL|          12451|        10397|      75|      57|\n",
      "|        19|        5|     DL|          12953|        10397|      -1|      10|\n",
      "|        19|        5|     DL|          11433|        12953|      -3|     -10|\n",
      "|        19|        5|     DL|          10397|        14771|      31|      38|\n",
      "|        19|        5|     DL|          13204|        10397|       8|      25|\n",
      "+----------+---------+-------+---------------+-------------+--------+--------+\n",
      "only showing top 20 rows\n",
      "\n"
     ]
    }
   ],
   "source": [
    "flights_df.where(flights_df.Carrier.isin('DL','F9','UA','9E')).show()"
   ]
  },
  {
   "cell_type": "markdown",
   "id": "6b9c37d4",
   "metadata": {},
   "source": [
    "* Read airports.csv file as Spark DataFrame"
   ]
  },
  {
   "cell_type": "code",
   "execution_count": 25,
   "id": "8e721e0c",
   "metadata": {},
   "outputs": [],
   "source": [
    "airports_df = spark.read.csv(\"file:///home/hadoop/Downloads/airports.csv\", header = True, \n",
    "                             inferSchema=True)"
   ]
  },
  {
   "cell_type": "code",
   "execution_count": 26,
   "id": "c4ed20ba",
   "metadata": {},
   "outputs": [
    {
     "name": "stdout",
     "output_type": "stream",
     "text": [
      "+----------+-----------+-----+--------------------+\n",
      "|airport_id|       city|state|                name|\n",
      "+----------+-----------+-----+--------------------+\n",
      "|     10165|Adak Island|   AK|                Adak|\n",
      "|     10299|  Anchorage|   AK|Ted Stevens Ancho...|\n",
      "|     10304|      Aniak|   AK|       Aniak Airport|\n",
      "|     10754|     Barrow|   AK|Wiley Post/Will R...|\n",
      "|     10551|     Bethel|   AK|      Bethel Airport|\n",
      "|     10926|    Cordova|   AK|Merle K Mudhole S...|\n",
      "|     14709|  Deadhorse|   AK|   Deadhorse Airport|\n",
      "|     11336| Dillingham|   AK|  Dillingham Airport|\n",
      "|     11630|  Fairbanks|   AK|Fairbanks Interna...|\n",
      "|     11997|   Gustavus|   AK|    Gustavus Airport|\n",
      "|     12523|     Juneau|   AK|Juneau International|\n",
      "|     12819|  Ketchikan|   AK|Ketchikan Interna...|\n",
      "|     10245|King Salmon|   AK| King Salmon Airport|\n",
      "|     10170|     Kodiak|   AK|      Kodiak Airport|\n",
      "|     13970|   Kotzebue|   AK| Ralph Wien Memorial|\n",
      "|     13873|       Nome|   AK|        Nome Airport|\n",
      "|     14256| Petersburg|   AK|Petersburg James ...|\n",
      "|     14828|      Sitka|   AK|Sitka Rocky Gutie...|\n",
      "|     12807| St. Mary's|   AK|  St. Mary's Airport|\n",
      "|     11445|   Unalaska|   AK|    Unalaska Airport|\n",
      "+----------+-----------+-----+--------------------+\n",
      "only showing top 20 rows\n",
      "\n"
     ]
    }
   ],
   "source": [
    "airports_df.show()"
   ]
  },
  {
   "cell_type": "markdown",
   "id": "c2666729",
   "metadata": {},
   "source": [
    "#### 8. Join()\n",
    "\n",
    "    * To join two or more than two dataframes using condition."
   ]
  },
  {
   "cell_type": "code",
   "execution_count": 27,
   "id": "ea9c5a99",
   "metadata": {},
   "outputs": [],
   "source": [
    "# Inner Join\n",
    "flights_airportDF = flights_df.join(airports_df, \n",
    "                                    flights_df.OriginAirportID == airports_df.airport_id)"
   ]
  },
  {
   "cell_type": "code",
   "execution_count": 28,
   "id": "2353e4b6",
   "metadata": {
    "scrolled": true
   },
   "outputs": [
    {
     "name": "stdout",
     "output_type": "stream",
     "text": [
      "+----------+---------+-------+---------------+-------------+--------+--------+----------+-----------------+-----+--------------------+\n",
      "|DayofMonth|DayOfWeek|Carrier|OriginAirportID|DestAirportID|DepDelay|ArrDelay|airport_id|             city|state|                name|\n",
      "+----------+---------+-------+---------------+-------------+--------+--------+----------+-----------------+-----+--------------------+\n",
      "|        19|        5|     DL|          11433|        13303|      -3|       1|     11433|          Detroit|   MI|Detroit Metro Way...|\n",
      "|        19|        5|     DL|          14869|        12478|       0|      -8|     14869|   Salt Lake City|   UT|Salt Lake City In...|\n",
      "|        19|        5|     DL|          14057|        14869|      -4|     -15|     14057|         Portland|   OR|Portland Internat...|\n",
      "|        19|        5|     DL|          15016|        11433|      28|      24|     15016|        St. Louis|   MO|Lambert-St. Louis...|\n",
      "|        19|        5|     DL|          11193|        12892|      -6|     -11|     11193|       Cincinnati|   OH|Cincinnati/Northe...|\n",
      "|        19|        5|     DL|          10397|        15016|      -1|     -19|     10397|          Atlanta|   GA|Hartsfield-Jackso...|\n",
      "|        19|        5|     DL|          15016|        10397|       0|      -1|     15016|        St. Louis|   MO|Lambert-St. Louis...|\n",
      "|        19|        5|     DL|          10397|        14869|      15|      24|     10397|          Atlanta|   GA|Hartsfield-Jackso...|\n",
      "|        19|        5|     DL|          10397|        10423|      33|      34|     10397|          Atlanta|   GA|Hartsfield-Jackso...|\n",
      "|        19|        5|     DL|          11278|        10397|     323|     322|     11278|       Washington|   DC|Ronald Reagan Was...|\n",
      "|        19|        5|     DL|          14107|        13487|      -7|     -13|     14107|          Phoenix|   AZ|Phoenix Sky Harbo...|\n",
      "|        19|        5|     DL|          11433|        11298|      22|      41|     11433|          Detroit|   MI|Detroit Metro Way...|\n",
      "|        19|        5|     DL|          11298|        11433|      40|      20|     11298|Dallas/Fort Worth|   TX|Dallas/Fort Worth...|\n",
      "|        19|        5|     DL|          11433|        12892|      -2|      -7|     11433|          Detroit|   MI|Detroit Metro Way...|\n",
      "|        19|        5|     DL|          10397|        12451|      71|      75|     10397|          Atlanta|   GA|Hartsfield-Jackso...|\n",
      "|        19|        5|     DL|          12451|        10397|      75|      57|     12451|     Jacksonville|   FL|Jacksonville Inte...|\n",
      "|        19|        5|     DL|          12953|        10397|      -1|      10|     12953|         New York|   NY|           LaGuardia|\n",
      "|        19|        5|     DL|          11433|        12953|      -3|     -10|     11433|          Detroit|   MI|Detroit Metro Way...|\n",
      "|        19|        5|     DL|          10397|        14771|      31|      38|     10397|          Atlanta|   GA|Hartsfield-Jackso...|\n",
      "|        19|        5|     DL|          13204|        10397|       8|      25|     13204|          Orlando|   FL|Orlando Internati...|\n",
      "+----------+---------+-------+---------------+-------------+--------+--------+----------+-----------------+-----+--------------------+\n",
      "only showing top 20 rows\n",
      "\n"
     ]
    }
   ],
   "source": [
    "flights_airportDF.show()"
   ]
  },
  {
   "cell_type": "code",
   "execution_count": 29,
   "id": "7be56bd0",
   "metadata": {},
   "outputs": [],
   "source": [
    "flights_airportDF = flights_df.join(airports_df.select(['airport_id','name']), \n",
    "                                    flights_df.OriginAirportID == airports_df.airport_id)"
   ]
  },
  {
   "cell_type": "code",
   "execution_count": 30,
   "id": "b9efa559",
   "metadata": {},
   "outputs": [
    {
     "name": "stdout",
     "output_type": "stream",
     "text": [
      "+----------+---------+-------+---------------+-------------+--------+--------+----------+--------------------+\n",
      "|DayofMonth|DayOfWeek|Carrier|OriginAirportID|DestAirportID|DepDelay|ArrDelay|airport_id|                name|\n",
      "+----------+---------+-------+---------------+-------------+--------+--------+----------+--------------------+\n",
      "|        19|        5|     DL|          11433|        13303|      -3|       1|     11433|Detroit Metro Way...|\n",
      "|        19|        5|     DL|          14869|        12478|       0|      -8|     14869|Salt Lake City In...|\n",
      "|        19|        5|     DL|          14057|        14869|      -4|     -15|     14057|Portland Internat...|\n",
      "|        19|        5|     DL|          15016|        11433|      28|      24|     15016|Lambert-St. Louis...|\n",
      "|        19|        5|     DL|          11193|        12892|      -6|     -11|     11193|Cincinnati/Northe...|\n",
      "|        19|        5|     DL|          10397|        15016|      -1|     -19|     10397|Hartsfield-Jackso...|\n",
      "|        19|        5|     DL|          15016|        10397|       0|      -1|     15016|Lambert-St. Louis...|\n",
      "|        19|        5|     DL|          10397|        14869|      15|      24|     10397|Hartsfield-Jackso...|\n",
      "|        19|        5|     DL|          10397|        10423|      33|      34|     10397|Hartsfield-Jackso...|\n",
      "|        19|        5|     DL|          11278|        10397|     323|     322|     11278|Ronald Reagan Was...|\n",
      "|        19|        5|     DL|          14107|        13487|      -7|     -13|     14107|Phoenix Sky Harbo...|\n",
      "|        19|        5|     DL|          11433|        11298|      22|      41|     11433|Detroit Metro Way...|\n",
      "|        19|        5|     DL|          11298|        11433|      40|      20|     11298|Dallas/Fort Worth...|\n",
      "|        19|        5|     DL|          11433|        12892|      -2|      -7|     11433|Detroit Metro Way...|\n",
      "|        19|        5|     DL|          10397|        12451|      71|      75|     10397|Hartsfield-Jackso...|\n",
      "|        19|        5|     DL|          12451|        10397|      75|      57|     12451|Jacksonville Inte...|\n",
      "|        19|        5|     DL|          12953|        10397|      -1|      10|     12953|           LaGuardia|\n",
      "|        19|        5|     DL|          11433|        12953|      -3|     -10|     11433|Detroit Metro Way...|\n",
      "|        19|        5|     DL|          10397|        14771|      31|      38|     10397|Hartsfield-Jackso...|\n",
      "|        19|        5|     DL|          13204|        10397|       8|      25|     13204|Orlando Internati...|\n",
      "+----------+---------+-------+---------------+-------------+--------+--------+----------+--------------------+\n",
      "only showing top 20 rows\n",
      "\n"
     ]
    }
   ],
   "source": [
    "flights_airportDF.show()"
   ]
  },
  {
   "cell_type": "markdown",
   "id": "2e4d51b2",
   "metadata": {},
   "source": [
    "#### 10. Drop Duplicates()\n",
    "    \n",
    "    * It will drop duplicate records from existing DataFrame,"
   ]
  },
  {
   "cell_type": "code",
   "execution_count": 31,
   "id": "34169f95",
   "metadata": {},
   "outputs": [],
   "source": [
    "flights_df1 = flights_df.dropDuplicates()"
   ]
  },
  {
   "cell_type": "markdown",
   "id": "17e037d0",
   "metadata": {},
   "source": [
    "#### Task1 . Calculate Percentage Data Lost after DropDuplicates()"
   ]
  },
  {
   "cell_type": "code",
   "execution_count": 32,
   "id": "8f426727",
   "metadata": {},
   "outputs": [
    {
     "data": {
      "text/plain": [
       "0.8249927006440348"
      ]
     },
     "execution_count": 32,
     "metadata": {},
     "output_type": "execute_result"
    }
   ],
   "source": [
    "(flights_df.count() - flights_df1.count())/flights_df.count() * 100"
   ]
  },
  {
   "cell_type": "markdown",
   "id": "df6654be",
   "metadata": {},
   "source": [
    "#### 11. Describe\n",
    "    \n",
    "    * Use describe() method to show summary statistics for numeric dataframe columns.\n",
    "    * Summary includes - count(), stddev(), min(), max(), mean()."
   ]
  },
  {
   "cell_type": "code",
   "execution_count": 33,
   "id": "feaf7828",
   "metadata": {},
   "outputs": [
    {
     "name": "stdout",
     "output_type": "stream",
     "text": [
      "+-------+------------------+------------------+-------+------------------+------------------+------------------+------------------+\n",
      "|summary|        DayofMonth|         DayOfWeek|Carrier|   OriginAirportID|     DestAirportID|          DepDelay|          ArrDelay|\n",
      "+-------+------------------+------------------+-------+------------------+------------------+------------------+------------------+\n",
      "|  count|           2696983|           2696983|2696983|           2696983|           2696983|           2674774|           2673185|\n",
      "|   mean|15.798996508320593| 3.900369412784582|   null|12742.459424846207| 12742.85937657004|10.618575625454712|6.7272897311633875|\n",
      "| stddev| 8.801267199135454|1.9864582421701973|   null|1502.0359941370625|1501.9939589817989|36.198308432512704| 38.75007476808384|\n",
      "|    min|                 1|                 1|     9E|             10140|             10140|               -63|               -94|\n",
      "|    max|                31|                 7|     YV|             15376|             15376|              1863|              1845|\n",
      "+-------+------------------+------------------+-------+------------------+------------------+------------------+------------------+\n",
      "\n"
     ]
    }
   ],
   "source": [
    "flights_df1.describe().show()"
   ]
  },
  {
   "cell_type": "markdown",
   "id": "2f7d4034",
   "metadata": {},
   "source": [
    "#### 12. summary()\n",
    "    \n",
    "    * Use the summary() method for detailed summary of columns.\n",
    "    * Summary includes - count(), stddev(), min(), max(), mean(), quartiles - Q1, Q2 (median), Q3."
   ]
  },
  {
   "cell_type": "code",
   "execution_count": 34,
   "id": "57e2027a",
   "metadata": {},
   "outputs": [
    {
     "name": "stdout",
     "output_type": "stream",
     "text": [
      "+-------+------------------+------------------+-------+------------------+------------------+------------------+------------------+\n",
      "|summary|        DayofMonth|         DayOfWeek|Carrier|   OriginAirportID|     DestAirportID|          DepDelay|          ArrDelay|\n",
      "+-------+------------------+------------------+-------+------------------+------------------+------------------+------------------+\n",
      "|  count|           2696983|           2696983|2696983|           2696983|           2696983|           2674774|           2673185|\n",
      "|   mean|15.798996508320593| 3.900369412784582|   null|12742.459424846207| 12742.85937657004|10.618575625454712|6.7272897311633875|\n",
      "| stddev| 8.801267199135454|1.9864582421701973|   null|1502.0359941370625|1501.9939589817989|36.198308432512704| 38.75007476808384|\n",
      "|    min|                 1|                 1|     9E|             10140|             10140|               -63|               -94|\n",
      "|    25%|                 8|                 2|   null|             11292|             11292|                -4|               -11|\n",
      "|    50%|                16|                 4|   null|             12892|             12892|                -1|                -3|\n",
      "|    75%|                23|                 6|   null|             14057|             14057|                10|                10|\n",
      "|    max|                31|                 7|     YV|             15376|             15376|              1863|              1845|\n",
      "+-------+------------------+------------------+-------+------------------+------------------+------------------+------------------+\n",
      "\n"
     ]
    }
   ],
   "source": [
    "flights_df1.summary().show()"
   ]
  },
  {
   "cell_type": "markdown",
   "id": "f84e0ebb",
   "metadata": {},
   "source": [
    "#### 13. Select Categorical Columns"
   ]
  },
  {
   "cell_type": "code",
   "execution_count": 35,
   "id": "1b0816ed",
   "metadata": {},
   "outputs": [],
   "source": [
    "from pyspark.sql.types import IntegerType, StringType\n",
    "from pyspark.sql.functions import *"
   ]
  },
  {
   "cell_type": "code",
   "execution_count": 36,
   "id": "83d81c4d",
   "metadata": {},
   "outputs": [],
   "source": [
    "# select categorical columns.\n",
    "categorical_cols = [field.name for field in flights_df1.schema.fields if isinstance(field.dataType, StringType)]"
   ]
  },
  {
   "cell_type": "code",
   "execution_count": 37,
   "id": "2dbe96b3",
   "metadata": {},
   "outputs": [
    {
     "data": {
      "text/plain": [
       "['Carrier']"
      ]
     },
     "execution_count": 37,
     "metadata": {},
     "output_type": "execute_result"
    }
   ],
   "source": [
    "categorical_cols"
   ]
  },
  {
   "cell_type": "markdown",
   "id": "4b829ea0",
   "metadata": {},
   "source": [
    "#### 14. col() , groupBy():\n",
    "    * 'col' function is used to refer to a column in DataFrame.\n",
    "    * groupBy() - Method to group rows of DataFrame based on values of one or more columns."
   ]
  },
  {
   "cell_type": "code",
   "execution_count": 38,
   "id": "7b16f79d",
   "metadata": {},
   "outputs": [],
   "source": [
    "# In pyspark 'col' function is used to refer to a column in DataFrame.\n",
    "# Where to use it - In column operations\n",
    "from pyspark.sql.functions import col"
   ]
  },
  {
   "cell_type": "code",
   "execution_count": 39,
   "id": "5888a6b0",
   "metadata": {},
   "outputs": [
    {
     "data": {
      "text/plain": [
       "664460"
      ]
     },
     "execution_count": 39,
     "metadata": {},
     "output_type": "execute_result"
    }
   ],
   "source": [
    "flights_df1.filter(col('ArrDelay') > 10).count()"
   ]
  },
  {
   "cell_type": "code",
   "execution_count": 40,
   "id": "7db1657f",
   "metadata": {},
   "outputs": [
    {
     "name": "stdout",
     "output_type": "stream",
     "text": [
      "+-------+------+\n",
      "|Carrier| count|\n",
      "+-------+------+\n",
      "|     UA|286010|\n",
      "|     AA|288910|\n",
      "|     EV|157218|\n",
      "|     B6|121875|\n",
      "|     DL|381601|\n",
      "|     OO|159639|\n",
      "|     F9| 35736|\n",
      "|     YV| 52740|\n",
      "|     US|232955|\n",
      "|     MQ|112113|\n",
      "|     HA| 17424|\n",
      "|     AS| 68544|\n",
      "|     FL| 92674|\n",
      "|     VX| 34726|\n",
      "|     WN|575090|\n",
      "|     9E| 79728|\n",
      "+-------+------+\n",
      "\n"
     ]
    }
   ],
   "source": [
    "# Get Frequency values for Each Categorical Column.\n",
    "for column in categorical_cols:\n",
    "    flights_df1.groupBy(column).count().show()"
   ]
  },
  {
   "cell_type": "markdown",
   "id": "b7846239",
   "metadata": {},
   "source": [
    "#### 15. isnull():\n",
    "\n",
    "    * Method returns boolean outcome for missing values,"
   ]
  },
  {
   "cell_type": "code",
   "execution_count": 41,
   "id": "110279d6",
   "metadata": {},
   "outputs": [
    {
     "name": "stdout",
     "output_type": "stream",
     "text": [
      "+----------+---------+-------+---------------+-------------+--------+--------+\n",
      "|DayofMonth|DayOfWeek|Carrier|OriginAirportID|DestAirportID|DepDelay|ArrDelay|\n",
      "+----------+---------+-------+---------------+-------------+--------+--------+\n",
      "|        17|        3|     DL|          14869|        14771|    null|    null|\n",
      "|        11|        4|     EV|          12266|        13871|    null|    null|\n",
      "|        19|        5|     EV|          11618|        11433|    null|    null|\n",
      "|        10|        3|     EV|          13930|        13851|    null|    null|\n",
      "|         9|        2|     EV|          11292|        14107|    null|    null|\n",
      "|        18|        4|     AA|          13303|        12892|    null|    null|\n",
      "|        11|        4|     AA|          13930|        11292|    null|    null|\n",
      "|        18|        4|     AA|          11298|        14107|    null|    null|\n",
      "|        16|        2|     AA|          11278|        13930|    null|    null|\n",
      "|        17|        3|     AA|          13930|        14107|    null|    null|\n",
      "|        16|        2|     AA|          12478|        12266|    null|    null|\n",
      "|        18|        4|     AA|          11298|        11618|    null|    null|\n",
      "|         3|        3|     AS|          14679|        14747|    null|    null|\n",
      "|        18|        4|     AA|          13930|        15304|    null|    null|\n",
      "|        18|        4|     DL|          10397|        13930|    null|    null|\n",
      "|         8|        1|     WN|          11292|        14893|    null|    null|\n",
      "|        12|        5|     MQ|          13930|        11618|    null|    null|\n",
      "|        11|        4|     MQ|          13930|        10693|    null|    null|\n",
      "|        16|        2|     MQ|          10792|        13930|    null|    null|\n",
      "|        17|        3|     MQ|          13930|        11433|      88|    null|\n",
      "+----------+---------+-------+---------------+-------------+--------+--------+\n",
      "only showing top 20 rows\n",
      "\n"
     ]
    }
   ],
   "source": [
    "# Check for nulls in specific columns\n",
    "flights_df1.filter(col('ArrDelay').isNull()).show()"
   ]
  },
  {
   "cell_type": "code",
   "execution_count": 42,
   "id": "dc43bfcd",
   "metadata": {},
   "outputs": [
    {
     "data": {
      "text/plain": [
       "23798"
      ]
     },
     "execution_count": 42,
     "metadata": {},
     "output_type": "execute_result"
    }
   ],
   "source": [
    "# Show num of missing values for one column\n",
    "flights_df1.filter(col('ArrDelay').isNull()).count()"
   ]
  },
  {
   "cell_type": "code",
   "execution_count": 43,
   "id": "2712fa5e",
   "metadata": {},
   "outputs": [
    {
     "data": {
      "text/plain": [
       "DataFrame[(ArrDelay IS NULL): boolean]"
      ]
     },
     "execution_count": 43,
     "metadata": {},
     "output_type": "execute_result"
    }
   ],
   "source": [
    "# isNull() returns boolean value \n",
    "flights_df1.select(col('ArrDelay').isNull())"
   ]
  },
  {
   "cell_type": "code",
   "execution_count": 44,
   "id": "4133f0a3",
   "metadata": {},
   "outputs": [
    {
     "name": "stdout",
     "output_type": "stream",
     "text": [
      "+----------+---------+-------+---------------+-------------+--------+--------+\n",
      "|DayofMonth|DayOfWeek|Carrier|OriginAirportID|DestAirportID|DepDelay|ArrDelay|\n",
      "+----------+---------+-------+---------------+-------------+--------+--------+\n",
      "|         0|        0|      0|              0|            0|   27444|   29033|\n",
      "+----------+---------+-------+---------------+-------------+--------+--------+\n",
      "\n"
     ]
    }
   ],
   "source": [
    "from pyspark.sql.functions import when, isnull, count\n",
    "\n",
    "flights_df.select([count(when(isnull(column), column)).alias(column) for column in flights_df1.columns]).show()"
   ]
  },
  {
   "cell_type": "code",
   "execution_count": 45,
   "id": "cbfcb9ea",
   "metadata": {},
   "outputs": [
    {
     "name": "stdout",
     "output_type": "stream",
     "text": [
      "{'DayofMonth': 0}\n",
      "{'DayOfWeek': 0}\n",
      "{'Carrier': 0}\n",
      "{'OriginAirportID': 0}\n",
      "{'DestAirportID': 0}\n",
      "{'DepDelay': 27444}\n",
      "{'ArrDelay': 29033}\n"
     ]
    }
   ],
   "source": [
    "# Alternative Approach - using col(), isNUll()\n",
    "for columns in flights_df.columns:\n",
    "    print({columns : flights_df.filter(col(columns).isNull()).count()})"
   ]
  },
  {
   "cell_type": "code",
   "execution_count": 46,
   "id": "3055e612",
   "metadata": {},
   "outputs": [
    {
     "name": "stdout",
     "output_type": "stream",
     "text": [
      "+----------+---------+-------+---------------+-------------+--------+--------+\n",
      "|DayofMonth|DayOfWeek|Carrier|OriginAirportID|DestAirportID|DepDelay|ArrDelay|\n",
      "+----------+---------+-------+---------------+-------------+--------+--------+\n",
      "|         0|        0|      0|              0|            0|   27444|   29033|\n",
      "+----------+---------+-------+---------------+-------------+--------+--------+\n",
      "\n"
     ]
    }
   ],
   "source": [
    "from pyspark.sql.functions import col\n",
    "\n",
    "flights_df.select([sum(col(column).isNull().cast(\"int\")).alias(column) for column in flights_df1.columns]).show()"
   ]
  },
  {
   "cell_type": "markdown",
   "id": "f54cd74d",
   "metadata": {},
   "source": [
    "#### 16. fillna()\n",
    "    \n",
    "    * To replace or fill missing values of column with central tendancy (mean, median, mode).\n",
    "    * Here will replace missing values by 0s."
   ]
  },
  {
   "cell_type": "code",
   "execution_count": 47,
   "id": "e0624d64",
   "metadata": {},
   "outputs": [],
   "source": [
    "flights_df2 = flights_df1.fillna({'DepDelay': 0, 'ArrDelay': 0})"
   ]
  },
  {
   "cell_type": "code",
   "execution_count": 48,
   "id": "135d47ff",
   "metadata": {},
   "outputs": [
    {
     "name": "stdout",
     "output_type": "stream",
     "text": [
      "+----------+---------+-------+---------------+-------------+--------+--------+\n",
      "|DayofMonth|DayOfWeek|Carrier|OriginAirportID|DestAirportID|DepDelay|ArrDelay|\n",
      "+----------+---------+-------+---------------+-------------+--------+--------+\n",
      "|         0|        0|      0|              0|            0|       0|       0|\n",
      "+----------+---------+-------+---------------+-------------+--------+--------+\n",
      "\n"
     ]
    }
   ],
   "source": [
    "flights_df2.select([sum(col(column).isNull().cast(\"int\")).alias(column) for column in flights_df2.columns]).show()"
   ]
  },
  {
   "cell_type": "markdown",
   "id": "0622d679",
   "metadata": {},
   "source": [
    "#### 17. dropna()\n",
    "    \n",
    "    * dropna method used to remove rows with null values."
   ]
  },
  {
   "cell_type": "code",
   "execution_count": 49,
   "id": "811a6937",
   "metadata": {},
   "outputs": [],
   "source": [
    "flights_df3 = flights_df1.dropna()"
   ]
  },
  {
   "cell_type": "markdown",
   "id": "28489f55",
   "metadata": {},
   "source": [
    "#### 18. Statistical Methods\n",
    "    \n",
    "    * mean(), median(), stddev(), quartiles."
   ]
  },
  {
   "cell_type": "code",
   "execution_count": 50,
   "id": "8fc9a016",
   "metadata": {},
   "outputs": [
    {
     "name": "stdout",
     "output_type": "stream",
     "text": [
      "+-------------+\n",
      "|DepDelay_Mean|\n",
      "+-------------+\n",
      "|         11.0|\n",
      "+-------------+\n",
      "\n"
     ]
    }
   ],
   "source": [
    "flights_df1.select(round(mean(col('DepDelay'))).alias('DepDelay_Mean')).show()"
   ]
  },
  {
   "cell_type": "code",
   "execution_count": 51,
   "id": "64f6def1",
   "metadata": {},
   "outputs": [
    {
     "name": "stdout",
     "output_type": "stream",
     "text": [
      "+------------+\n",
      "|DepDelay_Std|\n",
      "+------------+\n",
      "|      36.198|\n",
      "+------------+\n",
      "\n"
     ]
    }
   ],
   "source": [
    "flights_df1.select(round(stddev(col('DepDelay')), 3).alias('DepDelay_Std')).show()"
   ]
  },
  {
   "cell_type": "code",
   "execution_count": 52,
   "id": "d82b0e90",
   "metadata": {},
   "outputs": [
    {
     "name": "stdout",
     "output_type": "stream",
     "text": [
      "+------------+\n",
      "|DepDelay_Std|\n",
      "+------------+\n",
      "|    1310.318|\n",
      "+------------+\n",
      "\n"
     ]
    }
   ],
   "source": [
    "flights_df1.select(round(variance(col('DepDelay')), 3).alias('DepDelay_Std')).show()"
   ]
  },
  {
   "cell_type": "markdown",
   "id": "e2c6d43d",
   "metadata": {},
   "source": [
    "* To Calculate Median - Use approxQuantile(), expr(). "
   ]
  },
  {
   "cell_type": "code",
   "execution_count": 53,
   "id": "a0797b94",
   "metadata": {},
   "outputs": [
    {
     "data": {
      "text/plain": [
       "-3.0"
      ]
     },
     "execution_count": 53,
     "metadata": {},
     "output_type": "execute_result"
    }
   ],
   "source": [
    "flights_df1.approxQuantile('ArrDelay', [0.5], 0.0001)[0]"
   ]
  },
  {
   "cell_type": "code",
   "execution_count": 54,
   "id": "48dfc298",
   "metadata": {},
   "outputs": [
    {
     "data": {
      "text/plain": [
       "11.0"
      ]
     },
     "execution_count": 54,
     "metadata": {},
     "output_type": "execute_result"
    }
   ],
   "source": [
    "flights_df1.select(round(mean(col('DepDelay'))).alias('DepDelay_Mean')).collect()[0][0]"
   ]
  },
  {
   "cell_type": "markdown",
   "id": "f52b052c",
   "metadata": {},
   "source": [
    "#### 19. GroupBy() and agg()"
   ]
  },
  {
   "cell_type": "code",
   "execution_count": 55,
   "id": "2131685e",
   "metadata": {},
   "outputs": [
    {
     "data": {
      "text/plain": [
       "<pyspark.sql.group.GroupedData at 0x7f1d716439b0>"
      ]
     },
     "execution_count": 55,
     "metadata": {},
     "output_type": "execute_result"
    }
   ],
   "source": [
    "flights_df1.groupBy('Carrier')"
   ]
  },
  {
   "cell_type": "code",
   "execution_count": 56,
   "id": "049ace23",
   "metadata": {},
   "outputs": [
    {
     "name": "stdout",
     "output_type": "stream",
     "text": [
      "+-------+------------------+\n",
      "|Carrier|     avg(DepDelay)|\n",
      "+-------+------------------+\n",
      "|     UA|12.644186783024843|\n",
      "|     AA|12.154096505870111|\n",
      "|     EV| 14.52813602113455|\n",
      "|     B6|12.675216069471794|\n",
      "|     DL| 7.451940716867138|\n",
      "|     OO| 7.954327121364983|\n",
      "|     F9|12.142480802645592|\n",
      "|     YV| 9.595018289496604|\n",
      "|     US| 5.011879623272143|\n",
      "|     MQ|15.612577198673192|\n",
      "|     HA|1.5358414704192993|\n",
      "|     AS|0.6606730403765751|\n",
      "|     FL|10.227206113831024|\n",
      "|     VX|14.416962353959326|\n",
      "|     WN|12.930658050935614|\n",
      "|     9E| 9.767838809034908|\n",
      "+-------+------------------+\n",
      "\n"
     ]
    }
   ],
   "source": [
    "flights_df1.groupBy('Carrier').agg(mean(\"DepDelay\")).show()"
   ]
  },
  {
   "cell_type": "code",
   "execution_count": 57,
   "id": "09a84e12",
   "metadata": {},
   "outputs": [
    {
     "name": "stdout",
     "output_type": "stream",
     "text": [
      "+-------+------------------+--------------------+\n",
      "|Carrier|     Mean_DepDelay|       Mean_ArrDelay|\n",
      "+-------+------------------+--------------------+\n",
      "|     UA|12.644186783024843|   5.207155029152466|\n",
      "|     AA|12.154096505870111|    7.22786703097812|\n",
      "|     EV| 14.52813602113455|  10.501436641191532|\n",
      "|     B6|12.675216069471794|   9.679335778153199|\n",
      "|     DL| 7.451940716867138|  2.8085929091567747|\n",
      "|     OO| 7.954327121364983|   6.447766785619039|\n",
      "|     F9|12.142480802645592|  12.870312237233028|\n",
      "|     YV| 9.595018289496604|   8.749505833107245|\n",
      "|     US| 5.011879623272143|   3.957719324788726|\n",
      "|     MQ|15.612577198673192|   14.27679662028746|\n",
      "|     HA|1.5358414704192993|   1.534325271442523|\n",
      "|     AS|0.6606730403765751|-0.27272328542814955|\n",
      "|     FL|10.227206113831024|   7.277437501357486|\n",
      "|     VX|14.416962353959326|   9.678802215555043|\n",
      "|     WN|12.930658050935614|   8.368672739670938|\n",
      "|     9E| 9.767838809034908|   4.931550031523011|\n",
      "+-------+------------------+--------------------+\n",
      "\n"
     ]
    }
   ],
   "source": [
    "flights_df1.groupBy('Carrier').agg(mean(\"DepDelay\").alias(\"Mean_DepDelay\"), mean(\"ArrDelay\").alias(\"Mean_ArrDelay\")).show()"
   ]
  },
  {
   "cell_type": "markdown",
   "id": "fc0b2d64",
   "metadata": {},
   "source": [
    "#### 20. WithColumn\n",
    "\n",
    "    * All column operations - Used to create new column or modify an existing column in a DataFrame.\n",
    "    * withColumn is also used for applying transformation or calculation.\n",
    "    * df.withColumn(colName, col)"
   ]
  },
  {
   "cell_type": "code",
   "execution_count": 58,
   "id": "775b6ade",
   "metadata": {
    "scrolled": true
   },
   "outputs": [
    {
     "name": "stdout",
     "output_type": "stream",
     "text": [
      "+----------+---------+-------+---------------+-------------+--------+--------+----------+\n",
      "|DayofMonth|DayOfWeek|Carrier|OriginAirportID|DestAirportID|DepDelay|ArrDelay|TotalDelay|\n",
      "+----------+---------+-------+---------------+-------------+--------+--------+----------+\n",
      "|         6|        1|     WN|          10821|        10140|       1|     -22|       -21|\n",
      "|         8|        1|     AA|          11298|        10140|       0|       6|         6|\n",
      "|        15|        1|     WN|          14747|        10140|      -6|       3|        -3|\n",
      "|        27|        1|     AA|          11298|        10140|     113|     117|       230|\n",
      "|         7|        2|     OO|          12266|        10140|      -3|     -11|       -14|\n",
      "|        28|        2|     WN|          14107|        10140|      -3|       0|        -3|\n",
      "|        30|        2|     OO|          12266|        10140|      -4|     -11|       -15|\n",
      "|         1|        3|     EV|          12266|        10140|     -11|     -26|       -37|\n",
      "|         3|        3|     OO|          12892|        10140|      -4|      -2|        -6|\n",
      "|        17|        3|     WN|          12892|        10140|      -1|       3|         2|\n",
      "|        22|        3|     WN|          14107|        10140|     109|     106|       215|\n",
      "|        24|        3|     WN|          14747|        10140|       0|      -4|        -4|\n",
      "|         2|        4|     OO|          14869|        10140|      -8|     -25|       -33|\n",
      "|         4|        4|     WN|          11259|        10140|      -5|      -9|       -14|\n",
      "|         4|        4|     OO|          14771|        10140|      22|      31|        53|\n",
      "|        11|        4|     WN|          14057|        10140|      -3|     -19|       -22|\n",
      "|         5|        5|     AA|          11298|        10140|      13|       2|        15|\n",
      "|        12|        5|     OO|          14869|        10140|      -2|     -10|       -12|\n",
      "|         6|        6|     WN|          11259|        10140|      -3|     -10|       -13|\n",
      "|         6|        6|     WN|          12892|        10140|      -3|     -13|       -16|\n",
      "+----------+---------+-------+---------------+-------------+--------+--------+----------+\n",
      "only showing top 20 rows\n",
      "\n"
     ]
    }
   ],
   "source": [
    "flights_df1.withColumn(\"TotalDelay\", col(\"DepDelay\") + col(\"ArrDelay\")).show()"
   ]
  },
  {
   "cell_type": "markdown",
   "id": "196427fd",
   "metadata": {},
   "source": [
    "Applying Conditional Logic"
   ]
  },
  {
   "cell_type": "code",
   "execution_count": 59,
   "id": "6ee097be",
   "metadata": {},
   "outputs": [
    {
     "name": "stdout",
     "output_type": "stream",
     "text": [
      "+----------+---------+-------+---------------+-------------+--------+--------+--------+\n",
      "|DayofMonth|DayOfWeek|Carrier|OriginAirportID|DestAirportID|DepDelay|ArrDelay| IsDelay|\n",
      "+----------+---------+-------+---------------+-------------+--------+--------+--------+\n",
      "|         6|        1|     WN|          10821|        10140|       1|     -22|   Delay|\n",
      "|         8|        1|     AA|          11298|        10140|       0|       6|   Delay|\n",
      "|        15|        1|     WN|          14747|        10140|      -6|       3|No Delay|\n",
      "|        27|        1|     AA|          11298|        10140|     113|     117|   Delay|\n",
      "|         7|        2|     OO|          12266|        10140|      -3|     -11|No Delay|\n",
      "|        28|        2|     WN|          14107|        10140|      -3|       0|No Delay|\n",
      "|        30|        2|     OO|          12266|        10140|      -4|     -11|No Delay|\n",
      "|         1|        3|     EV|          12266|        10140|     -11|     -26|No Delay|\n",
      "|         3|        3|     OO|          12892|        10140|      -4|      -2|No Delay|\n",
      "|        17|        3|     WN|          12892|        10140|      -1|       3|No Delay|\n",
      "|        22|        3|     WN|          14107|        10140|     109|     106|   Delay|\n",
      "|        24|        3|     WN|          14747|        10140|       0|      -4|   Delay|\n",
      "|         2|        4|     OO|          14869|        10140|      -8|     -25|No Delay|\n",
      "|         4|        4|     WN|          11259|        10140|      -5|      -9|No Delay|\n",
      "|         4|        4|     OO|          14771|        10140|      22|      31|   Delay|\n",
      "|        11|        4|     WN|          14057|        10140|      -3|     -19|No Delay|\n",
      "|         5|        5|     AA|          11298|        10140|      13|       2|   Delay|\n",
      "|        12|        5|     OO|          14869|        10140|      -2|     -10|No Delay|\n",
      "|         6|        6|     WN|          11259|        10140|      -3|     -10|No Delay|\n",
      "|         6|        6|     WN|          12892|        10140|      -3|     -13|No Delay|\n",
      "+----------+---------+-------+---------------+-------------+--------+--------+--------+\n",
      "only showing top 20 rows\n",
      "\n"
     ]
    }
   ],
   "source": [
    "flights_df1.withColumn(\"IsDelay\", when(col(\"DepDelay\") >=0, \"Delay\").otherwise(\"No Delay\")).show()"
   ]
  },
  {
   "cell_type": "markdown",
   "id": "f5f31901",
   "metadata": {},
   "source": [
    "#### 21. expr()"
   ]
  },
  {
   "cell_type": "code",
   "execution_count": 63,
   "id": "53f8929b",
   "metadata": {},
   "outputs": [
    {
     "data": {
      "text/plain": [
       "-3"
      ]
     },
     "execution_count": 63,
     "metadata": {},
     "output_type": "execute_result"
    }
   ],
   "source": [
    "from pyspark.sql.functions import expr\n",
    "median_expr = expr(f\"percentile_approx({'ArrDelay'},  0.5)\")\n",
    "\n",
    "flights_df1.agg(median_expr.alias(\"median\")).collect()[0][0]"
   ]
  },
  {
   "cell_type": "code",
   "execution_count": null,
   "id": "cd396062",
   "metadata": {},
   "outputs": [],
   "source": []
  }
 ],
 "metadata": {
  "kernelspec": {
   "display_name": "Python 3",
   "language": "python",
   "name": "python3"
  },
  "language_info": {
   "codemirror_mode": {
    "name": "ipython",
    "version": 3
   },
   "file_extension": ".py",
   "mimetype": "text/x-python",
   "name": "python",
   "nbconvert_exporter": "python",
   "pygments_lexer": "ipython3",
   "version": "3.6.9"
  }
 },
 "nbformat": 4,
 "nbformat_minor": 5
}
