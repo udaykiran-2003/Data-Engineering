{
 "cells": [
  {
   "cell_type": "code",
   "execution_count": 1,
   "id": "c7edd594",
   "metadata": {
    "collapsed": true
   },
   "outputs": [
    {
     "data": {
      "text/html": [
       "\n",
       "        <div>\n",
       "            <p><b>SparkContext</b></p>\n",
       "\n",
       "            <p><a href=\"http://10.0.2.15:4043\">Spark UI</a></p>\n",
       "\n",
       "            <dl>\n",
       "              <dt>Version</dt>\n",
       "                <dd><code>v2.4.8</code></dd>\n",
       "              <dt>Master</dt>\n",
       "                <dd><code>local[*]</code></dd>\n",
       "              <dt>AppName</dt>\n",
       "                <dd><code>PySparkShell</code></dd>\n",
       "            </dl>\n",
       "        </div>\n",
       "        "
      ],
      "text/plain": [
       "<SparkContext master=local[*] appName=PySparkShell>"
      ]
     },
     "execution_count": 1,
     "metadata": {},
     "output_type": "execute_result"
    }
   ],
   "source": [
    "sc"
   ]
  },
  {
   "cell_type": "code",
   "execution_count": 2,
   "id": "430983bd",
   "metadata": {
    "collapsed": true
   },
   "outputs": [
    {
     "data": {
      "text/html": [
       "\n",
       "            <div>\n",
       "                <p><b>SparkSession - hive</b></p>\n",
       "                \n",
       "        <div>\n",
       "            <p><b>SparkContext</b></p>\n",
       "\n",
       "            <p><a href=\"http://10.0.2.15:4043\">Spark UI</a></p>\n",
       "\n",
       "            <dl>\n",
       "              <dt>Version</dt>\n",
       "                <dd><code>v2.4.8</code></dd>\n",
       "              <dt>Master</dt>\n",
       "                <dd><code>local[*]</code></dd>\n",
       "              <dt>AppName</dt>\n",
       "                <dd><code>PySparkShell</code></dd>\n",
       "            </dl>\n",
       "        </div>\n",
       "        \n",
       "            </div>\n",
       "        "
      ],
      "text/plain": [
       "<pyspark.sql.session.SparkSession at 0x7fdca6b93470>"
      ]
     },
     "execution_count": 2,
     "metadata": {},
     "output_type": "execute_result"
    }
   ],
   "source": [
    "spark"
   ]
  },
  {
   "cell_type": "code",
   "execution_count": 3,
   "id": "57d66218",
   "metadata": {},
   "outputs": [],
   "source": [
    "hr_employee = spark.read.csv(\"file:///home/hadoop/Downloads/HR_Employee.csv\", \n",
    "                             inferSchema=True,header=True)"
   ]
  },
  {
   "cell_type": "code",
   "execution_count": 4,
   "id": "871e7921",
   "metadata": {
    "collapsed": true
   },
   "outputs": [
    {
     "name": "stdout",
     "output_type": "stream",
     "text": [
      "root\n",
      " |-- EmployeeID: integer (nullable = true)\n",
      " |-- Department: string (nullable = true)\n",
      " |-- JobRole: string (nullable = true)\n",
      " |-- Attrition: string (nullable = true)\n",
      " |-- Gender: string (nullable = true)\n",
      " |-- Age: integer (nullable = true)\n",
      " |-- MaritalStatus: string (nullable = true)\n",
      " |-- Education: string (nullable = true)\n",
      " |-- EducationField: string (nullable = true)\n",
      " |-- BusinessTravel: string (nullable = true)\n",
      " |-- JobInvolvement: string (nullable = true)\n",
      " |-- JobLevel: integer (nullable = true)\n",
      " |-- JobSatisfaction: string (nullable = true)\n",
      " |-- Hourlyrate: integer (nullable = true)\n",
      " |-- Income: integer (nullable = true)\n",
      " |-- Salaryhike: integer (nullable = true)\n",
      " |-- OverTime: string (nullable = true)\n",
      " |-- Workex: integer (nullable = true)\n",
      " |-- YearsSinceLastPromotion: integer (nullable = true)\n",
      " |-- EmpSatisfaction: string (nullable = true)\n",
      " |-- TrainingTimesLastYear: integer (nullable = true)\n",
      " |-- WorkLifeBalance: string (nullable = true)\n",
      " |-- Performance_Rating: string (nullable = true)\n",
      "\n"
     ]
    }
   ],
   "source": [
    "hr_employee.printSchema()"
   ]
  },
  {
   "cell_type": "markdown",
   "id": "67858097",
   "metadata": {},
   "source": [
    "#### 1. Big DataFile Types\n",
    "    \n",
    "   * Parquet FileFormat - Records are stored Columunar Format, this file format compreses dataset of .csv of structured format into parquet format. Parquet Format is good for query type of response.\n",
    "   * There are other file formats as well like - AVRO, ORC Formats,"
   ]
  },
  {
   "cell_type": "code",
   "execution_count": 5,
   "id": "3353419f",
   "metadata": {},
   "outputs": [
    {
     "data": {
      "text/plain": [
       "1"
      ]
     },
     "execution_count": 5,
     "metadata": {},
     "output_type": "execute_result"
    }
   ],
   "source": [
    "hr_employee.rdd.getNumPartitions()"
   ]
  },
  {
   "cell_type": "code",
   "execution_count": 6,
   "id": "62b2a95e",
   "metadata": {},
   "outputs": [],
   "source": [
    "hr_employee.write.parquet('file:///home/hadoop/Downloads/HR_Parquet')"
   ]
  },
  {
   "cell_type": "code",
   "execution_count": 7,
   "id": "83c88e3d",
   "metadata": {},
   "outputs": [],
   "source": [
    "hr_employee.write.orc(\"/HR_Orc\")"
   ]
  },
  {
   "cell_type": "code",
   "execution_count": 9,
   "id": "f0cba1f7",
   "metadata": {
    "collapsed": true
   },
   "outputs": [
    {
     "name": "stdout",
     "output_type": "stream",
     "text": [
      "+----------+--------------------+--------------------+---------+------+---+-------------+-------------+--------------+-----------------+--------------+--------+---------------+----------+------+----------+--------+------+-----------------------+---------------+---------------------+---------------+------------------+\n",
      "|EmployeeID|          Department|             JobRole|Attrition|Gender|Age|MaritalStatus|    Education|EducationField|   BusinessTravel|JobInvolvement|JobLevel|JobSatisfaction|Hourlyrate|Income|Salaryhike|OverTime|Workex|YearsSinceLastPromotion|EmpSatisfaction|TrainingTimesLastYear|WorkLifeBalance|Performance_Rating|\n",
      "+----------+--------------------+--------------------+---------+------+---+-------------+-------------+--------------+-----------------+--------------+--------+---------------+----------+------+----------+--------+------+-----------------------+---------------+---------------------+---------------+------------------+\n",
      "|         1|               Sales|     Sales Executive|      Yes|Female| 41|       Single|      College| Life Sciences|    Travel_Rarely|          High|       2|      Very High|        94|  5993|        11|     Yes|     8|                      0|         Medium|                    0|            Bad|         Excellent|\n",
      "|         2|Research & Develo...|  Research Scientist|       No|  Male| 49|      Married|Below College| Life Sciences|Travel_Frequently|        Medium|       2|         Medium|        61|  5130|        23|      No|    10|                      1|           High|                    3|         Better|       Outstanding|\n",
      "|         3|Research & Develo...|Laboratory Techni...|      Yes|  Male| 37|       Single|      College|         Other|    Travel_Rarely|        Medium|       1|           High|        92|  2090|        15|     Yes|     7|                      0|      Very High|                    3|         Better|         Excellent|\n",
      "|         4|Research & Develo...|  Research Scientist|       No|Female| 33|      Married|       Master| Life Sciences|Travel_Frequently|          High|       1|           High|        56|  2909|        11|     Yes|     8|                      3|      Very High|                    3|         Better|         Excellent|\n",
      "|         5|Research & Develo...|Laboratory Techni...|       No|  Male| 27|      Married|Below College|       Medical|    Travel_Rarely|          High|       1|         Medium|        40|  3468|        12|      No|     6|                      2|            Low|                    3|         Better|         Excellent|\n",
      "+----------+--------------------+--------------------+---------+------+---+-------------+-------------+--------------+-----------------+--------------+--------+---------------+----------+------+----------+--------+------+-----------------------+---------------+---------------------+---------------+------------------+\n",
      "only showing top 5 rows\n",
      "\n"
     ]
    }
   ],
   "source": [
    "spark.read.orc(\"/HR_Orc\").show(5)"
   ]
  },
  {
   "cell_type": "markdown",
   "id": "6c941436",
   "metadata": {},
   "source": [
    "#### Optimization Techniques\n",
    "   * Optimizing Spark jobs can significantly improve performance of spark running queris, spark jobs."
   ]
  },
  {
   "cell_type": "markdown",
   "id": "9eab4dd1",
   "metadata": {},
   "source": [
    "2. Partitioning \n",
    "    \n",
    "  * Partitioning divides data into smaller chunks, which can be procesed parallely."
   ]
  },
  {
   "cell_type": "code",
   "execution_count": 10,
   "id": "8e8d7023",
   "metadata": {},
   "outputs": [
    {
     "data": {
      "text/plain": [
       "1"
      ]
     },
     "execution_count": 10,
     "metadata": {},
     "output_type": "execute_result"
    }
   ],
   "source": [
    "hr_employee.rdd.getNumPartitions()"
   ]
  },
  {
   "cell_type": "code",
   "execution_count": 11,
   "id": "62aeee6c",
   "metadata": {},
   "outputs": [],
   "source": [
    "partitionined_df = hr_employee.repartition(3)"
   ]
  },
  {
   "cell_type": "code",
   "execution_count": 12,
   "id": "8c9d22dc",
   "metadata": {},
   "outputs": [],
   "source": [
    "partitionined_df.write.parquet(\"/HR_Partition\")"
   ]
  },
  {
   "cell_type": "markdown",
   "id": "9d682096",
   "metadata": {},
   "source": [
    "#### 3. Caching & Persistance\n",
    "  * Managing Different Level of Storage."
   ]
  },
  {
   "cell_type": "code",
   "execution_count": 13,
   "id": "2a8331fe",
   "metadata": {
    "collapsed": true
   },
   "outputs": [
    {
     "data": {
      "text/plain": [
       "DataFrame[EmployeeID: int, Department: string, JobRole: string, Attrition: string, Gender: string, Age: int, MaritalStatus: string, Education: string, EducationField: string, BusinessTravel: string, JobInvolvement: string, JobLevel: int, JobSatisfaction: string, Hourlyrate: int, Income: int, Salaryhike: int, OverTime: string, Workex: int, YearsSinceLastPromotion: int, EmpSatisfaction: string, TrainingTimesLastYear: int, WorkLifeBalance: string, Performance_Rating: string]"
      ]
     },
     "execution_count": 13,
     "metadata": {},
     "output_type": "execute_result"
    }
   ],
   "source": [
    "# In-Memory Cache Storage.\n",
    "hr_employee.cache()"
   ]
  },
  {
   "cell_type": "code",
   "execution_count": 15,
   "id": "2b53bac3",
   "metadata": {},
   "outputs": [],
   "source": [
    "# Persistance of DataFrame with specific type of storage options like - memeory only, \n",
    "# memory_ser, memory_and_disk\n",
    "from pyspark import StorageLevel\n",
    "hr_employee1 = hr_employee.persist(StorageLevel.MEMORY_AND_DISK)"
   ]
  },
  {
   "cell_type": "code",
   "execution_count": 16,
   "id": "f133a85c",
   "metadata": {},
   "outputs": [],
   "source": [
    "hr_employee2 = hr_employee.persist(StorageLevel.MEMORY_ONLY_SER)"
   ]
  },
  {
   "cell_type": "markdown",
   "id": "a15caaba",
   "metadata": {},
   "source": [
    "#### 4. Serialization\n",
    "  \n",
    "  * Efficient Serialization reduces time to read/write data and transfer it over network.Kyro Serialization is popular serialization method for better performance over default Java Serialization."
   ]
  },
  {
   "cell_type": "markdown",
   "id": "58a58bdd",
   "metadata": {},
   "source": [
    "a) JavaSerialization: \n",
    "* It is default serialization method. Its easy to use but drawback is it will slow down the read, write process. "
   ]
  },
  {
   "cell_type": "code",
   "execution_count": 17,
   "id": "47e37854",
   "metadata": {},
   "outputs": [],
   "source": [
    "from pyspark import SparkContext, SparkConf\n",
    "from pyspark.sql import SparkSession"
   ]
  },
  {
   "cell_type": "code",
   "execution_count": 18,
   "id": "4039ac94",
   "metadata": {},
   "outputs": [],
   "source": [
    "spark = SparkSession.builder.appName(\"Java Serialization\").getOrCreate()"
   ]
  },
  {
   "cell_type": "code",
   "execution_count": 19,
   "id": "464d1437",
   "metadata": {},
   "outputs": [],
   "source": [
    "spark.stop()"
   ]
  },
  {
   "cell_type": "code",
   "execution_count": 20,
   "id": "9b2c4199",
   "metadata": {},
   "outputs": [],
   "source": [
    "spark = SparkSession.builder.appName(\"PySpark Serialization\")\\\n",
    ".config(\"spark.serializer\",\"org.apache.spark.serializer.JavaSerializer\").getOrCreate()"
   ]
  },
  {
   "cell_type": "code",
   "execution_count": 21,
   "id": "22fe4550",
   "metadata": {
    "collapsed": true
   },
   "outputs": [
    {
     "data": {
      "text/html": [
       "\n",
       "            <div>\n",
       "                <p><b>SparkSession - hive</b></p>\n",
       "                \n",
       "        <div>\n",
       "            <p><b>SparkContext</b></p>\n",
       "\n",
       "            <p><a href=\"http://10.0.2.15:4043\">Spark UI</a></p>\n",
       "\n",
       "            <dl>\n",
       "              <dt>Version</dt>\n",
       "                <dd><code>v2.4.8</code></dd>\n",
       "              <dt>Master</dt>\n",
       "                <dd><code>local[*]</code></dd>\n",
       "              <dt>AppName</dt>\n",
       "                <dd><code>PySpark Serialization</code></dd>\n",
       "            </dl>\n",
       "        </div>\n",
       "        \n",
       "            </div>\n",
       "        "
      ],
      "text/plain": [
       "<pyspark.sql.session.SparkSession at 0x7fdc9fe4f208>"
      ]
     },
     "execution_count": 21,
     "metadata": {},
     "output_type": "execute_result"
    }
   ],
   "source": [
    "spark"
   ]
  },
  {
   "cell_type": "markdown",
   "id": "429e17fd",
   "metadata": {},
   "source": [
    "b) Kyro Serialization: Faster, more compact than JavaSerialization."
   ]
  },
  {
   "cell_type": "code",
   "execution_count": 23,
   "id": "00436c61",
   "metadata": {},
   "outputs": [],
   "source": [
    "spark = SparkSession.builder\\\n",
    ".config(\"spark.serializer\",\"org.apache.spark.serializer.KyroSerializer\")\\\n",
    ".config(\"spark.kyro.registationRequired\",\"true\")\\\n",
    ".config(\"spark.kyro.classesToRegister\",\"org.apache.spark.example.Person\")\\\n",
    ".appName(\"Kyro Serialization\").getOrCreate()"
   ]
  },
  {
   "cell_type": "markdown",
   "id": "bed42d2c",
   "metadata": {},
   "source": [
    "#### 5. Broadcast Joins\n",
    "   * Broadcasting small datasets, improve join performance."
   ]
  },
  {
   "cell_type": "code",
   "execution_count": 40,
   "id": "65c56fee",
   "metadata": {},
   "outputs": [],
   "source": [
    "small_df = spark.read.csv(\"file:///home/hadoop/Downloads/airports.csv\", inferSchema=True, \n",
    "                          header=True)\n",
    "df = spark.read.csv(\"/flights/raw_flight_data.csv\", inferSchema=True,\n",
    "                   header=True)"
   ]
  },
  {
   "cell_type": "code",
   "execution_count": 41,
   "id": "a7750801",
   "metadata": {},
   "outputs": [],
   "source": [
    "from pyspark.sql.functions import broadcast\n",
    "broadcast_df = broadcast(small_df)"
   ]
  },
  {
   "cell_type": "code",
   "execution_count": 42,
   "id": "943b60dd",
   "metadata": {},
   "outputs": [],
   "source": [
    "broadcast_df = broadcast_df.cache()\n",
    "df = df.cache()"
   ]
  },
  {
   "cell_type": "code",
   "execution_count": 44,
   "id": "3501406c",
   "metadata": {},
   "outputs": [],
   "source": [
    "# Broadcast Join\n",
    "airport_df = df.join(broadcast_df, df.OriginAirportID == broadcast_df.airport_id)"
   ]
  },
  {
   "cell_type": "code",
   "execution_count": 45,
   "id": "158662dd",
   "metadata": {
    "collapsed": true
   },
   "outputs": [
    {
     "name": "stdout",
     "output_type": "stream",
     "text": [
      "+----------+---------+-------+---------------+-------------+--------+--------+----------+--------------+-----+--------------------+\n",
      "|DayofMonth|DayOfWeek|Carrier|OriginAirportID|DestAirportID|DepDelay|ArrDelay|airport_id|          city|state|                name|\n",
      "+----------+---------+-------+---------------+-------------+--------+--------+----------+--------------+-----+--------------------+\n",
      "|        19|        5|     DL|          11433|        13303|      -3|       1|     11433|       Detroit|   MI|Detroit Metro Way...|\n",
      "|        19|        5|     DL|          14869|        12478|       0|      -8|     14869|Salt Lake City|   UT|Salt Lake City In...|\n",
      "|        19|        5|     DL|          14057|        14869|      -4|     -15|     14057|      Portland|   OR|Portland Internat...|\n",
      "|        19|        5|     DL|          15016|        11433|      28|      24|     15016|     St. Louis|   MO|Lambert-St. Louis...|\n",
      "|        19|        5|     DL|          11193|        12892|      -6|     -11|     11193|    Cincinnati|   OH|Cincinnati/Northe...|\n",
      "+----------+---------+-------+---------------+-------------+--------+--------+----------+--------------+-----+--------------------+\n",
      "only showing top 5 rows\n",
      "\n"
     ]
    }
   ],
   "source": [
    "airport_df.show(5)"
   ]
  },
  {
   "cell_type": "markdown",
   "id": "d4275975",
   "metadata": {},
   "source": [
    "#### 6. Level of Parallelism "
   ]
  },
  {
   "cell_type": "code",
   "execution_count": 46,
   "id": "ab2dba31",
   "metadata": {},
   "outputs": [],
   "source": [
    "# Adjust level of parallelism based on your cluster size.\n",
    "spark.conf.set(\"spark.default.parallellism\", 100)"
   ]
  },
  {
   "cell_type": "markdown",
   "id": "b20bceb6",
   "metadata": {},
   "source": [
    "#### 7. Avoid GroupByKey\n",
    "\n",
    "  * Use ReduceByKey or aggregateByKey() instead of GroupByKey() to reduce number of shuffling."
   ]
  },
  {
   "cell_type": "code",
   "execution_count": 49,
   "id": "f9e659a9",
   "metadata": {},
   "outputs": [
    {
     "data": {
      "text/plain": [
       "[('dosa', 2), ('idly', 6), ('vada', 8), ('rice', 1), ('coffee', 5)]"
      ]
     },
     "execution_count": 49,
     "metadata": {},
     "output_type": "execute_result"
    }
   ],
   "source": [
    "rdd = spark.sparkContext.parallelize([('dosa',2),('idly',3),('vada', 5),('rice',1),\n",
    "                                    ('coffee',5),('idly',3),('vada',3)])\n",
    "rdd.groupByKey().mapValues(sum).collect()"
   ]
  },
  {
   "cell_type": "code",
   "execution_count": 50,
   "id": "3fe673f1",
   "metadata": {},
   "outputs": [
    {
     "data": {
      "text/plain": [
       "[('dosa', 2), ('idly', 6), ('vada', 8), ('rice', 1), ('coffee', 5)]"
      ]
     },
     "execution_count": 50,
     "metadata": {},
     "output_type": "execute_result"
    }
   ],
   "source": [
    "rdd.reduceByKey(lambda x, y : x + y).collect()"
   ]
  },
  {
   "cell_type": "code",
   "execution_count": 60,
   "id": "8646abf4",
   "metadata": {
    "collapsed": true
   },
   "outputs": [
    {
     "name": "stdout",
     "output_type": "stream",
     "text": [
      "+------+-----------+\n",
      "| order|total_value|\n",
      "+------+-----------+\n",
      "|sweets|          3|\n",
      "|  vada|          8|\n",
      "|  dosa|          2|\n",
      "|  idly|          6|\n",
      "|  rice|          1|\n",
      "|coffee|          5|\n",
      "+------+-----------+\n",
      "\n"
     ]
    }
   ],
   "source": [
    "from pyspark.sql.functions import sum\n",
    "\n",
    "df = spark.createDataFrame([('dosa',2),('idly',3),('vada', 5),('rice',1),('coffee',5),\n",
    "                            ('idly',3),('vada',3),('sweets',3)], schema=['order','value'])\n",
    "\n",
    "df.groupBy(\"order\").agg(sum(\"value\").alias(\"total_value\")).show()"
   ]
  },
  {
   "cell_type": "code",
   "execution_count": 61,
   "id": "1a22e5cc",
   "metadata": {
    "collapsed": true
   },
   "outputs": [
    {
     "data": {
      "text/plain": [
       "[('sweets', 3),\n",
       " ('dosa', 2),\n",
       " ('idly', 6),\n",
       " ('vada', 8),\n",
       " ('rice', 1),\n",
       " ('coffee', 5)]"
      ]
     },
     "execution_count": 61,
     "metadata": {},
     "output_type": "execute_result"
    }
   ],
   "source": [
    "df.rdd.reduceByKey(lambda x, y : x + y).collect()"
   ]
  },
  {
   "cell_type": "markdown",
   "id": "d62db5a7",
   "metadata": {},
   "source": [
    "#### 8. Reduce Shuffle\n",
    "   \n",
    "   * Reduce the number of shuffles by optimizing transformations.\n",
    "   * Use reduceByKey() over groupByKey().\n",
    "   * Use map() and reduce() over groupBy()"
   ]
  },
  {
   "cell_type": "markdown",
   "id": "29fc159d",
   "metadata": {},
   "source": [
    "#### 9. Repartition() and Coalesce()"
   ]
  },
  {
   "cell_type": "markdown",
   "id": "68b8108d",
   "metadata": {},
   "source": [
    "#### 10. Accumulators\n",
    "    * Use accumulators for optimizing aggregate information like count(), sum(). Across all executors parallely executing tasks in multiple worker nodes.\n",
    "    * Accumulator in spark are variables that can be added through cumulative operations."
   ]
  },
  {
   "cell_type": "code",
   "execution_count": 71,
   "id": "60bb5f4b",
   "metadata": {},
   "outputs": [],
   "source": [
    "# declare and intilaize an accumulator\n",
    "acc = spark.sparkContext.accumulator(0)"
   ]
  },
  {
   "cell_type": "code",
   "execution_count": 63,
   "id": "acd2b57e",
   "metadata": {},
   "outputs": [
    {
     "data": {
      "text/plain": [
       "pyspark.accumulators.Accumulator"
      ]
     },
     "execution_count": 63,
     "metadata": {},
     "output_type": "execute_result"
    }
   ],
   "source": [
    "type(acc)"
   ]
  },
  {
   "cell_type": "code",
   "execution_count": 64,
   "id": "b1d7613a",
   "metadata": {},
   "outputs": [],
   "source": [
    "rdd = spark.sparkContext.parallelize([1, 2, 3, 4, 5, 6, 7, 8, 9])"
   ]
  },
  {
   "cell_type": "code",
   "execution_count": 65,
   "id": "f83588b9",
   "metadata": {},
   "outputs": [],
   "source": [
    "# Python UDF\n",
    "def add(x):\n",
    "    acc.add(x)"
   ]
  },
  {
   "cell_type": "code",
   "execution_count": 66,
   "id": "63dc56c6",
   "metadata": {},
   "outputs": [],
   "source": [
    "rdd.foreach(add)"
   ]
  },
  {
   "cell_type": "code",
   "execution_count": 68,
   "id": "2be89754",
   "metadata": {},
   "outputs": [
    {
     "name": "stdout",
     "output_type": "stream",
     "text": [
      "45\n"
     ]
    }
   ],
   "source": [
    "print(acc.value)"
   ]
  },
  {
   "cell_type": "code",
   "execution_count": 72,
   "id": "6291a820",
   "metadata": {},
   "outputs": [],
   "source": [
    "def counter(x):\n",
    "    global acc\n",
    "    acc.add(1)\n",
    "    return x "
   ]
  },
  {
   "cell_type": "code",
   "execution_count": 73,
   "id": "ff6f2a8c",
   "metadata": {},
   "outputs": [
    {
     "data": {
      "text/plain": [
       "9"
      ]
     },
     "execution_count": 73,
     "metadata": {},
     "output_type": "execute_result"
    }
   ],
   "source": [
    "rdd.map(counter).count()"
   ]
  },
  {
   "cell_type": "markdown",
   "id": "47cd5566",
   "metadata": {},
   "source": [
    "#### 11. Bucketing\n",
    "    * Use Bucketing to create buckets of large datasets for efficient query and joins."
   ]
  },
  {
   "cell_type": "code",
   "execution_count": null,
   "id": "06420230",
   "metadata": {},
   "outputs": [],
   "source": []
  }
 ],
 "metadata": {
  "kernelspec": {
   "display_name": "Python 3",
   "language": "python",
   "name": "python3"
  },
  "language_info": {
   "codemirror_mode": {
    "name": "ipython",
    "version": 3
   },
   "file_extension": ".py",
   "mimetype": "text/x-python",
   "name": "python",
   "nbconvert_exporter": "python",
   "pygments_lexer": "ipython3",
   "version": "3.6.9"
  }
 },
 "nbformat": 4,
 "nbformat_minor": 5
}
