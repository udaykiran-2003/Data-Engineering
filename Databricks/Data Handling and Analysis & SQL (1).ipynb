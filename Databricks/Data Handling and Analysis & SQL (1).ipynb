{
 "cells": [
  {
   "cell_type": "code",
   "execution_count": 0,
   "metadata": {
    "application/vnd.databricks.v1+cell": {
     "cellMetadata": {
      "byteLimit": 2048000,
      "rowLimit": 10000
     },
     "inputWidgets": {},
     "nuid": "19d8527d-4788-4f1a-82e5-1ac603e63d42",
     "showTitle": false,
     "title": ""
    }
   },
   "outputs": [
    {
     "output_type": "execute_result",
     "data": {
      "text/html": [
       "\n",
       "        <div>\n",
       "            <p><b>SparkContext</b></p>\n",
       "\n",
       "            <p><a href=\"/?o=1405569260508774#setting/sparkui/0925-102539-i7hhr2j9/driver-3086322197163867145\">Spark UI</a></p>\n",
       "\n",
       "            <dl>\n",
       "              <dt>Version</dt>\n",
       "                <dd><code>v3.5.0</code></dd>\n",
       "              <dt>Master</dt>\n",
       "                <dd><code>spark://10.139.64.4:7077</code></dd>\n",
       "              <dt>AppName</dt>\n",
       "                <dd><code>Databricks Shell</code></dd>\n",
       "            </dl>\n",
       "        </div>\n",
       "        "
      ],
      "text/plain": [
       "<SparkContext master=spark://10.139.64.4:7077 appName=Databricks Shell>"
      ]
     },
     "execution_count": 3,
     "metadata": {},
     "output_type": "execute_result"
    }
   ],
   "source": [
    "sc"
   ]
  },
  {
   "cell_type": "code",
   "execution_count": 0,
   "metadata": {
    "application/vnd.databricks.v1+cell": {
     "cellMetadata": {
      "byteLimit": 2048000,
      "rowLimit": 10000
     },
     "inputWidgets": {},
     "nuid": "bf39d909-739b-4e3c-9bab-1d7b838f59a5",
     "showTitle": false,
     "title": ""
    }
   },
   "outputs": [
    {
     "output_type": "execute_result",
     "data": {
      "text/html": [
       "\n",
       "            <div>\n",
       "                <p><b>SparkSession - hive</b></p>\n",
       "                \n",
       "        <div>\n",
       "            <p><b>SparkContext</b></p>\n",
       "\n",
       "            <p><a href=\"/?o=1405569260508774#setting/sparkui/0925-102539-i7hhr2j9/driver-3086322197163867145\">Spark UI</a></p>\n",
       "\n",
       "            <dl>\n",
       "              <dt>Version</dt>\n",
       "                <dd><code>v3.5.0</code></dd>\n",
       "              <dt>Master</dt>\n",
       "                <dd><code>spark://10.139.64.4:7077</code></dd>\n",
       "              <dt>AppName</dt>\n",
       "                <dd><code>Databricks Shell</code></dd>\n",
       "            </dl>\n",
       "        </div>\n",
       "        \n",
       "            </div>\n",
       "        "
      ],
      "text/plain": [
       "<pyspark.sql.session.SparkSession at 0x7f6315383990>"
      ]
     },
     "execution_count": 4,
     "metadata": {},
     "output_type": "execute_result"
    }
   ],
   "source": [
    "spark"
   ]
  },
  {
   "cell_type": "code",
   "execution_count": 0,
   "metadata": {
    "application/vnd.databricks.v1+cell": {
     "cellMetadata": {
      "byteLimit": 2048000,
      "rowLimit": 10000
     },
     "inputWidgets": {},
     "nuid": "0f8a6b8f-90d9-4e8b-a094-3f9587c8937a",
     "showTitle": false,
     "title": ""
    }
   },
   "outputs": [
    {
     "output_type": "execute_result",
     "data": {
      "text/plain": [
       "[FileInfo(path='dbfs:/Volumes/azuredatabricks_1405569260508774/default/sales/sales_data_sample.csv', name='sales_data_sample.csv', size=527958, modificationTime=1727673529000)]"
      ]
     },
     "execution_count": 5,
     "metadata": {},
     "output_type": "execute_result"
    }
   ],
   "source": [
    "dbutils.fs.ls(\"/Volumes/azuredatabricks_1405569260508774/default/sales/\")"
   ]
  },
  {
   "cell_type": "code",
   "execution_count": 0,
   "metadata": {
    "application/vnd.databricks.v1+cell": {
     "cellMetadata": {
      "byteLimit": 2048000,
      "rowLimit": 10000
     },
     "inputWidgets": {},
     "nuid": "c513281f-91b1-4e69-bb58-c0878ffd56bb",
     "showTitle": false,
     "title": ""
    }
   },
   "outputs": [],
   "source": [
    "df = spark.read.format(\"csv\").option(\"header\",\"true\").option(\"inferschema\",\"true\").load(\"/Volumes/azuredatabricks_1405569260508774/default/sales/sales_data_sample.csv\")"
   ]
  },
  {
   "cell_type": "code",
   "execution_count": 0,
   "metadata": {
    "application/vnd.databricks.v1+cell": {
     "cellMetadata": {
      "byteLimit": 2048000,
      "rowLimit": 10000
     },
     "inputWidgets": {},
     "nuid": "7d26fd6d-ba01-4c20-91c5-92c826caa9f2",
     "showTitle": false,
     "title": ""
    }
   },
   "outputs": [
    {
     "output_type": "stream",
     "name": "stdout",
     "output_type": "stream",
     "text": [
      "+-----------+---------------+---------+---------------+-------+---------------+-------+------+--------+-------+-----------+----+-----------+--------------------+----------------+--------------------+------------+-------------+-----+----------+-------+---------+---------------+----------------+--------+\n|ORDERNUMBER|QUANTITYORDERED|PRICEEACH|ORDERLINENUMBER|  SALES|      ORDERDATE| STATUS|QTR_ID|MONTH_ID|YEAR_ID|PRODUCTLINE|MSRP|PRODUCTCODE|        CUSTOMERNAME|           PHONE|        ADDRESSLINE1|ADDRESSLINE2|         CITY|STATE|POSTALCODE|COUNTRY|TERRITORY|CONTACTLASTNAME|CONTACTFIRSTNAME|DEALSIZE|\n+-----------+---------------+---------+---------------+-------+---------------+-------+------+--------+-------+-----------+----+-----------+--------------------+----------------+--------------------+------------+-------------+-----+----------+-------+---------+---------------+----------------+--------+\n|      10107|             30|     95.7|              2| 2871.0| 2/24/2003 0:00|Shipped|     1|       2|   2003|Motorcycles|  95|   S10_1678|   Land of Toys Inc.|      2125557818|897 Long Airport ...|        NULL|          NYC|   NY|     10022|    USA|       NA|             Yu|            Kwai|   Small|\n|      10121|             34|    81.35|              5| 2765.9|  5/7/2003 0:00|Shipped|     2|       5|   2003|Motorcycles|  95|   S10_1678|  Reims Collectables|      26.47.1555|  59 rue de l'Abbaye|        NULL|        Reims| NULL|     51100| France|     EMEA|        Henriot|            Paul|   Small|\n|      10134|             41|    94.74|              2|3884.34|  7/1/2003 0:00|Shipped|     3|       7|   2003|Motorcycles|  95|   S10_1678|     Lyon Souveniers|+33 1 46 62 7555|27 rue du Colonel...|        NULL|        Paris| NULL|     75508| France|     EMEA|       Da Cunha|          Daniel|  Medium|\n|      10145|             45|    83.26|              6| 3746.7| 8/25/2003 0:00|Shipped|     3|       8|   2003|Motorcycles|  95|   S10_1678|   Toys4GrownUps.com|      6265557265|  78934 Hillside Dr.|        NULL|     Pasadena|   CA|     90003|    USA|       NA|          Young|           Julie|  Medium|\n|      10159|             49|    100.0|             14|5205.27|10/10/2003 0:00|Shipped|     4|      10|   2003|Motorcycles|  95|   S10_1678|Corporate Gift Id...|      6505551386|     7734 Strong St.|        NULL|San Francisco|   CA|      NULL|    USA|       NA|          Brown|           Julie|  Medium|\n+-----------+---------------+---------+---------------+-------+---------------+-------+------+--------+-------+-----------+----+-----------+--------------------+----------------+--------------------+------------+-------------+-----+----------+-------+---------+---------------+----------------+--------+\nonly showing top 5 rows\n\n"
     ]
    }
   ],
   "source": [
    "df.show(5)"
   ]
  },
  {
   "cell_type": "code",
   "execution_count": 0,
   "metadata": {
    "application/vnd.databricks.v1+cell": {
     "cellMetadata": {
      "byteLimit": 2048000,
      "rowLimit": 10000
     },
     "inputWidgets": {},
     "nuid": "c401fc9a-b37b-452d-8534-a2c86d007012",
     "showTitle": false,
     "title": ""
    }
   },
   "outputs": [
    {
     "output_type": "stream",
     "name": "stdout",
     "output_type": "stream",
     "text": [
      "root\n |-- ORDERNUMBER: integer (nullable = true)\n |-- QUANTITYORDERED: integer (nullable = true)\n |-- PRICEEACH: double (nullable = true)\n |-- ORDERLINENUMBER: integer (nullable = true)\n |-- SALES: double (nullable = true)\n |-- ORDERDATE: string (nullable = true)\n |-- STATUS: string (nullable = true)\n |-- QTR_ID: integer (nullable = true)\n |-- MONTH_ID: integer (nullable = true)\n |-- YEAR_ID: integer (nullable = true)\n |-- PRODUCTLINE: string (nullable = true)\n |-- MSRP: integer (nullable = true)\n |-- PRODUCTCODE: string (nullable = true)\n |-- CUSTOMERNAME: string (nullable = true)\n |-- PHONE: string (nullable = true)\n |-- ADDRESSLINE1: string (nullable = true)\n |-- ADDRESSLINE2: string (nullable = true)\n |-- CITY: string (nullable = true)\n |-- STATE: string (nullable = true)\n |-- POSTALCODE: string (nullable = true)\n |-- COUNTRY: string (nullable = true)\n |-- TERRITORY: string (nullable = true)\n |-- CONTACTLASTNAME: string (nullable = true)\n |-- CONTACTFIRSTNAME: string (nullable = true)\n |-- DEALSIZE: string (nullable = true)\n\n"
     ]
    }
   ],
   "source": [
    "df.printSchema()"
   ]
  },
  {
   "cell_type": "code",
   "execution_count": 0,
   "metadata": {
    "application/vnd.databricks.v1+cell": {
     "cellMetadata": {
      "byteLimit": 2048000,
      "rowLimit": 10000
     },
     "inputWidgets": {},
     "nuid": "d730ae86-421c-4580-addd-b8e86c99823a",
     "showTitle": false,
     "title": ""
    }
   },
   "outputs": [],
   "source": [
    "df.createOrReplaceTempView(\"productssales\")"
   ]
  },
  {
   "cell_type": "markdown",
   "metadata": {
    "application/vnd.databricks.v1+cell": {
     "cellMetadata": {},
     "inputWidgets": {},
     "nuid": "6fe1977e-fc9f-4d91-a31c-4b9454b3d688",
     "showTitle": false,
     "title": ""
    }
   },
   "source": [
    "##### 1. Summary of Product Sales "
   ]
  },
  {
   "cell_type": "code",
   "execution_count": 0,
   "metadata": {
    "application/vnd.databricks.v1+cell": {
     "cellMetadata": {
      "byteLimit": 2048000,
      "implicitDf": true,
      "rowLimit": 10000
     },
     "inputWidgets": {},
     "nuid": "0c472e14-1e8b-43a4-864d-fc64df71bf4f",
     "showTitle": false,
     "title": ""
    }
   },
   "outputs": [
    {
     "output_type": "display_data",
     "data": {
      "text/html": [
       "<style scoped>\n",
       "  .table-result-container {\n",
       "    max-height: 300px;\n",
       "    overflow: auto;\n",
       "  }\n",
       "  table, th, td {\n",
       "    border: 1px solid black;\n",
       "    border-collapse: collapse;\n",
       "  }\n",
       "  th, td {\n",
       "    padding: 5px;\n",
       "  }\n",
       "  th {\n",
       "    text-align: left;\n",
       "  }\n",
       "</style><div class='table-result-container'><table class='table-result'><thead style='background-color: white'><tr><th>salescount</th></tr></thead><tbody><tr><td>2823</td></tr></tbody></table></div>"
      ]
     },
     "metadata": {
      "application/vnd.databricks.v1+output": {
       "addedWidgets": {},
       "aggData": [],
       "aggError": "",
       "aggOverflow": false,
       "aggSchema": [],
       "aggSeriesLimitReached": false,
       "aggType": "",
       "arguments": {},
       "columnCustomDisplayInfos": {},
       "data": [
        [
         2823
        ]
       ],
       "datasetInfos": [],
       "dbfsResultPath": null,
       "isJsonSchema": true,
       "metadata": {
        "createTempViewForImplicitDf": true,
        "dataframeName": "_sqldf",
        "executionCount": 10
       },
       "overflow": false,
       "plotOptions": {
        "customPlotOptions": {},
        "displayType": "table",
        "pivotAggregation": null,
        "pivotColumns": null,
        "xColumns": null,
        "yColumns": null
       },
       "removedWidgets": [],
       "schema": [
        {
         "metadata": "{}",
         "name": "salescount",
         "type": "\"long\""
        }
       ],
       "type": "table"
      }
     },
     "output_type": "display_data"
    },
    {
     "output_type": "display_data",
     "data": {
      "text/plain": [
       "Databricks visualization. Run in Databricks to view."
      ]
     },
     "metadata": {
      "application/vnd.databricks.v1.subcommand+json": {
       "baseErrorDetails": null,
       "bindings": {},
       "collapsed": false,
       "command": "%sql\nselect count(*) as salescount from productssales",
       "commandTitle": "Total Count",
       "commandType": "auto",
       "commandVersion": 0,
       "commentThread": [],
       "commentsVisible": false,
       "contentSha256Hex": null,
       "customPlotOptions": {
        "redashChart": [
         {
          "key": "type",
          "value": "COUNTER"
         },
         {
          "key": "options",
          "value": {
           "counterColName": "salescount",
           "counterLabel": "Sales Count",
           "rowNumber": 1,
           "stringDecChar": ".",
           "stringDecimal": 0,
           "stringThouSep": ",",
           "targetRowNumber": 1,
           "tooltipFormat": "0,0.000"
          }
         }
        ]
       },
       "datasetPreviewNameToCmdIdMap": {},
       "diffDeletes": [],
       "diffInserts": [],
       "displayType": "redashChart",
       "error": null,
       "errorDetails": null,
       "errorSummary": null,
       "errorTraceType": null,
       "finishTime": 0,
       "globalVars": {},
       "guid": "",
       "height": "auto",
       "hideCommandCode": false,
       "hideCommandResult": false,
       "iPythonMetadata": null,
       "inputWidgets": {},
       "isLockedInExamMode": false,
       "latestUser": "a user",
       "latestUserId": null,
       "listResultMetadata": null,
       "metadata": {
        "byteLimit": 2048000,
        "implicitDf": true,
        "rowLimit": 10000
       },
       "nuid": "7464c4a4-8f45-402b-93c2-bdc2cd1b45b3",
       "origId": 0,
       "parentHierarchy": [],
       "pivotAggregation": null,
       "pivotColumns": null,
       "position": 9.546875,
       "resultDbfsErrorMessage": null,
       "resultDbfsStatus": "INLINED_IN_TREE",
       "results": null,
       "showCommandTitle": false,
       "startTime": 0,
       "state": "input",
       "streamStates": {},
       "subcommandOptions": {},
       "submitTime": 0,
       "subtype": "tableResultSubCmd.visualization",
       "tableResultIndex": 0,
       "tableResultSettingsMap": null,
       "useConsistentColors": false,
       "version": "CommandV1",
       "width": "auto",
       "workflows": [],
       "xColumns": null,
       "yColumns": null
      }
     },
     "output_type": "display_data"
    }
   ],
   "source": [
    "%sql\n",
    "select count(*) as salescount from productssales"
   ]
  },
  {
   "cell_type": "code",
   "execution_count": 0,
   "metadata": {
    "application/vnd.databricks.v1+cell": {
     "cellMetadata": {
      "byteLimit": 2048000,
      "implicitDf": true,
      "rowLimit": 10000
     },
     "inputWidgets": {},
     "nuid": "a35fd544-6247-48b7-a7ef-629c8a8d532d",
     "showTitle": false,
     "title": ""
    }
   },
   "outputs": [
    {
     "output_type": "display_data",
     "data": {
      "text/html": [
       "<style scoped>\n",
       "  .table-result-container {\n",
       "    max-height: 300px;\n",
       "    overflow: auto;\n",
       "  }\n",
       "  table, th, td {\n",
       "    border: 1px solid black;\n",
       "    border-collapse: collapse;\n",
       "  }\n",
       "  th, td {\n",
       "    padding: 5px;\n",
       "  }\n",
       "  th {\n",
       "    text-align: left;\n",
       "  }\n",
       "</style><div class='table-result-container'><table class='table-result'><thead style='background-color: white'><tr><th>Total_Sales</th></tr></thead><tbody><tr><td>1.003262885E7</td></tr></tbody></table></div>"
      ]
     },
     "metadata": {
      "application/vnd.databricks.v1+output": {
       "addedWidgets": {},
       "aggData": [],
       "aggError": "",
       "aggOverflow": false,
       "aggSchema": [],
       "aggSeriesLimitReached": false,
       "aggType": "",
       "arguments": {},
       "columnCustomDisplayInfos": {},
       "data": [
        [
         1.003262885E7
        ]
       ],
       "datasetInfos": [],
       "dbfsResultPath": null,
       "isJsonSchema": true,
       "metadata": {
        "createTempViewForImplicitDf": true,
        "dataframeName": "_sqldf",
        "executionCount": 11
       },
       "overflow": false,
       "plotOptions": {
        "customPlotOptions": {},
        "displayType": "table",
        "pivotAggregation": null,
        "pivotColumns": null,
        "xColumns": null,
        "yColumns": null
       },
       "removedWidgets": [],
       "schema": [
        {
         "metadata": "{}",
         "name": "Total_Sales",
         "type": "\"double\""
        }
       ],
       "type": "table"
      }
     },
     "output_type": "display_data"
    },
    {
     "output_type": "display_data",
     "data": {
      "text/plain": [
       "Databricks visualization. Run in Databricks to view."
      ]
     },
     "metadata": {
      "application/vnd.databricks.v1.subcommand+json": {
       "baseErrorDetails": null,
       "bindings": {},
       "collapsed": false,
       "command": "%sql\nselect ROUND(sum(SALES),2) as Total_Sales from productssales",
       "commandTitle": "Visualization 1",
       "commandType": "auto",
       "commandVersion": 0,
       "commentThread": [],
       "commentsVisible": false,
       "contentSha256Hex": null,
       "customPlotOptions": {
        "redashChart": [
         {
          "key": "type",
          "value": "COUNTER"
         },
         {
          "key": "options",
          "value": {
           "countRow": false,
           "counterColName": "Total_Sales",
           "counterLabel": "Total Sales",
           "rowNumber": 1,
           "stringDecChar": ".",
           "stringDecimal": 2,
           "stringThouSep": ",",
           "targetRowNumber": 1,
           "tooltipFormat": "0,0.000"
          }
         }
        ]
       },
       "datasetPreviewNameToCmdIdMap": {},
       "diffDeletes": [],
       "diffInserts": [],
       "displayType": "redashChart",
       "error": null,
       "errorDetails": null,
       "errorSummary": null,
       "errorTraceType": null,
       "finishTime": 0,
       "globalVars": {},
       "guid": "",
       "height": "auto",
       "hideCommandCode": false,
       "hideCommandResult": false,
       "iPythonMetadata": null,
       "inputWidgets": {},
       "isLockedInExamMode": false,
       "latestUser": "a user",
       "latestUserId": null,
       "listResultMetadata": null,
       "metadata": {
        "byteLimit": 2048000,
        "implicitDf": true,
        "rowLimit": 10000
       },
       "nuid": "44eff10a-c247-4ebe-8052-8e61d87cc25d",
       "origId": 0,
       "parentHierarchy": [],
       "pivotAggregation": null,
       "pivotColumns": null,
       "position": 9.5625,
       "resultDbfsErrorMessage": null,
       "resultDbfsStatus": "INLINED_IN_TREE",
       "results": null,
       "showCommandTitle": false,
       "startTime": 0,
       "state": "input",
       "streamStates": {},
       "subcommandOptions": {},
       "submitTime": 0,
       "subtype": "tableResultSubCmd.visualization",
       "tableResultIndex": 0,
       "tableResultSettingsMap": null,
       "useConsistentColors": false,
       "version": "CommandV1",
       "width": "auto",
       "workflows": [],
       "xColumns": null,
       "yColumns": null
      }
     },
     "output_type": "display_data"
    }
   ],
   "source": [
    "%sql\n",
    "select ROUND(sum(SALES),2) as Total_Sales from productssales"
   ]
  },
  {
   "cell_type": "code",
   "execution_count": 0,
   "metadata": {
    "application/vnd.databricks.v1+cell": {
     "cellMetadata": {
      "byteLimit": 2048000,
      "implicitDf": true,
      "rowLimit": 10000
     },
     "inputWidgets": {},
     "nuid": "a9fb830a-4cc3-4bdd-8f76-0355e5eaf021",
     "showTitle": false,
     "title": ""
    }
   },
   "outputs": [
    {
     "output_type": "display_data",
     "data": {
      "text/html": [
       "<style scoped>\n",
       "  .table-result-container {\n",
       "    max-height: 300px;\n",
       "    overflow: auto;\n",
       "  }\n",
       "  table, th, td {\n",
       "    border: 1px solid black;\n",
       "    border-collapse: collapse;\n",
       "  }\n",
       "  th, td {\n",
       "    padding: 5px;\n",
       "  }\n",
       "  th {\n",
       "    text-align: left;\n",
       "  }\n",
       "</style><div class='table-result-container'><table class='table-result'><thead style='background-color: white'><tr><th>TOTALPROFIT</th></tr></thead><tbody><tr><td>1741742.06</td></tr></tbody></table></div>"
      ]
     },
     "metadata": {
      "application/vnd.databricks.v1+output": {
       "addedWidgets": {},
       "aggData": [],
       "aggError": "",
       "aggOverflow": false,
       "aggSchema": [],
       "aggSeriesLimitReached": false,
       "aggType": "",
       "arguments": {},
       "columnCustomDisplayInfos": {},
       "data": [
        [
         1741742.06
        ]
       ],
       "datasetInfos": [],
       "dbfsResultPath": null,
       "isJsonSchema": true,
       "metadata": {
        "createTempViewForImplicitDf": true,
        "dataframeName": "_sqldf",
        "executionCount": 12
       },
       "overflow": false,
       "plotOptions": {
        "customPlotOptions": {},
        "displayType": "table",
        "pivotAggregation": null,
        "pivotColumns": null,
        "xColumns": null,
        "yColumns": null
       },
       "removedWidgets": [],
       "schema": [
        {
         "metadata": "{}",
         "name": "TOTALPROFIT",
         "type": "\"double\""
        }
       ],
       "type": "table"
      }
     },
     "output_type": "display_data"
    },
    {
     "output_type": "display_data",
     "data": {
      "text/plain": [
       "Databricks visualization. Run in Databricks to view."
      ]
     },
     "metadata": {
      "application/vnd.databricks.v1.subcommand+json": {
       "baseErrorDetails": null,
       "bindings": {},
       "collapsed": false,
       "command": "%sql\nselect ROUND(SUM(SALES - PRICEEACH*QUANTITYORDERED),2) AS TOTALPROFIT from productssales",
       "commandTitle": "Visualization 1",
       "commandType": "auto",
       "commandVersion": 0,
       "commentThread": [],
       "commentsVisible": false,
       "contentSha256Hex": null,
       "customPlotOptions": {
        "redashChart": [
         {
          "key": "type",
          "value": "COUNTER"
         },
         {
          "key": "options",
          "value": {
           "counterColName": "TOTALPROFIT",
           "counterLabel": "Total Profit",
           "rowNumber": 1,
           "stringDecChar": ".",
           "stringDecimal": 2,
           "stringThouSep": ",",
           "targetRowNumber": 1,
           "tooltipFormat": "0,0.000"
          }
         }
        ]
       },
       "datasetPreviewNameToCmdIdMap": {},
       "diffDeletes": [],
       "diffInserts": [],
       "displayType": "redashChart",
       "error": null,
       "errorDetails": null,
       "errorSummary": null,
       "errorTraceType": null,
       "finishTime": 0,
       "globalVars": {},
       "guid": "",
       "height": "auto",
       "hideCommandCode": false,
       "hideCommandResult": false,
       "iPythonMetadata": null,
       "inputWidgets": {},
       "isLockedInExamMode": false,
       "latestUser": "a user",
       "latestUserId": null,
       "listResultMetadata": null,
       "metadata": {
        "byteLimit": 2048000,
        "implicitDf": true,
        "rowLimit": 10000
       },
       "nuid": "7ba4b615-966f-4ec7-a857-120280fad911",
       "origId": 0,
       "parentHierarchy": [],
       "pivotAggregation": null,
       "pivotColumns": null,
       "position": 9.609375,
       "resultDbfsErrorMessage": null,
       "resultDbfsStatus": "INLINED_IN_TREE",
       "results": null,
       "showCommandTitle": false,
       "startTime": 0,
       "state": "input",
       "streamStates": {},
       "subcommandOptions": {},
       "submitTime": 0,
       "subtype": "tableResultSubCmd.visualization",
       "tableResultIndex": 0,
       "tableResultSettingsMap": null,
       "useConsistentColors": false,
       "version": "CommandV1",
       "width": "auto",
       "workflows": [],
       "xColumns": null,
       "yColumns": null
      }
     },
     "output_type": "display_data"
    }
   ],
   "source": [
    "%sql\n",
    "select ROUND(SUM(SALES - PRICEEACH*QUANTITYORDERED),2) AS TOTALPROFIT from productssales"
   ]
  },
  {
   "cell_type": "code",
   "execution_count": 0,
   "metadata": {
    "application/vnd.databricks.v1+cell": {
     "cellMetadata": {
      "byteLimit": 2048000,
      "implicitDf": true,
      "rowLimit": 10000
     },
     "inputWidgets": {},
     "nuid": "890c1a53-7e75-444b-b01b-6973e2f9c180",
     "showTitle": false,
     "title": ""
    }
   },
   "outputs": [
    {
     "output_type": "display_data",
     "data": {
      "text/html": [
       "<style scoped>\n",
       "  .table-result-container {\n",
       "    max-height: 300px;\n",
       "    overflow: auto;\n",
       "  }\n",
       "  table, th, td {\n",
       "    border: 1px solid black;\n",
       "    border-collapse: collapse;\n",
       "  }\n",
       "  th, td {\n",
       "    padding: 5px;\n",
       "  }\n",
       "  th {\n",
       "    text-align: left;\n",
       "  }\n",
       "</style><div class='table-result-container'><table class='table-result'><thead style='background-color: white'><tr><th>TotalCustomers</th></tr></thead><tbody><tr><td>92</td></tr></tbody></table></div>"
      ]
     },
     "metadata": {
      "application/vnd.databricks.v1+output": {
       "addedWidgets": {},
       "aggData": [],
       "aggError": "",
       "aggOverflow": false,
       "aggSchema": [],
       "aggSeriesLimitReached": false,
       "aggType": "",
       "arguments": {},
       "columnCustomDisplayInfos": {},
       "data": [
        [
         92
        ]
       ],
       "datasetInfos": [],
       "dbfsResultPath": null,
       "isJsonSchema": true,
       "metadata": {
        "createTempViewForImplicitDf": true,
        "dataframeName": "_sqldf",
        "executionCount": 13
       },
       "overflow": false,
       "plotOptions": {
        "customPlotOptions": {},
        "displayType": "table",
        "pivotAggregation": null,
        "pivotColumns": null,
        "xColumns": null,
        "yColumns": null
       },
       "removedWidgets": [],
       "schema": [
        {
         "metadata": "{}",
         "name": "TotalCustomers",
         "type": "\"long\""
        }
       ],
       "type": "table"
      }
     },
     "output_type": "display_data"
    },
    {
     "output_type": "display_data",
     "data": {
      "text/plain": [
       "Databricks visualization. Run in Databricks to view."
      ]
     },
     "metadata": {
      "application/vnd.databricks.v1.subcommand+json": {
       "baseErrorDetails": null,
       "bindings": {},
       "collapsed": false,
       "command": "%sql\nselect count(distinct CUSTOMERNAME) as TotalCustomers from productssales",
       "commandTitle": "Visualization 1",
       "commandType": "auto",
       "commandVersion": 0,
       "commentThread": [],
       "commentsVisible": false,
       "contentSha256Hex": null,
       "customPlotOptions": {
        "redashChart": [
         {
          "key": "type",
          "value": "COUNTER"
         },
         {
          "key": "options",
          "value": {
           "counterColName": "TotalCustomers",
           "counterLabel": "Total Customers",
           "rowNumber": 1,
           "stringDecChar": ".",
           "stringDecimal": 0,
           "stringThouSep": ",",
           "targetRowNumber": 1,
           "tooltipFormat": "0,0.000"
          }
         }
        ]
       },
       "datasetPreviewNameToCmdIdMap": {},
       "diffDeletes": [],
       "diffInserts": [],
       "displayType": "redashChart",
       "error": null,
       "errorDetails": null,
       "errorSummary": null,
       "errorTraceType": null,
       "finishTime": 0,
       "globalVars": {},
       "guid": "",
       "height": "auto",
       "hideCommandCode": false,
       "hideCommandResult": false,
       "iPythonMetadata": null,
       "inputWidgets": {},
       "isLockedInExamMode": false,
       "latestUser": "a user",
       "latestUserId": null,
       "listResultMetadata": null,
       "metadata": {
        "byteLimit": 2048000,
        "implicitDf": true,
        "rowLimit": 10000
       },
       "nuid": "bc1aeea6-6448-44b5-8f59-452909f7dce9",
       "origId": 0,
       "parentHierarchy": [],
       "pivotAggregation": null,
       "pivotColumns": null,
       "position": 9.611328125,
       "resultDbfsErrorMessage": null,
       "resultDbfsStatus": "INLINED_IN_TREE",
       "results": null,
       "showCommandTitle": false,
       "startTime": 0,
       "state": "input",
       "streamStates": {},
       "subcommandOptions": {},
       "submitTime": 0,
       "subtype": "tableResultSubCmd.visualization",
       "tableResultIndex": 0,
       "tableResultSettingsMap": null,
       "useConsistentColors": false,
       "version": "CommandV1",
       "width": "auto",
       "workflows": [],
       "xColumns": null,
       "yColumns": null
      }
     },
     "output_type": "display_data"
    }
   ],
   "source": [
    "%sql\n",
    "select count(distinct CUSTOMERNAME) as TotalCustomers from productssales"
   ]
  },
  {
   "cell_type": "code",
   "execution_count": 0,
   "metadata": {
    "application/vnd.databricks.v1+cell": {
     "cellMetadata": {
      "byteLimit": 2048000,
      "implicitDf": true,
      "rowLimit": 10000
     },
     "inputWidgets": {},
     "nuid": "de2296c2-fe74-445e-beb7-6af3afc2b562",
     "showTitle": false,
     "title": ""
    }
   },
   "outputs": [
    {
     "output_type": "display_data",
     "data": {
      "text/html": [
       "<style scoped>\n",
       "  .table-result-container {\n",
       "    max-height: 300px;\n",
       "    overflow: auto;\n",
       "  }\n",
       "  table, th, td {\n",
       "    border: 1px solid black;\n",
       "    border-collapse: collapse;\n",
       "  }\n",
       "  th, td {\n",
       "    padding: 5px;\n",
       "  }\n",
       "  th {\n",
       "    text-align: left;\n",
       "  }\n",
       "</style><div class='table-result-container'><table class='table-result'><thead style='background-color: white'><tr><th>ProductCount</th></tr></thead><tbody><tr><td>109</td></tr></tbody></table></div>"
      ]
     },
     "metadata": {
      "application/vnd.databricks.v1+output": {
       "addedWidgets": {},
       "aggData": [],
       "aggError": "",
       "aggOverflow": false,
       "aggSchema": [],
       "aggSeriesLimitReached": false,
       "aggType": "",
       "arguments": {},
       "columnCustomDisplayInfos": {},
       "data": [
        [
         109
        ]
       ],
       "datasetInfos": [],
       "dbfsResultPath": null,
       "isJsonSchema": true,
       "metadata": {
        "createTempViewForImplicitDf": true,
        "dataframeName": "_sqldf",
        "executionCount": 13
       },
       "overflow": false,
       "plotOptions": {
        "customPlotOptions": {},
        "displayType": "table",
        "pivotAggregation": null,
        "pivotColumns": null,
        "xColumns": null,
        "yColumns": null
       },
       "removedWidgets": [],
       "schema": [
        {
         "metadata": "{}",
         "name": "ProductCount",
         "type": "\"long\""
        }
       ],
       "type": "table"
      }
     },
     "output_type": "display_data"
    },
    {
     "output_type": "display_data",
     "data": {
      "text/plain": [
       "Databricks visualization. Run in Databricks to view."
      ]
     },
     "metadata": {
      "application/vnd.databricks.v1.subcommand+json": {
       "baseErrorDetails": null,
       "bindings": {},
       "collapsed": false,
       "command": "%sql\nselect count(distinct PRODUCTCODE) as ProductCount from productssales",
       "commandTitle": "Visualization 1",
       "commandType": "auto",
       "commandVersion": 0,
       "commentThread": [],
       "commentsVisible": false,
       "contentSha256Hex": null,
       "customPlotOptions": {
        "redashChart": [
         {
          "key": "type",
          "value": "COUNTER"
         },
         {
          "key": "options",
          "value": {
           "counterColName": "ProductCount",
           "counterLabel": "Product Count",
           "rowNumber": 1,
           "stringDecChar": ".",
           "stringDecimal": 0,
           "stringThouSep": ",",
           "targetRowNumber": 1,
           "tooltipFormat": "0,0.000"
          }
         }
        ]
       },
       "datasetPreviewNameToCmdIdMap": {},
       "diffDeletes": [],
       "diffInserts": [],
       "displayType": "redashChart",
       "error": null,
       "errorDetails": null,
       "errorSummary": null,
       "errorTraceType": null,
       "finishTime": 0,
       "globalVars": {},
       "guid": "",
       "height": "auto",
       "hideCommandCode": false,
       "hideCommandResult": false,
       "iPythonMetadata": null,
       "inputWidgets": {},
       "isLockedInExamMode": false,
       "latestUser": "a user",
       "latestUserId": null,
       "listResultMetadata": null,
       "metadata": {
        "byteLimit": 2048000,
        "implicitDf": true,
        "rowLimit": 10000
       },
       "nuid": "c4c35522-a0af-43a3-9e20-69ee1a9d3ce4",
       "origId": 0,
       "parentHierarchy": [],
       "pivotAggregation": null,
       "pivotColumns": null,
       "position": 9.6123046875,
       "resultDbfsErrorMessage": null,
       "resultDbfsStatus": "INLINED_IN_TREE",
       "results": null,
       "showCommandTitle": false,
       "startTime": 0,
       "state": "input",
       "streamStates": {},
       "subcommandOptions": {},
       "submitTime": 0,
       "subtype": "tableResultSubCmd.visualization",
       "tableResultIndex": 0,
       "tableResultSettingsMap": null,
       "useConsistentColors": false,
       "version": "CommandV1",
       "width": "auto",
       "workflows": [],
       "xColumns": null,
       "yColumns": null
      }
     },
     "output_type": "display_data"
    }
   ],
   "source": [
    "%sql\n",
    "select count(distinct PRODUCTCODE) as ProductCount from productssales"
   ]
  },
  {
   "cell_type": "markdown",
   "metadata": {
    "application/vnd.databricks.v1+cell": {
     "cellMetadata": {},
     "inputWidgets": {},
     "nuid": "c0adcf7f-5dbf-4388-89e1-cf9e9d922ba8",
     "showTitle": false,
     "title": ""
    }
   },
   "source": [
    "##### 2. Quantity Sold Per Product"
   ]
  },
  {
   "cell_type": "code",
   "execution_count": 0,
   "metadata": {
    "application/vnd.databricks.v1+cell": {
     "cellMetadata": {
      "byteLimit": 2048000,
      "implicitDf": true,
      "rowLimit": 10000
     },
     "inputWidgets": {},
     "nuid": "3318e0be-87c7-41b1-a594-9d62a6e441fa",
     "showTitle": false,
     "title": ""
    }
   },
   "outputs": [
    {
     "output_type": "display_data",
     "data": {
      "text/html": [
       "<style scoped>\n",
       "  .table-result-container {\n",
       "    max-height: 300px;\n",
       "    overflow: auto;\n",
       "  }\n",
       "  table, th, td {\n",
       "    border: 1px solid black;\n",
       "    border-collapse: collapse;\n",
       "  }\n",
       "  th, td {\n",
       "    padding: 5px;\n",
       "  }\n",
       "  th {\n",
       "    text-align: left;\n",
       "  }\n",
       "</style><div class='table-result-container'><table class='table-result'><thead style='background-color: white'><tr><th>PRODUCTLINE</th><th>ProductSold</th></tr></thead><tbody><tr><td>Classic Cars</td><td>33992</td></tr><tr><td>Motorcycles</td><td>11663</td></tr><tr><td>Planes</td><td>10727</td></tr><tr><td>Ships</td><td>8127</td></tr><tr><td>Trains</td><td>2712</td></tr><tr><td>Trucks and Buses</td><td>10777</td></tr><tr><td>Vintage Cars</td><td>21069</td></tr></tbody></table></div>"
      ]
     },
     "metadata": {
      "application/vnd.databricks.v1+output": {
       "addedWidgets": {},
       "aggData": [],
       "aggError": "",
       "aggOverflow": false,
       "aggSchema": [],
       "aggSeriesLimitReached": false,
       "aggType": "",
       "arguments": {},
       "columnCustomDisplayInfos": {},
       "data": [
        [
         "Classic Cars",
         33992
        ],
        [
         "Motorcycles",
         11663
        ],
        [
         "Planes",
         10727
        ],
        [
         "Ships",
         8127
        ],
        [
         "Trains",
         2712
        ],
        [
         "Trucks and Buses",
         10777
        ],
        [
         "Vintage Cars",
         21069
        ]
       ],
       "datasetInfos": [],
       "dbfsResultPath": null,
       "isJsonSchema": true,
       "metadata": {
        "createTempViewForImplicitDf": true,
        "dataframeName": "_sqldf",
        "executionCount": 14
       },
       "overflow": false,
       "plotOptions": {
        "customPlotOptions": {},
        "displayType": "table",
        "pivotAggregation": null,
        "pivotColumns": null,
        "xColumns": null,
        "yColumns": null
       },
       "removedWidgets": [],
       "schema": [
        {
         "metadata": "{}",
         "name": "PRODUCTLINE",
         "type": "\"string\""
        },
        {
         "metadata": "{}",
         "name": "ProductSold",
         "type": "\"long\""
        }
       ],
       "type": "table"
      }
     },
     "output_type": "display_data"
    },
    {
     "output_type": "display_data",
     "data": {
      "text/plain": [
       "Databricks visualization. Run in Databricks to view."
      ]
     },
     "metadata": {
      "application/vnd.databricks.v1.subcommand+json": {
       "baseErrorDetails": null,
       "bindings": {},
       "collapsed": false,
       "command": "%sql WITH q AS (select PRODUCTLINE, SUM(QUANTITYORDERED) as ProductSold from productssales group by PRODUCTLINE ORDER BY PRODUCTLINE) SELECT `PRODUCTLINE`,SUM(`ProductSold`) `column_12e9f4c310` FROM q GROUP BY `PRODUCTLINE`",
       "commandTitle": "Quantity Sold Per Product",
       "commandType": "auto",
       "commandVersion": 0,
       "commentThread": [],
       "commentsVisible": false,
       "contentSha256Hex": null,
       "customPlotOptions": {
        "redashChart": [
         {
          "key": "type",
          "value": "CHART"
         },
         {
          "key": "options",
          "value": {
           "alignYAxesAtZero": true,
           "coefficient": 1,
           "columnConfigurationMap": {
            "x": {
             "column": "PRODUCTLINE",
             "id": "column_12e9f4c316"
            },
            "y": [
             {
              "column": "ProductSold",
              "id": "column_12e9f4c310",
              "transform": "SUM"
             }
            ]
           },
           "dateTimeFormat": "DD/MM/YYYY HH:mm",
           "direction": {
            "type": "counterclockwise"
           },
           "error_y": {
            "type": "data",
            "visible": true
           },
           "globalSeriesType": "pie",
           "isAggregationOn": true,
           "legend": {
            "traceorder": "normal"
           },
           "missingValuesAsZero": true,
           "numberFormat": "0,0.[00000]",
           "percentFormat": "0[.]00%",
           "series": {
            "error_y": {
             "type": "data",
             "visible": true
            },
            "stacking": null
           },
           "seriesOptions": {
            "column_12e9f4c310": {
             "name": "Product Sold",
             "type": "pie",
             "yAxis": 0
            }
           },
           "showDataLabels": true,
           "sizemode": "diameter",
           "sortX": true,
           "sortY": true,
           "swappedAxes": false,
           "textFormat": "",
           "useAggregationsUi": true,
           "valuesOptions": {},
           "version": 2,
           "xAxis": {
            "labels": {
             "enabled": true
            },
            "type": "-"
           },
           "yAxis": [
            {
             "type": "-"
            },
            {
             "opposite": true,
             "type": "-"
            }
           ]
          }
         }
        ]
       },
       "datasetPreviewNameToCmdIdMap": {},
       "diffDeletes": [],
       "diffInserts": [],
       "displayType": "redashChart",
       "error": null,
       "errorDetails": null,
       "errorSummary": null,
       "errorTraceType": null,
       "finishTime": 0,
       "globalVars": {},
       "guid": "",
       "height": "auto",
       "hideCommandCode": false,
       "hideCommandResult": false,
       "iPythonMetadata": null,
       "inputWidgets": {},
       "isLockedInExamMode": false,
       "latestUser": "a user",
       "latestUserId": null,
       "listResultMetadata": null,
       "metadata": {
        "byteLimit": 2048000,
        "implicitDf": true,
        "rowLimit": 10000
       },
       "nuid": "db953e3a-ca55-47b4-838f-9cf57b760723",
       "origId": 0,
       "parentHierarchy": [],
       "pivotAggregation": null,
       "pivotColumns": null,
       "position": 9.6171875,
       "resultDbfsErrorMessage": null,
       "resultDbfsStatus": "INLINED_IN_TREE",
       "results": null,
       "showCommandTitle": false,
       "startTime": 0,
       "state": "input",
       "streamStates": {},
       "subcommandOptions": {
        "queryPlan": {
         "groups": [
          {
           "column": "PRODUCTLINE",
           "type": "column"
          }
         ],
         "selects": [
          {
           "column": "PRODUCTLINE",
           "type": "column"
          },
          {
           "alias": "column_12e9f4c310",
           "args": [
            {
             "column": "ProductSold",
             "type": "column"
            }
           ],
           "function": "SUM",
           "type": "function"
          }
         ]
        }
       },
       "submitTime": 0,
       "subtype": "tableResultSubCmd.visualization",
       "tableResultIndex": 0,
       "tableResultSettingsMap": null,
       "useConsistentColors": false,
       "version": "CommandV1",
       "width": "auto",
       "workflows": [],
       "xColumns": null,
       "yColumns": null
      }
     },
     "output_type": "display_data"
    }
   ],
   "source": [
    "%sql\n",
    "select PRODUCTLINE, SUM(QUANTITYORDERED) as ProductSold from productssales group by PRODUCTLINE ORDER BY PRODUCTLINE"
   ]
  },
  {
   "cell_type": "markdown",
   "metadata": {
    "application/vnd.databricks.v1+cell": {
     "cellMetadata": {},
     "inputWidgets": {},
     "nuid": "4ede3517-1cad-40ff-8261-4483964be784",
     "showTitle": false,
     "title": ""
    }
   },
   "source": [
    "#####3. Quantity Sold Per Month"
   ]
  },
  {
   "cell_type": "code",
   "execution_count": 0,
   "metadata": {
    "application/vnd.databricks.v1+cell": {
     "cellMetadata": {
      "byteLimit": 2048000,
      "implicitDf": true,
      "rowLimit": 10000
     },
     "inputWidgets": {},
     "nuid": "a2f721cc-affe-40c1-a004-0c6c8abaa2da",
     "showTitle": false,
     "title": ""
    }
   },
   "outputs": [
    {
     "output_type": "display_data",
     "data": {
      "text/html": [
       "<style scoped>\n",
       "  .table-result-container {\n",
       "    max-height: 300px;\n",
       "    overflow: auto;\n",
       "  }\n",
       "  table, th, td {\n",
       "    border: 1px solid black;\n",
       "    border-collapse: collapse;\n",
       "  }\n",
       "  th, td {\n",
       "    padding: 5px;\n",
       "  }\n",
       "  th {\n",
       "    text-align: left;\n",
       "  }\n",
       "</style><div class='table-result-container'><table class='table-result'><thead style='background-color: white'><tr><th>MONTH_ID</th><th>ProductSold</th></tr></thead><tbody><tr><td>1</td><td>7997</td></tr><tr><td>2</td><td>7903</td></tr><tr><td>3</td><td>7585</td></tr><tr><td>4</td><td>6704</td></tr><tr><td>5</td><td>8992</td></tr><tr><td>6</td><td>4620</td></tr><tr><td>7</td><td>4899</td></tr><tr><td>8</td><td>6538</td></tr><tr><td>9</td><td>5681</td></tr><tr><td>10</td><td>10998</td></tr><tr><td>11</td><td>20857</td></tr><tr><td>12</td><td>6293</td></tr></tbody></table></div>"
      ]
     },
     "metadata": {
      "application/vnd.databricks.v1+output": {
       "addedWidgets": {},
       "aggData": [],
       "aggError": "",
       "aggOverflow": false,
       "aggSchema": [],
       "aggSeriesLimitReached": false,
       "aggType": "",
       "arguments": {},
       "columnCustomDisplayInfos": {},
       "data": [
        [
         1,
         7997
        ],
        [
         2,
         7903
        ],
        [
         3,
         7585
        ],
        [
         4,
         6704
        ],
        [
         5,
         8992
        ],
        [
         6,
         4620
        ],
        [
         7,
         4899
        ],
        [
         8,
         6538
        ],
        [
         9,
         5681
        ],
        [
         10,
         10998
        ],
        [
         11,
         20857
        ],
        [
         12,
         6293
        ]
       ],
       "datasetInfos": [],
       "dbfsResultPath": null,
       "isJsonSchema": true,
       "metadata": {
        "createTempViewForImplicitDf": true,
        "dataframeName": "_sqldf",
        "executionCount": 15
       },
       "overflow": false,
       "plotOptions": {
        "customPlotOptions": {},
        "displayType": "table",
        "pivotAggregation": null,
        "pivotColumns": null,
        "xColumns": null,
        "yColumns": null
       },
       "removedWidgets": [],
       "schema": [
        {
         "metadata": "{}",
         "name": "MONTH_ID",
         "type": "\"integer\""
        },
        {
         "metadata": "{}",
         "name": "ProductSold",
         "type": "\"long\""
        }
       ],
       "type": "table"
      }
     },
     "output_type": "display_data"
    },
    {
     "output_type": "display_data",
     "data": {
      "text/plain": [
       "Databricks visualization. Run in Databricks to view."
      ]
     },
     "metadata": {
      "application/vnd.databricks.v1.subcommand+json": {
       "baseErrorDetails": null,
       "bindings": {},
       "collapsed": false,
       "command": "%sql WITH q AS (select MONTH_ID, SUM(QUANTITYORDERED) as ProductSold from productssales group by MONTH_ID ORDER BY MONTH_ID) SELECT `MONTH_ID`,SUM(`ProductSold`) `column_9d6191373` FROM q GROUP BY `MONTH_ID`",
       "commandTitle": "Quantity Sold",
       "commandType": "auto",
       "commandVersion": 0,
       "commentThread": [],
       "commentsVisible": false,
       "contentSha256Hex": null,
       "customPlotOptions": {
        "redashChart": [
         {
          "key": "type",
          "value": "CHART"
         },
         {
          "key": "options",
          "value": {
           "alignYAxesAtZero": true,
           "coefficient": 1,
           "columnConfigurationMap": {
            "x": {
             "column": "MONTH_ID",
             "id": "column_9d6191372"
            },
            "y": [
             {
              "column": "ProductSold",
              "id": "column_9d6191373",
              "transform": "SUM"
             }
            ]
           },
           "dateTimeFormat": "DD/MM/YYYY HH:mm",
           "direction": {
            "type": "counterclockwise"
           },
           "error_y": {
            "type": "data",
            "visible": true
           },
           "globalSeriesType": "column",
           "isAggregationOn": true,
           "legend": {
            "traceorder": "normal"
           },
           "missingValuesAsZero": true,
           "numberFormat": "0,0.[00000]",
           "percentFormat": "0[.]00%",
           "series": {
            "error_y": {
             "type": "data",
             "visible": true
            },
            "stacking": null
           },
           "seriesOptions": {
            "column_9d6191373": {
             "color": "#C63FA9",
             "name": "ProductSold",
             "type": "column",
             "yAxis": 0
            }
           },
           "showDataLabels": false,
           "sizemode": "diameter",
           "sortX": true,
           "sortY": true,
           "swappedAxes": false,
           "textFormat": "",
           "useAggregationsUi": true,
           "valuesOptions": {},
           "version": 2,
           "xAxis": {
            "labels": {
             "enabled": true
            },
            "title": {
             "text": "Month"
            },
            "type": "-"
           },
           "yAxis": [
            {
             "title": {
              "text": "Quantity Sold"
             },
             "type": "-"
            },
            {
             "opposite": true,
             "type": "-"
            }
           ]
          }
         }
        ]
       },
       "datasetPreviewNameToCmdIdMap": {},
       "diffDeletes": [],
       "diffInserts": [],
       "displayType": "redashChart",
       "error": null,
       "errorDetails": null,
       "errorSummary": null,
       "errorTraceType": null,
       "finishTime": 0,
       "globalVars": {},
       "guid": "",
       "height": "auto",
       "hideCommandCode": false,
       "hideCommandResult": false,
       "iPythonMetadata": null,
       "inputWidgets": {},
       "isLockedInExamMode": false,
       "latestUser": "a user",
       "latestUserId": null,
       "listResultMetadata": null,
       "metadata": {
        "byteLimit": 2048000,
        "implicitDf": true,
        "rowLimit": 10000
       },
       "nuid": "94dcb359-dec2-46df-9b4e-acc8852ae2b0",
       "origId": 0,
       "parentHierarchy": [],
       "pivotAggregation": null,
       "pivotColumns": null,
       "position": 9.62109375,
       "resultDbfsErrorMessage": null,
       "resultDbfsStatus": "INLINED_IN_TREE",
       "results": null,
       "showCommandTitle": false,
       "startTime": 0,
       "state": "input",
       "streamStates": {},
       "subcommandOptions": {
        "queryPlan": {
         "groups": [
          {
           "column": "MONTH_ID",
           "type": "column"
          }
         ],
         "selects": [
          {
           "column": "MONTH_ID",
           "type": "column"
          },
          {
           "alias": "column_9d6191373",
           "args": [
            {
             "column": "ProductSold",
             "type": "column"
            }
           ],
           "function": "SUM",
           "type": "function"
          }
         ]
        }
       },
       "submitTime": 0,
       "subtype": "tableResultSubCmd.visualization",
       "tableResultIndex": 0,
       "tableResultSettingsMap": null,
       "useConsistentColors": false,
       "version": "CommandV1",
       "width": "auto",
       "workflows": [],
       "xColumns": null,
       "yColumns": null
      }
     },
     "output_type": "display_data"
    }
   ],
   "source": [
    "%sql\n",
    "select MONTH_ID, SUM(QUANTITYORDERED) as ProductSold from productssales group by MONTH_ID ORDER BY MONTH_ID"
   ]
  },
  {
   "cell_type": "markdown",
   "metadata": {
    "application/vnd.databricks.v1+cell": {
     "cellMetadata": {},
     "inputWidgets": {},
     "nuid": "3458f97b-d7de-4163-9766-c223d827f0ab",
     "showTitle": false,
     "title": ""
    }
   },
   "source": [
    "##### 4. Month on Month Sales Growth"
   ]
  },
  {
   "cell_type": "code",
   "execution_count": 0,
   "metadata": {
    "application/vnd.databricks.v1+cell": {
     "cellMetadata": {
      "byteLimit": 2048000,
      "implicitDf": true,
      "rowLimit": 10000
     },
     "inputWidgets": {},
     "nuid": "56c9a1ab-dedc-4ce6-aa04-92dfaa0e9129",
     "showTitle": false,
     "title": ""
    }
   },
   "outputs": [
    {
     "output_type": "display_data",
     "data": {
      "text/html": [
       "<style scoped>\n",
       "  .table-result-container {\n",
       "    max-height: 300px;\n",
       "    overflow: auto;\n",
       "  }\n",
       "  table, th, td {\n",
       "    border: 1px solid black;\n",
       "    border-collapse: collapse;\n",
       "  }\n",
       "  th, td {\n",
       "    padding: 5px;\n",
       "  }\n",
       "  th {\n",
       "    text-align: left;\n",
       "  }\n",
       "</style><div class='table-result-container'><table class='table-result'><thead style='background-color: white'><tr><th>total_sales</th><th>dayofmonth</th><th>month_id</th></tr></thead><tbody><tr><td>67893.95</td><td>10</td><td>2</td></tr><tr><td>148418.29</td><td>17</td><td>2</td></tr><tr><td>5307.98</td><td>27</td><td>9</td></tr><tr><td>54251.66</td><td>13</td><td>10</td></tr><tr><td>27257.79</td><td>4</td><td>10</td></tr><tr><td>65824.18</td><td>6</td><td>1</td></tr><tr><td>20321.53</td><td>17</td><td>3</td></tr><tr><td>14066.8</td><td>7</td><td>4</td></tr><tr><td>27489.45</td><td>2</td><td>2</td></tr><tr><td>102666.6</td><td>25</td><td>11</td></tr><tr><td>93717.43</td><td>8</td><td>9</td></tr><tr><td>31329.56</td><td>9</td><td>4</td></tr><tr><td>61617.01</td><td>19</td><td>2</td></tr><tr><td>1637.2</td><td>13</td><td>8</td></tr><tr><td>49637.57</td><td>20</td><td>2</td></tr><tr><td>25624.88</td><td>1</td><td>7</td></tr><tr><td>17251.08</td><td>4</td><td>7</td></tr><tr><td>11021.3</td><td>7</td><td>1</td></tr><tr><td>50977.87</td><td>2</td><td>3</td></tr><tr><td>30214.42</td><td>15</td><td>12</td></tr><tr><td>38784.47</td><td>12</td><td>2</td></tr><tr><td>65611.59</td><td>21</td><td>11</td></tr><tr><td>38360.4</td><td>16</td><td>2</td></tr><tr><td>62305.47</td><td>28</td><td>10</td></tr><tr><td>78918.03</td><td>31</td><td>5</td></tr><tr><td>35321.66</td><td>9</td><td>1</td></tr><tr><td>7129.0</td><td>26</td><td>4</td></tr><tr><td>131236.0</td><td>14</td><td>11</td></tr><tr><td>51172.65</td><td>15</td><td>1</td></tr><tr><td>78725.3</td><td>29</td><td>4</td></tr><tr><td>42902.84</td><td>1</td><td>9</td></tr><tr><td>48828.72</td><td>27</td><td>8</td></tr><tr><td>17707.67</td><td>23</td><td>2</td></tr><tr><td>2173.6</td><td>28</td><td>8</td></tr><tr><td>22167.74</td><td>27</td><td>6</td></tr><tr><td>161805.08</td><td>4</td><td>11</td></tr><tr><td>94764.0</td><td>12</td><td>1</td></tr><tr><td>71717.47</td><td>15</td><td>6</td></tr><tr><td>40321.61</td><td>17</td><td>10</td></tr><tr><td>34453.85</td><td>6</td><td>8</td></tr><tr><td>43657.47</td><td>16</td><td>4</td></tr><tr><td>41509.94</td><td>10</td><td>5</td></tr><tr><td>38629.14</td><td>28</td><td>4</td></tr><tr><td>48316.89</td><td>6</td><td>5</td></tr><tr><td>53815.72</td><td>1</td><td>3</td></tr><tr><td>63186.86</td><td>26</td><td>1</td></tr><tr><td>26906.68</td><td>20</td><td>3</td></tr><tr><td>93677.36</td><td>31</td><td>1</td></tr><tr><td>1711.26</td><td>11</td><td>4</td></tr><tr><td>42744.06</td><td>30</td><td>9</td></tr><tr><td>137644.72</td><td>24</td><td>11</td></tr><tr><td>15702.09</td><td>19</td><td>1</td></tr><tr><td>52287.74</td><td>3</td><td>5</td></tr><tr><td>43585.8</td><td>21</td><td>5</td></tr><tr><td>31821.9</td><td>13</td><td>5</td></tr><tr><td>152157.3</td><td>20</td><td>11</td></tr><tr><td>85880.76</td><td>1</td><td>11</td></tr><tr><td>53152.28</td><td>15</td><td>11</td></tr><tr><td>22841.96</td><td>27</td><td>11</td></tr><tr><td>24564.53</td><td>17</td><td>6</td></tr><tr><td>66642.72</td><td>15</td><td>10</td></tr><tr><td>18971.96</td><td>16</td><td>9</td></tr><tr><td>75744.25</td><td>1</td><td>4</td></tr><tr><td>24804.34</td><td>5</td><td>4</td></tr><tr><td>103487.36</td><td>21</td><td>10</td></tr><tr><td>96354.71</td><td>9</td><td>12</td></tr><tr><td>32194.79</td><td>23</td><td>3</td></tr><tr><td>33180.59</td><td>18</td><td>10</td></tr><tr><td>7673.38</td><td>7</td><td>9</td></tr><tr><td>61073.21</td><td>28</td><td>5</td></tr><tr><td>38662.21</td><td>5</td><td>12</td></tr><tr><td>20178.13</td><td>21</td><td>2</td></tr><tr><td>35680.35</td><td>14</td><td>4</td></tr><tr><td>5774.48</td><td>8</td><td>10</td></tr><tr><td>23492.21</td><td>10</td><td>1</td></tr><tr><td>48472.24</td><td>11</td><td>5</td></tr><tr><td>124409.4</td><td>3</td><td>3</td></tr><tr><td>13463.48</td><td>22</td><td>11</td></tr><tr><td>35160.25</td><td>9</td><td>3</td></tr><tr><td>97958.38</td><td>17</td><td>11</td></tr><tr><td>31569.43</td><td>1</td><td>8</td></tr><tr><td>26422.82</td><td>9</td><td>2</td></tr><tr><td>4219.2</td><td>21</td><td>4</td></tr><tr><td>25783.76</td><td>24</td><td>2</td></tr><tr><td>18695.58</td><td>25</td><td>3</td></tr><tr><td>35090.54</td><td>16</td><td>7</td></tr><tr><td>56078.26</td><td>17</td><td>8</td></tr><tr><td>66862.76</td><td>8</td><td>5</td></tr><tr><td>47191.76</td><td>11</td><td>9</td></tr><tr><td>51233.18</td><td>29</td><td>5</td></tr><tr><td>56455.66</td><td>13</td><td>4</td></tr><tr><td>27931.21</td><td>26</td><td>5</td></tr><tr><td>14578.75</td><td>30</td><td>5</td></tr><tr><td>62871.28</td><td>21</td><td>7</td></tr><tr><td>61133.28</td><td>4</td><td>3</td></tr><tr><td>56421.65</td><td>6</td><td>7</td></tr><tr><td>86508.07</td><td>26</td><td>11</td></tr><tr><td>29884.13</td><td>7</td><td>12</td></tr><tr><td>20719.91</td><td>29</td><td>10</td></tr><tr><td>38098.24</td><td>8</td><td>11</td></tr><tr><td>54536.87</td><td>2</td><td>1</td></tr><tr><td>16128.1</td><td>14</td><td>6</td></tr><tr><td>9749.0</td><td>24</td><td>3</td></tr><tr><td>34311.35</td><td>7</td><td>11</td></tr><tr><td>63088.16</td><td>8</td><td>8</td></tr><tr><td>34993.92</td><td>15</td><td>9</td></tr><tr><td>51045.5</td><td>3</td><td>11</td></tr><tr><td>31302.5</td><td>2</td><td>4</td></tr><tr><td>48922.77</td><td>11</td><td>3</td></tr><tr><td>5098.48</td><td>28</td><td>2</td></tr><tr><td>27987.07</td><td>18</td><td>5</td></tr><tr><td>19548.35</td><td>30</td><td>6</td></tr><tr><td>20146.32</td><td>9</td><td>11</td></tr><tr><td>16560.3</td><td>20</td><td>5</td></tr><tr><td>34145.47</td><td>21</td><td>8</td></tr><tr><td>5416.9</td><td>4</td><td>6</td></tr><tr><td>21986.27</td><td>9</td><td>8</td></tr><tr><td>47727.82</td><td>28</td><td>9</td></tr><tr><td>69342.54</td><td>18</td><td>11</td></tr><tr><td>37905.15</td><td>17</td><td>12</td></tr><tr><td>68462.15</td><td>3</td><td>6</td></tr><tr><td>12398.56</td><td>26</td><td>3</td></tr><tr><td>40061.66</td><td>13</td><td>11</td></tr><tr><td>3987.2</td><td>8</td><td>2</td></tr><tr><td>64329.62</td><td>7</td><td>5</td></tr><tr><td>92552.08</td><td>29</td><td>1</td></tr><tr><td>61892.52</td><td>29</td><td>11</td></tr><tr><td>45078.76</td><td>5</td><td>10</td></tr><tr><td>50010.65</td><td>24</td><td>6</td></tr><tr><td>65165.17</td><td>16</td><td>1</td></tr><tr><td>27628.3</td><td>16</td><td>6</td></tr><tr><td>14378.09</td><td>9</td><td>5</td></tr><tr><td>56002.9</td><td>23</td><td>7</td></tr><tr><td>96139.5</td><td>20</td><td>8</td></tr><tr><td>20037.24</td><td>10</td><td>9</td></tr><tr><td>174660.02</td><td>22</td><td>10</td></tr><tr><td>23963.22</td><td>3</td><td>9</td></tr><tr><td>15928.75</td><td>16</td><td>11</td></tr><tr><td>41297.14</td><td>19</td><td>7</td></tr><tr><td>17813.4</td><td>12</td><td>4</td></tr><tr><td>8722.12</td><td>29</td><td>3</td></tr><tr><td>67281.01</td><td>30</td><td>8</td></tr><tr><td>48874.28</td><td>11</td><td>11</td></tr><tr><td>18800.09</td><td>18</td><td>2</td></tr><tr><td>68270.84</td><td>20</td><td>7</td></tr><tr><td>61326.95</td><td>20</td><td>1</td></tr><tr><td>72101.59</td><td>6</td><td>10</td></tr><tr><td>46956.93</td><td>2</td><td>11</td></tr><tr><td>161701.44</td><td>2</td><td>12</td></tr><tr><td>34100.03</td><td>12</td><td>9</td></tr><tr><td>25284.75</td><td>20</td><td>10</td></tr><tr><td>40802.81</td><td>8</td><td>4</td></tr><tr><td>5142.15</td><td>2</td><td>10</td></tr><tr><td>75372.96</td><td>1</td><td>12</td></tr><tr><td>55888.65</td><td>23</td><td>11</td></tr><tr><td>57956.68</td><td>10</td><td>3</td></tr><tr><td>26012.87</td><td>15</td><td>4</td></tr><tr><td>59617.4</td><td>3</td><td>2</td></tr><tr><td>10640.29</td><td>25</td><td>9</td></tr><tr><td>33692.97</td><td>1</td><td>5</td></tr><tr><td>59620.35</td><td>15</td><td>3</td></tr><tr><td>93587.56</td><td>10</td><td>12</td></tr><tr><td>13529.57</td><td>5</td><td>1</td></tr><tr><td>103815.53</td><td>16</td><td>10</td></tr><tr><td>44219.36</td><td>19</td><td>9</td></tr><tr><td>114456.85</td><td>6</td><td>11</td></tr><tr><td>1698.78</td><td>20</td><td>4</td></tr><tr><td>15139.12</td><td>28</td><td>3</td></tr><tr><td>2587.58</td><td>23</td><td>4</td></tr><tr><td>15330.7</td><td>19</td><td>3</td></tr><tr><td>32376.29</td><td>12</td><td>6</td></tr><tr><td>38039.0</td><td>9</td><td>9</td></tr><tr><td>51017.92</td><td>18</td><td>3</td></tr><tr><td>41653.19</td><td>3</td><td>12</td></tr><tr><td>23252.18</td><td>7</td><td>7</td></tr><tr><td>36124.27</td><td>23</td><td>1</td></tr><tr><td>24078.61</td><td>10</td><td>11</td></tr><tr><td>53806.24</td><td>3</td><td>4</td></tr><tr><td>24219.59</td><td>4</td><td>2</td></tr><tr><td>24777.41</td><td>4</td><td>4</td></tr><tr><td>63972.95</td><td>10</td><td>10</td></tr><tr><td>58871.11</td><td>11</td><td>2</td></tr><tr><td>152853.42</td><td>12</td><td>11</td></tr><tr><td>59475.1</td><td>17</td><td>5</td></tr><tr><td>37501.58</td><td>21</td><td>9</td></tr><tr><td>52505.36</td><td>2</td><td>8</td></tr><tr><td>4749.45</td><td>8</td><td>6</td></tr><tr><td>17448.08</td><td>6</td><td>6</td></tr><tr><td>15146.32</td><td>10</td><td>7</td></tr><tr><td>50408.25</td><td>1</td><td>6</td></tr><tr><td>34992.4</td><td>5</td><td>9</td></tr><tr><td>25872.22</td><td>26</td><td>2</td></tr><tr><td>188381.49</td><td>5</td><td>11</td></tr><tr><td>44781.35</td><td>19</td><td>8</td></tr><tr><td>71615.33</td><td>2</td><td>7</td></tr><tr><td>3127.88</td><td>4</td><td>8</td></tr><tr><td>91682.29</td><td>22</td><td>2</td></tr><tr><td>48710.92</td><td>23</td><td>10</td></tr><tr><td>36973.31</td><td>4</td><td>5</td></tr><tr><td>58437.04</td><td>22</td><td>4</td></tr><tr><td>52029.07</td><td>30</td><td>3</td></tr><tr><td>85272.92</td><td>14</td><td>10</td></tr><tr><td>103984.45</td><td>5</td><td>5</td></tr><tr><td>42031.83</td><td>24</td><td>7</td></tr><tr><td>45642.34</td><td>19</td><td>11</td></tr><tr><td>83234.04</td><td>11</td><td>10</td></tr><tr><td>8477.22</td><td>22</td><td>1</td></tr><tr><td>45738.39</td><td>10</td><td>8</td></tr><tr><td>29343.35</td><td>4</td><td>12</td></tr><tr><td>55776.12</td><td>25</td><td>8</td></tr><tr><td>44130.52</td><td>28</td><td>6</td></tr></tbody></table></div>"
      ]
     },
     "metadata": {
      "application/vnd.databricks.v1+output": {
       "addedWidgets": {},
       "aggData": [],
       "aggError": "",
       "aggOverflow": false,
       "aggSchema": [],
       "aggSeriesLimitReached": false,
       "aggType": "",
       "arguments": {},
       "columnCustomDisplayInfos": {},
       "data": [
        [
         67893.95,
         10,
         2
        ],
        [
         148418.29,
         17,
         2
        ],
        [
         5307.98,
         27,
         9
        ],
        [
         54251.66,
         13,
         10
        ],
        [
         27257.79,
         4,
         10
        ],
        [
         65824.18,
         6,
         1
        ],
        [
         20321.53,
         17,
         3
        ],
        [
         14066.8,
         7,
         4
        ],
        [
         27489.45,
         2,
         2
        ],
        [
         102666.6,
         25,
         11
        ],
        [
         93717.43,
         8,
         9
        ],
        [
         31329.56,
         9,
         4
        ],
        [
         61617.01,
         19,
         2
        ],
        [
         1637.2,
         13,
         8
        ],
        [
         49637.57,
         20,
         2
        ],
        [
         25624.88,
         1,
         7
        ],
        [
         17251.08,
         4,
         7
        ],
        [
         11021.3,
         7,
         1
        ],
        [
         50977.87,
         2,
         3
        ],
        [
         30214.42,
         15,
         12
        ],
        [
         38784.47,
         12,
         2
        ],
        [
         65611.59,
         21,
         11
        ],
        [
         38360.4,
         16,
         2
        ],
        [
         62305.47,
         28,
         10
        ],
        [
         78918.03,
         31,
         5
        ],
        [
         35321.66,
         9,
         1
        ],
        [
         7129.0,
         26,
         4
        ],
        [
         131236.0,
         14,
         11
        ],
        [
         51172.65,
         15,
         1
        ],
        [
         78725.3,
         29,
         4
        ],
        [
         42902.84,
         1,
         9
        ],
        [
         48828.72,
         27,
         8
        ],
        [
         17707.67,
         23,
         2
        ],
        [
         2173.6,
         28,
         8
        ],
        [
         22167.74,
         27,
         6
        ],
        [
         161805.08,
         4,
         11
        ],
        [
         94764.0,
         12,
         1
        ],
        [
         71717.47,
         15,
         6
        ],
        [
         40321.61,
         17,
         10
        ],
        [
         34453.85,
         6,
         8
        ],
        [
         43657.47,
         16,
         4
        ],
        [
         41509.94,
         10,
         5
        ],
        [
         38629.14,
         28,
         4
        ],
        [
         48316.89,
         6,
         5
        ],
        [
         53815.72,
         1,
         3
        ],
        [
         63186.86,
         26,
         1
        ],
        [
         26906.68,
         20,
         3
        ],
        [
         93677.36,
         31,
         1
        ],
        [
         1711.26,
         11,
         4
        ],
        [
         42744.06,
         30,
         9
        ],
        [
         137644.72,
         24,
         11
        ],
        [
         15702.09,
         19,
         1
        ],
        [
         52287.74,
         3,
         5
        ],
        [
         43585.8,
         21,
         5
        ],
        [
         31821.9,
         13,
         5
        ],
        [
         152157.3,
         20,
         11
        ],
        [
         85880.76,
         1,
         11
        ],
        [
         53152.28,
         15,
         11
        ],
        [
         22841.96,
         27,
         11
        ],
        [
         24564.53,
         17,
         6
        ],
        [
         66642.72,
         15,
         10
        ],
        [
         18971.96,
         16,
         9
        ],
        [
         75744.25,
         1,
         4
        ],
        [
         24804.34,
         5,
         4
        ],
        [
         103487.36,
         21,
         10
        ],
        [
         96354.71,
         9,
         12
        ],
        [
         32194.79,
         23,
         3
        ],
        [
         33180.59,
         18,
         10
        ],
        [
         7673.38,
         7,
         9
        ],
        [
         61073.21,
         28,
         5
        ],
        [
         38662.21,
         5,
         12
        ],
        [
         20178.13,
         21,
         2
        ],
        [
         35680.35,
         14,
         4
        ],
        [
         5774.48,
         8,
         10
        ],
        [
         23492.21,
         10,
         1
        ],
        [
         48472.24,
         11,
         5
        ],
        [
         124409.4,
         3,
         3
        ],
        [
         13463.48,
         22,
         11
        ],
        [
         35160.25,
         9,
         3
        ],
        [
         97958.38,
         17,
         11
        ],
        [
         31569.43,
         1,
         8
        ],
        [
         26422.82,
         9,
         2
        ],
        [
         4219.2,
         21,
         4
        ],
        [
         25783.76,
         24,
         2
        ],
        [
         18695.58,
         25,
         3
        ],
        [
         35090.54,
         16,
         7
        ],
        [
         56078.26,
         17,
         8
        ],
        [
         66862.76,
         8,
         5
        ],
        [
         47191.76,
         11,
         9
        ],
        [
         51233.18,
         29,
         5
        ],
        [
         56455.66,
         13,
         4
        ],
        [
         27931.21,
         26,
         5
        ],
        [
         14578.75,
         30,
         5
        ],
        [
         62871.28,
         21,
         7
        ],
        [
         61133.28,
         4,
         3
        ],
        [
         56421.65,
         6,
         7
        ],
        [
         86508.07,
         26,
         11
        ],
        [
         29884.13,
         7,
         12
        ],
        [
         20719.91,
         29,
         10
        ],
        [
         38098.24,
         8,
         11
        ],
        [
         54536.87,
         2,
         1
        ],
        [
         16128.1,
         14,
         6
        ],
        [
         9749.0,
         24,
         3
        ],
        [
         34311.35,
         7,
         11
        ],
        [
         63088.16,
         8,
         8
        ],
        [
         34993.92,
         15,
         9
        ],
        [
         51045.5,
         3,
         11
        ],
        [
         31302.5,
         2,
         4
        ],
        [
         48922.77,
         11,
         3
        ],
        [
         5098.48,
         28,
         2
        ],
        [
         27987.07,
         18,
         5
        ],
        [
         19548.35,
         30,
         6
        ],
        [
         20146.32,
         9,
         11
        ],
        [
         16560.3,
         20,
         5
        ],
        [
         34145.47,
         21,
         8
        ],
        [
         5416.9,
         4,
         6
        ],
        [
         21986.27,
         9,
         8
        ],
        [
         47727.82,
         28,
         9
        ],
        [
         69342.54,
         18,
         11
        ],
        [
         37905.15,
         17,
         12
        ],
        [
         68462.15,
         3,
         6
        ],
        [
         12398.56,
         26,
         3
        ],
        [
         40061.66,
         13,
         11
        ],
        [
         3987.2,
         8,
         2
        ],
        [
         64329.62,
         7,
         5
        ],
        [
         92552.08,
         29,
         1
        ],
        [
         61892.52,
         29,
         11
        ],
        [
         45078.76,
         5,
         10
        ],
        [
         50010.65,
         24,
         6
        ],
        [
         65165.17,
         16,
         1
        ],
        [
         27628.3,
         16,
         6
        ],
        [
         14378.09,
         9,
         5
        ],
        [
         56002.9,
         23,
         7
        ],
        [
         96139.5,
         20,
         8
        ],
        [
         20037.24,
         10,
         9
        ],
        [
         174660.02,
         22,
         10
        ],
        [
         23963.22,
         3,
         9
        ],
        [
         15928.75,
         16,
         11
        ],
        [
         41297.14,
         19,
         7
        ],
        [
         17813.4,
         12,
         4
        ],
        [
         8722.12,
         29,
         3
        ],
        [
         67281.01,
         30,
         8
        ],
        [
         48874.28,
         11,
         11
        ],
        [
         18800.09,
         18,
         2
        ],
        [
         68270.84,
         20,
         7
        ],
        [
         61326.95,
         20,
         1
        ],
        [
         72101.59,
         6,
         10
        ],
        [
         46956.93,
         2,
         11
        ],
        [
         161701.44,
         2,
         12
        ],
        [
         34100.03,
         12,
         9
        ],
        [
         25284.75,
         20,
         10
        ],
        [
         40802.81,
         8,
         4
        ],
        [
         5142.15,
         2,
         10
        ],
        [
         75372.96,
         1,
         12
        ],
        [
         55888.65,
         23,
         11
        ],
        [
         57956.68,
         10,
         3
        ],
        [
         26012.87,
         15,
         4
        ],
        [
         59617.4,
         3,
         2
        ],
        [
         10640.29,
         25,
         9
        ],
        [
         33692.97,
         1,
         5
        ],
        [
         59620.35,
         15,
         3
        ],
        [
         93587.56,
         10,
         12
        ],
        [
         13529.57,
         5,
         1
        ],
        [
         103815.53,
         16,
         10
        ],
        [
         44219.36,
         19,
         9
        ],
        [
         114456.85,
         6,
         11
        ],
        [
         1698.78,
         20,
         4
        ],
        [
         15139.12,
         28,
         3
        ],
        [
         2587.58,
         23,
         4
        ],
        [
         15330.7,
         19,
         3
        ],
        [
         32376.29,
         12,
         6
        ],
        [
         38039.0,
         9,
         9
        ],
        [
         51017.92,
         18,
         3
        ],
        [
         41653.19,
         3,
         12
        ],
        [
         23252.18,
         7,
         7
        ],
        [
         36124.27,
         23,
         1
        ],
        [
         24078.61,
         10,
         11
        ],
        [
         53806.24,
         3,
         4
        ],
        [
         24219.59,
         4,
         2
        ],
        [
         24777.41,
         4,
         4
        ],
        [
         63972.95,
         10,
         10
        ],
        [
         58871.11,
         11,
         2
        ],
        [
         152853.42,
         12,
         11
        ],
        [
         59475.1,
         17,
         5
        ],
        [
         37501.58,
         21,
         9
        ],
        [
         52505.36,
         2,
         8
        ],
        [
         4749.45,
         8,
         6
        ],
        [
         17448.08,
         6,
         6
        ],
        [
         15146.32,
         10,
         7
        ],
        [
         50408.25,
         1,
         6
        ],
        [
         34992.4,
         5,
         9
        ],
        [
         25872.22,
         26,
         2
        ],
        [
         188381.49,
         5,
         11
        ],
        [
         44781.35,
         19,
         8
        ],
        [
         71615.33,
         2,
         7
        ],
        [
         3127.88,
         4,
         8
        ],
        [
         91682.29,
         22,
         2
        ],
        [
         48710.92,
         23,
         10
        ],
        [
         36973.31,
         4,
         5
        ],
        [
         58437.04,
         22,
         4
        ],
        [
         52029.07,
         30,
         3
        ],
        [
         85272.92,
         14,
         10
        ],
        [
         103984.45,
         5,
         5
        ],
        [
         42031.83,
         24,
         7
        ],
        [
         45642.34,
         19,
         11
        ],
        [
         83234.04,
         11,
         10
        ],
        [
         8477.22,
         22,
         1
        ],
        [
         45738.39,
         10,
         8
        ],
        [
         29343.35,
         4,
         12
        ],
        [
         55776.12,
         25,
         8
        ],
        [
         44130.52,
         28,
         6
        ]
       ],
       "datasetInfos": [],
       "dbfsResultPath": null,
       "isJsonSchema": true,
       "metadata": {
        "createTempViewForImplicitDf": true,
        "dataframeName": "_sqldf",
        "executionCount": 16
       },
       "overflow": false,
       "plotOptions": {
        "customPlotOptions": {},
        "displayType": "table",
        "pivotAggregation": null,
        "pivotColumns": null,
        "xColumns": null,
        "yColumns": null
       },
       "removedWidgets": [],
       "schema": [
        {
         "metadata": "{}",
         "name": "total_sales",
         "type": "\"double\""
        },
        {
         "metadata": "{}",
         "name": "dayofmonth",
         "type": "\"integer\""
        },
        {
         "metadata": "{}",
         "name": "month_id",
         "type": "\"integer\""
        }
       ],
       "type": "table"
      }
     },
     "output_type": "display_data"
    },
    {
     "output_type": "display_data",
     "data": {
      "text/plain": [
       "Databricks visualization. Run in Databricks to view."
      ]
     },
     "metadata": {
      "application/vnd.databricks.v1.subcommand+json": {
       "baseErrorDetails": null,
       "bindings": {},
       "collapsed": false,
       "command": "%sql WITH q AS (select round(sum(sales),3) as total_sales, day(to_timestamp(orderdate, 'M/d/yyyy H:mm')) as dayofmonth, month_id\nfrom productssales group by dayofmonth, month_id) SELECT `dayofmonth`,SUM(`total_sales`) `column_9d6191377`,`month_id` FROM q GROUP BY `dayofmonth`,`month_id`",
       "commandTitle": "Monthly Sales Growth",
       "commandType": "auto",
       "commandVersion": 0,
       "commentThread": [],
       "commentsVisible": false,
       "contentSha256Hex": null,
       "customPlotOptions": {
        "redashChart": [
         {
          "key": "type",
          "value": "CHART"
         },
         {
          "key": "options",
          "value": {
           "alignYAxesAtZero": true,
           "coefficient": 1,
           "columnConfigurationMap": {
            "series": {
             "column": "month_id",
             "id": "column_9d6191379"
            },
            "x": {
             "column": "dayofmonth",
             "id": "column_9d6191375"
            },
            "y": [
             {
              "column": "total_sales",
              "id": "column_9d6191377",
              "transform": "SUM"
             }
            ]
           },
           "dateTimeFormat": "DD/MM/YYYY HH:mm",
           "direction": {
            "type": "counterclockwise"
           },
           "error_y": {
            "type": "data",
            "visible": true
           },
           "globalSeriesType": "line",
           "isAggregationOn": true,
           "legend": {
            "traceorder": "normal"
           },
           "missingValuesAsZero": false,
           "numberFormat": "0,0.[00000]",
           "percentFormat": "0[.]00%",
           "series": {
            "error_y": {
             "type": "data",
             "visible": true
            },
            "stacking": null
           },
           "seriesOptions": {
            "1": {
             "name": "Jan",
             "zIndex": 0
            },
            "10": {
             "name": "Oct",
             "zIndex": 9
            },
            "11": {
             "name": "Nov",
             "zIndex": 10
            },
            "12": {
             "name": "Dec",
             "zIndex": 11
            },
            "2": {
             "name": "Feb",
             "zIndex": 1
            },
            "3": {
             "name": "March",
             "zIndex": 2
            },
            "4": {
             "name": "April",
             "zIndex": 3
            },
            "5": {
             "name": "May",
             "zIndex": 4
            },
            "6": {
             "name": "June",
             "zIndex": 5
            },
            "7": {
             "name": "July",
             "zIndex": 6
            },
            "8": {
             "name": "Aug",
             "zIndex": 7
            },
            "9": {
             "name": "Sep",
             "zIndex": 8
            },
            "column_9d6191377": {
             "type": "line",
             "yAxis": 0
            }
           },
           "showDataLabels": false,
           "sizemode": "diameter",
           "sortX": true,
           "sortY": true,
           "swappedAxes": false,
           "textFormat": "",
           "useAggregationsUi": true,
           "valuesOptions": {},
           "version": 2,
           "xAxis": {
            "labels": {
             "enabled": true
            },
            "type": "-"
           },
           "yAxis": [
            {
             "type": "-"
            },
            {
             "opposite": true,
             "type": "-"
            }
           ]
          }
         }
        ]
       },
       "datasetPreviewNameToCmdIdMap": {},
       "diffDeletes": [],
       "diffInserts": [],
       "displayType": "redashChart",
       "error": null,
       "errorDetails": null,
       "errorSummary": null,
       "errorTraceType": null,
       "finishTime": 0,
       "globalVars": {},
       "guid": "",
       "height": "auto",
       "hideCommandCode": false,
       "hideCommandResult": false,
       "iPythonMetadata": null,
       "inputWidgets": {},
       "isLockedInExamMode": false,
       "latestUser": "a user",
       "latestUserId": null,
       "listResultMetadata": null,
       "metadata": {},
       "nuid": "ce15861f-9a02-47b7-a62e-3c34b6364a3b",
       "origId": 0,
       "parentHierarchy": [],
       "pivotAggregation": null,
       "pivotColumns": null,
       "position": 9.623046875,
       "resultDbfsErrorMessage": null,
       "resultDbfsStatus": "INLINED_IN_TREE",
       "results": null,
       "showCommandTitle": false,
       "startTime": 0,
       "state": "input",
       "streamStates": {},
       "subcommandOptions": {
        "queryPlan": {
         "groups": [
          {
           "column": "dayofmonth",
           "type": "column"
          },
          {
           "column": "month_id",
           "type": "column"
          }
         ],
         "selects": [
          {
           "column": "dayofmonth",
           "type": "column"
          },
          {
           "alias": "column_9d6191377",
           "args": [
            {
             "column": "total_sales",
             "type": "column"
            }
           ],
           "function": "SUM",
           "type": "function"
          },
          {
           "column": "month_id",
           "type": "column"
          }
         ]
        }
       },
       "submitTime": 0,
       "subtype": "tableResultSubCmd.visualization",
       "tableResultIndex": 0,
       "tableResultSettingsMap": null,
       "useConsistentColors": false,
       "version": "CommandV1",
       "width": "auto",
       "workflows": [],
       "xColumns": null,
       "yColumns": null
      }
     },
     "output_type": "display_data"
    }
   ],
   "source": [
    "%sql\n",
    "select round(sum(sales),3) as total_sales, day(to_timestamp(orderdate, 'M/d/yyyy H:mm')) as dayofmonth, month_id\n",
    "from productssales group by dayofmonth, month_id"
   ]
  },
  {
   "cell_type": "markdown",
   "metadata": {
    "application/vnd.databricks.v1+cell": {
     "cellMetadata": {},
     "inputWidgets": {},
     "nuid": "6f5d8d22-fbf4-4e05-9712-5ade68543bed",
     "showTitle": false,
     "title": ""
    }
   },
   "source": []
  },
  {
   "cell_type": "markdown",
   "metadata": {
    "application/vnd.databricks.v1+cell": {
     "cellMetadata": {},
     "inputWidgets": {},
     "nuid": "c2c1814d-94ea-4a44-8caa-c592ac9ecb28",
     "showTitle": false,
     "title": ""
    }
   },
   "source": [
    "##### 5. Monthly and Weekly Sales Growth."
   ]
  },
  {
   "cell_type": "code",
   "execution_count": 0,
   "metadata": {
    "application/vnd.databricks.v1+cell": {
     "cellMetadata": {
      "byteLimit": 2048000,
      "implicitDf": true,
      "rowLimit": 10000
     },
     "inputWidgets": {},
     "nuid": "11f79229-ff50-4b7b-819b-888f34726515",
     "showTitle": false,
     "title": ""
    }
   },
   "outputs": [
    {
     "output_type": "display_data",
     "data": {
      "text/html": [
       "<style scoped>\n",
       "  .table-result-container {\n",
       "    max-height: 300px;\n",
       "    overflow: auto;\n",
       "  }\n",
       "  table, th, td {\n",
       "    border: 1px solid black;\n",
       "    border-collapse: collapse;\n",
       "  }\n",
       "  th, td {\n",
       "    padding: 5px;\n",
       "  }\n",
       "  th {\n",
       "    text-align: left;\n",
       "  }\n",
       "</style><div class='table-result-container'><table class='table-result'><thead style='background-color: white'><tr><th>total_sales</th><th>dayofweek</th><th>month_id</th></tr></thead><tbody><tr><td>141056.39</td><td>4</td><td>10</td></tr><tr><td>206098.67</td><td>6</td><td>1</td></tr><tr><td>9874.82</td><td>7</td><td>4</td></tr><tr><td>92822.98</td><td>2</td><td>2</td></tr><tr><td>153520.57</td><td>2</td><td>3</td></tr><tr><td>173801.23</td><td>4</td><td>7</td></tr><tr><td>50432.55</td><td>1</td><td>2</td></tr><tr><td>85229.4</td><td>1</td><td>9</td></tr><tr><td>57178.15</td><td>5</td><td>7</td></tr><tr><td>106951.47</td><td>5</td><td>6</td></tr><tr><td>601519.37</td><td>4</td><td>11</td></tr><tr><td>274079.66</td><td>6</td><td>8</td></tr><tr><td>36124.27</td><td>1</td><td>1</td></tr><tr><td>125496.45</td><td>6</td><td>5</td></tr><tr><td>179214.31</td><td>4</td><td>9</td></tr><tr><td>195423.35</td><td>6</td><td>12</td></tr><tr><td>102717.75</td><td>3</td><td>10</td></tr><tr><td>362183.73</td><td>3</td><td>5</td></tr><tr><td>27733.04</td><td>1</td><td>11</td></tr><tr><td>28956.84</td><td>2</td><td>5</td></tr><tr><td>20178.13</td><td>7</td><td>2</td></tr><tr><td>46519.0</td><td>1</td><td>4</td></tr><tr><td>78074.79</td><td>5</td><td>4</td></tr><tr><td>84893.1</td><td>5</td><td>12</td></tr><tr><td>5307.98</td><td>2</td><td>9</td></tr><tr><td>26906.68</td><td>7</td><td>3</td></tr><tr><td>192685.35</td><td>3</td><td>3</td></tr><tr><td>45738.39</td><td>1</td><td>8</td></tr><tr><td>157740.97</td><td>4</td><td>3</td></tr><tr><td>92282.08</td><td>6</td><td>7</td></tr><tr><td>29343.35</td><td>7</td><td>12</td></tr><tr><td>153302.92</td><td>2</td><td>1</td></tr><tr><td>94910.91</td><td>7</td><td>11</td></tr><tr><td>363736.91</td><td>3</td><td>11</td></tr><tr><td>92595.08</td><td>2</td><td>4</td></tr><tr><td>19548.35</td><td>4</td><td>6</td></tr><tr><td>76463.98</td><td>6</td><td>3</td></tr><tr><td>195337.32</td><td>3</td><td>6</td></tr><tr><td>14380.92</td><td>7</td><td>5</td></tr><tr><td>202201.07</td><td>5</td><td>10</td></tr><tr><td>49637.57</td><td>6</td><td>2</td></tr><tr><td>7673.38</td><td>3</td><td>9</td></tr><tr><td>44781.35</td><td>5</td><td>8</td></tr><tr><td>288507.84</td><td>6</td><td>10</td></tr><tr><td>33666.44</td><td>2</td><td>12</td></tr><tr><td>214389.04</td><td>2</td><td>11</td></tr><tr><td>36319.07</td><td>7</td><td>8</td></tr><tr><td>153240.36</td><td>2</td><td>10</td></tr><tr><td>120226.53</td><td>3</td><td>2</td></tr><tr><td>84926.15</td><td>1</td><td>5</td></tr><tr><td>329903.54</td><td>5</td><td>2</td></tr><tr><td>223950.17</td><td>5</td><td>1</td></tr><tr><td>147183.84</td><td>5</td><td>3</td></tr><tr><td>386019.06</td><td>6</td><td>11</td></tr><tr><td>203047.18</td><td>3</td><td>12</td></tr><tr><td>56078.26</td><td>3</td><td>8</td></tr><tr><td>146769.51</td><td>3</td><td>4</td></tr><tr><td>147240.6</td><td>4</td><td>2</td></tr><tr><td>188413.05</td><td>7</td><td>10</td></tr><tr><td>43657.47</td><td>4</td><td>4</td></tr><tr><td>197548.76</td><td>2</td><td>8</td></tr><tr><td>45032.72</td><td>6</td><td>6</td></tr><tr><td>166398.41</td><td>4</td><td>1</td></tr><tr><td>45078.76</td><td>1</td><td>10</td></tr><tr><td>150317.37</td><td>3</td><td>7</td></tr><tr><td>149712.13</td><td>6</td><td>9</td></tr><tr><td>157587.07</td><td>5</td><td>9</td></tr><tr><td>430577.34</td><td>5</td><td>11</td></tr><tr><td>41297.14</td><td>2</td><td>7</td></tr><tr><td>4765.08</td><td>4</td><td>8</td></tr><tr><td>223898.16</td><td>4</td><td>5</td></tr><tr><td>84130.31</td><td>5</td><td>5</td></tr><tr><td>251900.29</td><td>6</td><td>4</td></tr><tr><td>88305.7</td><td>4</td><td>12</td></tr><tr><td>87886.92</td><td>2</td><td>6</td></tr></tbody></table></div>"
      ]
     },
     "metadata": {
      "application/vnd.databricks.v1+output": {
       "addedWidgets": {},
       "aggData": [],
       "aggError": "",
       "aggOverflow": false,
       "aggSchema": [],
       "aggSeriesLimitReached": false,
       "aggType": "",
       "arguments": {},
       "columnCustomDisplayInfos": {},
       "data": [
        [
         141056.39,
         4,
         10
        ],
        [
         206098.67,
         6,
         1
        ],
        [
         9874.82,
         7,
         4
        ],
        [
         92822.98,
         2,
         2
        ],
        [
         153520.57,
         2,
         3
        ],
        [
         173801.23,
         4,
         7
        ],
        [
         50432.55,
         1,
         2
        ],
        [
         85229.4,
         1,
         9
        ],
        [
         57178.15,
         5,
         7
        ],
        [
         106951.47,
         5,
         6
        ],
        [
         601519.37,
         4,
         11
        ],
        [
         274079.66,
         6,
         8
        ],
        [
         36124.27,
         1,
         1
        ],
        [
         125496.45,
         6,
         5
        ],
        [
         179214.31,
         4,
         9
        ],
        [
         195423.35,
         6,
         12
        ],
        [
         102717.75,
         3,
         10
        ],
        [
         362183.73,
         3,
         5
        ],
        [
         27733.04,
         1,
         11
        ],
        [
         28956.84,
         2,
         5
        ],
        [
         20178.13,
         7,
         2
        ],
        [
         46519.0,
         1,
         4
        ],
        [
         78074.79,
         5,
         4
        ],
        [
         84893.1,
         5,
         12
        ],
        [
         5307.98,
         2,
         9
        ],
        [
         26906.68,
         7,
         3
        ],
        [
         192685.35,
         3,
         3
        ],
        [
         45738.39,
         1,
         8
        ],
        [
         157740.97,
         4,
         3
        ],
        [
         92282.08,
         6,
         7
        ],
        [
         29343.35,
         7,
         12
        ],
        [
         153302.92,
         2,
         1
        ],
        [
         94910.91,
         7,
         11
        ],
        [
         363736.91,
         3,
         11
        ],
        [
         92595.08,
         2,
         4
        ],
        [
         19548.35,
         4,
         6
        ],
        [
         76463.98,
         6,
         3
        ],
        [
         195337.32,
         3,
         6
        ],
        [
         14380.92,
         7,
         5
        ],
        [
         202201.07,
         5,
         10
        ],
        [
         49637.57,
         6,
         2
        ],
        [
         7673.38,
         3,
         9
        ],
        [
         44781.35,
         5,
         8
        ],
        [
         288507.84,
         6,
         10
        ],
        [
         33666.44,
         2,
         12
        ],
        [
         214389.04,
         2,
         11
        ],
        [
         36319.07,
         7,
         8
        ],
        [
         153240.36,
         2,
         10
        ],
        [
         120226.53,
         3,
         2
        ],
        [
         84926.15,
         1,
         5
        ],
        [
         329903.54,
         5,
         2
        ],
        [
         223950.17,
         5,
         1
        ],
        [
         147183.84,
         5,
         3
        ],
        [
         386019.06,
         6,
         11
        ],
        [
         203047.18,
         3,
         12
        ],
        [
         56078.26,
         3,
         8
        ],
        [
         146769.51,
         3,
         4
        ],
        [
         147240.6,
         4,
         2
        ],
        [
         188413.05,
         7,
         10
        ],
        [
         43657.47,
         4,
         4
        ],
        [
         197548.76,
         2,
         8
        ],
        [
         45032.72,
         6,
         6
        ],
        [
         166398.41,
         4,
         1
        ],
        [
         45078.76,
         1,
         10
        ],
        [
         150317.37,
         3,
         7
        ],
        [
         149712.13,
         6,
         9
        ],
        [
         157587.07,
         5,
         9
        ],
        [
         430577.34,
         5,
         11
        ],
        [
         41297.14,
         2,
         7
        ],
        [
         4765.08,
         4,
         8
        ],
        [
         223898.16,
         4,
         5
        ],
        [
         84130.31,
         5,
         5
        ],
        [
         251900.29,
         6,
         4
        ],
        [
         88305.7,
         4,
         12
        ],
        [
         87886.92,
         2,
         6
        ]
       ],
       "datasetInfos": [],
       "dbfsResultPath": null,
       "isJsonSchema": true,
       "metadata": {
        "createTempViewForImplicitDf": true,
        "dataframeName": "_sqldf",
        "executionCount": 17
       },
       "overflow": false,
       "plotOptions": {
        "customPlotOptions": {},
        "displayType": "table",
        "pivotAggregation": null,
        "pivotColumns": null,
        "xColumns": null,
        "yColumns": null
       },
       "removedWidgets": [],
       "schema": [
        {
         "metadata": "{}",
         "name": "total_sales",
         "type": "\"double\""
        },
        {
         "metadata": "{}",
         "name": "dayofweek",
         "type": "\"integer\""
        },
        {
         "metadata": "{}",
         "name": "month_id",
         "type": "\"integer\""
        }
       ],
       "type": "table"
      }
     },
     "output_type": "display_data"
    },
    {
     "output_type": "display_data",
     "data": {
      "text/plain": [
       "Databricks visualization. Run in Databricks to view."
      ]
     },
     "metadata": {
      "application/vnd.databricks.v1.subcommand+json": {
       "baseErrorDetails": null,
       "bindings": {},
       "collapsed": false,
       "command": "%sql WITH q AS (select round(sum(sales),3) as total_sales, dayofweek(to_timestamp(orderdate, 'M/d/yyyy H:mm')) as dayofweek, month_id\nfrom productssales group by dayofweek, month_id) SELECT `dayofweek`,SUM(`total_sales`) `column_9d61913712`,`month_id` FROM q GROUP BY `dayofweek`,`month_id`",
       "commandTitle": "Weekly Sales Growth",
       "commandType": "auto",
       "commandVersion": 0,
       "commentThread": [],
       "commentsVisible": false,
       "contentSha256Hex": null,
       "customPlotOptions": {
        "redashChart": [
         {
          "key": "type",
          "value": "CHART"
         },
         {
          "key": "options",
          "value": {
           "alignYAxesAtZero": true,
           "coefficient": 1,
           "columnConfigurationMap": {
            "series": {
             "column": "month_id",
             "id": "column_9d61913714"
            },
            "x": {
             "column": "dayofweek",
             "id": "column_9d61913710"
            },
            "y": [
             {
              "column": "total_sales",
              "id": "column_9d61913712",
              "transform": "SUM"
             }
            ]
           },
           "dateTimeFormat": "DD/MM/YYYY HH:mm",
           "direction": {
            "type": "counterclockwise"
           },
           "error_y": {
            "type": "data",
            "visible": true
           },
           "globalSeriesType": "line",
           "isAggregationOn": true,
           "legend": {
            "traceorder": "normal"
           },
           "missingValuesAsZero": false,
           "numberFormat": "0,0.[00000]",
           "percentFormat": "0[.]00%",
           "series": {
            "error_y": {
             "type": "data",
             "visible": true
            },
            "stacking": null
           },
           "seriesOptions": {
            "column_9d61913712": {
             "type": "line",
             "yAxis": 0
            }
           },
           "showDataLabels": false,
           "sizemode": "diameter",
           "sortX": true,
           "sortY": true,
           "swappedAxes": false,
           "textFormat": "",
           "useAggregationsUi": true,
           "valuesOptions": {},
           "version": 2,
           "xAxis": {
            "labels": {
             "enabled": true
            },
            "type": "-"
           },
           "yAxis": [
            {
             "type": "-"
            },
            {
             "opposite": true,
             "type": "-"
            }
           ]
          }
         }
        ]
       },
       "datasetPreviewNameToCmdIdMap": {},
       "diffDeletes": [],
       "diffInserts": [],
       "displayType": "redashChart",
       "error": null,
       "errorDetails": null,
       "errorSummary": null,
       "errorTraceType": null,
       "finishTime": 0,
       "globalVars": {},
       "guid": "",
       "height": "auto",
       "hideCommandCode": false,
       "hideCommandResult": false,
       "iPythonMetadata": null,
       "inputWidgets": {},
       "isLockedInExamMode": false,
       "latestUser": "a user",
       "latestUserId": null,
       "listResultMetadata": null,
       "metadata": {},
       "nuid": "92917ad2-b408-4451-8aa9-3e9b752e50b5",
       "origId": 0,
       "parentHierarchy": [],
       "pivotAggregation": null,
       "pivotColumns": null,
       "position": 9.6240234375,
       "resultDbfsErrorMessage": null,
       "resultDbfsStatus": "INLINED_IN_TREE",
       "results": null,
       "showCommandTitle": false,
       "startTime": 0,
       "state": "input",
       "streamStates": {},
       "subcommandOptions": {
        "queryPlan": {
         "groups": [
          {
           "column": "dayofweek",
           "type": "column"
          },
          {
           "column": "month_id",
           "type": "column"
          }
         ],
         "selects": [
          {
           "column": "dayofweek",
           "type": "column"
          },
          {
           "alias": "column_9d61913712",
           "args": [
            {
             "column": "total_sales",
             "type": "column"
            }
           ],
           "function": "SUM",
           "type": "function"
          },
          {
           "column": "month_id",
           "type": "column"
          }
         ]
        }
       },
       "submitTime": 0,
       "subtype": "tableResultSubCmd.visualization",
       "tableResultIndex": 0,
       "tableResultSettingsMap": null,
       "useConsistentColors": false,
       "version": "CommandV1",
       "width": "auto",
       "workflows": [],
       "xColumns": null,
       "yColumns": null
      }
     },
     "output_type": "display_data"
    }
   ],
   "source": [
    "%sql\n",
    "select round(sum(sales),3) as total_sales, dayofweek(to_timestamp(orderdate, 'M/d/yyyy H:mm')) as dayofweek, month_id\n",
    "from productssales group by dayofweek, month_id"
   ]
  },
  {
   "cell_type": "markdown",
   "metadata": {
    "application/vnd.databricks.v1+cell": {
     "cellMetadata": {},
     "inputWidgets": {},
     "nuid": "7bff5665-8cb3-4cf0-9f26-1d1ecd1c92f0",
     "showTitle": false,
     "title": ""
    }
   },
   "source": [
    "##### 6. Top 20 City with Most Quantity Orders"
   ]
  },
  {
   "cell_type": "code",
   "execution_count": 0,
   "metadata": {
    "application/vnd.databricks.v1+cell": {
     "cellMetadata": {
      "byteLimit": 2048000,
      "implicitDf": true,
      "rowLimit": 10000
     },
     "inputWidgets": {},
     "nuid": "6102cfb9-136b-4329-895d-b418ff2a4bae",
     "showTitle": false,
     "title": ""
    }
   },
   "outputs": [
    {
     "output_type": "display_data",
     "data": {
      "text/html": [
       "<style scoped>\n",
       "  .table-result-container {\n",
       "    max-height: 300px;\n",
       "    overflow: auto;\n",
       "  }\n",
       "  table, th, td {\n",
       "    border: 1px solid black;\n",
       "    border-collapse: collapse;\n",
       "  }\n",
       "  th, td {\n",
       "    padding: 5px;\n",
       "  }\n",
       "  th {\n",
       "    text-align: left;\n",
       "  }\n",
       "</style><div class='table-result-container'><table class='table-result'><thead style='background-color: white'><tr><th>city</th><th>quantity</th></tr></thead><tbody><tr><td>Madrid</td><td>10958</td></tr><tr><td>San Rafael</td><td>6366</td></tr><tr><td>NYC</td><td>5294</td></tr><tr><td>Singapore</td><td>2760</td></tr><tr><td>Paris</td><td>2521</td></tr><tr><td>San Francisco</td><td>2139</td></tr><tr><td>Nantes</td><td>2102</td></tr><tr><td>New Bedford</td><td>2043</td></tr><tr><td>Melbourne</td><td>1926</td></tr><tr><td>Manchester</td><td>1778</td></tr><tr><td>San Jose</td><td>1656</td></tr><tr><td>Brickhaven</td><td>1654</td></tr><tr><td>Bergamo</td><td>1650</td></tr><tr><td>Boston</td><td>1628</td></tr><tr><td>Chatswood</td><td>1601</td></tr><tr><td>North Sydney</td><td>1469</td></tr><tr><td>Salzburg</td><td>1442</td></tr><tr><td>Reims</td><td>1433</td></tr><tr><td>Lyon</td><td>1428</td></tr><tr><td>Philadelphia</td><td>1398</td></tr></tbody></table></div>"
      ]
     },
     "metadata": {
      "application/vnd.databricks.v1+output": {
       "addedWidgets": {},
       "aggData": [],
       "aggError": "",
       "aggOverflow": false,
       "aggSchema": [],
       "aggSeriesLimitReached": false,
       "aggType": "",
       "arguments": {},
       "columnCustomDisplayInfos": {},
       "data": [
        [
         "Madrid",
         10958
        ],
        [
         "San Rafael",
         6366
        ],
        [
         "NYC",
         5294
        ],
        [
         "Singapore",
         2760
        ],
        [
         "Paris",
         2521
        ],
        [
         "San Francisco",
         2139
        ],
        [
         "Nantes",
         2102
        ],
        [
         "New Bedford",
         2043
        ],
        [
         "Melbourne",
         1926
        ],
        [
         "Manchester",
         1778
        ],
        [
         "San Jose",
         1656
        ],
        [
         "Brickhaven",
         1654
        ],
        [
         "Bergamo",
         1650
        ],
        [
         "Boston",
         1628
        ],
        [
         "Chatswood",
         1601
        ],
        [
         "North Sydney",
         1469
        ],
        [
         "Salzburg",
         1442
        ],
        [
         "Reims",
         1433
        ],
        [
         "Lyon",
         1428
        ],
        [
         "Philadelphia",
         1398
        ]
       ],
       "datasetInfos": [],
       "dbfsResultPath": null,
       "isJsonSchema": true,
       "metadata": {
        "createTempViewForImplicitDf": true,
        "dataframeName": "_sqldf",
        "executionCount": 18
       },
       "overflow": false,
       "plotOptions": {
        "customPlotOptions": {},
        "displayType": "table",
        "pivotAggregation": null,
        "pivotColumns": null,
        "xColumns": null,
        "yColumns": null
       },
       "removedWidgets": [],
       "schema": [
        {
         "metadata": "{}",
         "name": "city",
         "type": "\"string\""
        },
        {
         "metadata": "{}",
         "name": "quantity",
         "type": "\"long\""
        }
       ],
       "type": "table"
      }
     },
     "output_type": "display_data"
    },
    {
     "output_type": "display_data",
     "data": {
      "text/plain": [
       "Databricks visualization. Run in Databricks to view."
      ]
     },
     "metadata": {
      "application/vnd.databricks.v1.subcommand+json": {
       "baseErrorDetails": null,
       "bindings": {},
       "collapsed": false,
       "command": "%sql WITH q AS (select city, round(sum(quantityordered),3) as quantity\nfrom productssales group by city order by quantity  desc limit 20) SELECT `city`,SUM(`quantity`) `column_9d61913716` FROM q GROUP BY `city`",
       "commandTitle": "Visualization 1",
       "commandType": "auto",
       "commandVersion": 0,
       "commentThread": [],
       "commentsVisible": false,
       "contentSha256Hex": null,
       "customPlotOptions": {
        "redashChart": [
         {
          "key": "type",
          "value": "CHART"
         },
         {
          "key": "options",
          "value": {
           "alignYAxesAtZero": true,
           "coefficient": 1,
           "columnConfigurationMap": {
            "x": {
             "column": "city",
             "id": "column_9d61913715"
            },
            "y": [
             {
              "column": "quantity",
              "id": "column_9d61913716",
              "transform": "SUM"
             }
            ]
           },
           "dateTimeFormat": "DD/MM/YYYY HH:mm",
           "direction": {
            "type": "counterclockwise"
           },
           "error_y": {
            "type": "data",
            "visible": true
           },
           "globalSeriesType": "pie",
           "legend": {
            "traceorder": "normal"
           },
           "missingValuesAsZero": true,
           "numberFormat": "0,0.[00000]",
           "percentFormat": "0[.]00%",
           "series": {
            "error_y": {
             "type": "data",
             "visible": true
            },
            "stacking": null
           },
           "seriesOptions": {
            "column_9d61913716": {
             "name": "quantity",
             "type": "pie",
             "yAxis": 0
            }
           },
           "showDataLabels": true,
           "sizemode": "diameter",
           "sortX": true,
           "sortY": true,
           "swappedAxes": false,
           "textFormat": "",
           "useAggregationsUi": true,
           "valuesOptions": {},
           "version": 2,
           "xAxis": {
            "labels": {
             "enabled": true
            },
            "type": "-"
           },
           "yAxis": [
            {
             "type": "-"
            },
            {
             "opposite": true,
             "type": "-"
            }
           ]
          }
         }
        ]
       },
       "datasetPreviewNameToCmdIdMap": {},
       "diffDeletes": [],
       "diffInserts": [],
       "displayType": "redashChart",
       "error": null,
       "errorDetails": null,
       "errorSummary": null,
       "errorTraceType": null,
       "finishTime": 0,
       "globalVars": {},
       "guid": "",
       "height": "auto",
       "hideCommandCode": false,
       "hideCommandResult": false,
       "iPythonMetadata": null,
       "inputWidgets": {},
       "isLockedInExamMode": false,
       "latestUser": "a user",
       "latestUserId": null,
       "listResultMetadata": null,
       "metadata": {},
       "nuid": "b7fad3e3-6b31-408d-a24e-8ce94e2f3da6",
       "origId": 0,
       "parentHierarchy": [],
       "pivotAggregation": null,
       "pivotColumns": null,
       "position": 9.624755859375,
       "resultDbfsErrorMessage": null,
       "resultDbfsStatus": "INLINED_IN_TREE",
       "results": null,
       "showCommandTitle": false,
       "startTime": 0,
       "state": "input",
       "streamStates": {},
       "subcommandOptions": {
        "queryPlan": {
         "groups": [
          {
           "column": "city",
           "type": "column"
          }
         ],
         "selects": [
          {
           "column": "city",
           "type": "column"
          },
          {
           "alias": "column_9d61913716",
           "args": [
            {
             "column": "quantity",
             "type": "column"
            }
           ],
           "function": "SUM",
           "type": "function"
          }
         ]
        }
       },
       "submitTime": 0,
       "subtype": "tableResultSubCmd.visualization",
       "tableResultIndex": 0,
       "tableResultSettingsMap": null,
       "useConsistentColors": false,
       "version": "CommandV1",
       "width": "auto",
       "workflows": [],
       "xColumns": null,
       "yColumns": null
      }
     },
     "output_type": "display_data"
    }
   ],
   "source": [
    "%sql\n",
    "select city, round(sum(quantityordered),3) as quantity\n",
    "from productssales group by city order by quantity  desc limit 20"
   ]
  },
  {
   "cell_type": "markdown",
   "metadata": {
    "application/vnd.databricks.v1+cell": {
     "cellMetadata": {},
     "inputWidgets": {},
     "nuid": "e4dd89b4-6dfb-499f-996c-6550096a1adb",
     "showTitle": false,
     "title": ""
    }
   },
   "source": [
    "##### 7. Customer Sales Contribution"
   ]
  },
  {
   "cell_type": "code",
   "execution_count": 0,
   "metadata": {
    "application/vnd.databricks.v1+cell": {
     "cellMetadata": {
      "byteLimit": 2048000,
      "rowLimit": 10000
     },
     "inputWidgets": {},
     "nuid": "ff90f791-6f40-4d8a-9aef-f6dc8ad02801",
     "showTitle": false,
     "title": ""
    }
   },
   "outputs": [
    {
     "output_type": "stream",
     "name": "stdout",
     "output_type": "stream",
     "text": [
      "+--------------------+------------------+--------------------+\n|        CUSTOMERNAME|         sum_sales|   contribution_pcnt|\n+--------------------+------------------+--------------------+\n|Euro Shopping Cha...| 912294.1100000002| 0.09093270803095634|\n|Mini Gifts Distri...|         654858.06| 0.06527282826773756|\n|Australian Collec...|200995.40999999997|0.020034171801341955|\n|  Muscle Machine Inc|197736.93999999997|0.019709384544809486|\n|   La Rochelle Gifts|          180124.9|0.017953908461389938|\n|Dragon Souveniers...|172989.68000000008|0.017242707029872822|\n|   Land of Toys Inc.|164069.44000000003|0.016353584135627607|\n|The Sharp Gifts W...|160010.26999999996| 0.01594898728861078|\n|      AV Stores, Co.|157807.80999999997| 0.01572945758877543|\n|Anna's Decoration...|153996.13000000003|0.015349529251249026|\n+--------------------+------------------+--------------------+\nonly showing top 10 rows\n\n"
     ]
    }
   ],
   "source": [
    "spark.sql(\"select CUSTOMERNAME, SUM(SALES) as sum_sales, SUM(SALES)/(select SUM(SALES) from productssales) as contribution_pcnt from productssales group by CUSTOMERNAME order by sum_sales DESC\").show(10)"
   ]
  },
  {
   "cell_type": "code",
   "execution_count": 0,
   "metadata": {
    "application/vnd.databricks.v1+cell": {
     "cellMetadata": {
      "byteLimit": 2048000,
      "implicitDf": true,
      "rowLimit": 10000
     },
     "inputWidgets": {},
     "nuid": "1e51a5b1-b5b7-4ceb-8154-b673da5fb3e3",
     "showTitle": false,
     "title": ""
    }
   },
   "outputs": [
    {
     "output_type": "display_data",
     "data": {
      "text/html": [
       "<style scoped>\n",
       "  .table-result-container {\n",
       "    max-height: 300px;\n",
       "    overflow: auto;\n",
       "  }\n",
       "  table, th, td {\n",
       "    border: 1px solid black;\n",
       "    border-collapse: collapse;\n",
       "  }\n",
       "  th, td {\n",
       "    padding: 5px;\n",
       "  }\n",
       "  th {\n",
       "    text-align: left;\n",
       "  }\n",
       "</style><div class='table-result-container'><table class='table-result'><thead style='background-color: white'><tr><th>Customer_Name</th><th>Sum_Sales</th><th>Contribution_Pcnt</th></tr></thead><tbody><tr><td>Euro Shopping Channel</td><td>912294.1100000002</td><td>0.09093270803095634</td></tr><tr><td>Mini Gifts Distributors Ltd.</td><td>654858.06</td><td>0.06527282826773756</td></tr><tr><td>Australian Collectors, Co.</td><td>200995.40999999997</td><td>0.020034171801341955</td></tr><tr><td>Muscle Machine Inc</td><td>197736.93999999997</td><td>0.019709384544809486</td></tr><tr><td>La Rochelle Gifts</td><td>180124.9</td><td>0.017953908461389938</td></tr><tr><td>Dragon Souveniers, Ltd.</td><td>172989.68000000008</td><td>0.017242707029872822</td></tr><tr><td>Land of Toys Inc.</td><td>164069.44000000003</td><td>0.016353584135627607</td></tr><tr><td>The Sharp Gifts Warehouse</td><td>160010.26999999996</td><td>0.01594898728861078</td></tr><tr><td>AV Stores, Co.</td><td>157807.80999999997</td><td>0.01572945758877543</td></tr><tr><td>Anna's Decorations, Ltd</td><td>153996.13000000003</td><td>0.015349529251249026</td></tr></tbody></table></div>"
      ]
     },
     "metadata": {
      "application/vnd.databricks.v1+output": {
       "addedWidgets": {},
       "aggData": [],
       "aggError": "",
       "aggOverflow": false,
       "aggSchema": [],
       "aggSeriesLimitReached": false,
       "aggType": "",
       "arguments": {},
       "columnCustomDisplayInfos": {},
       "data": [
        [
         "Euro Shopping Channel",
         912294.1100000002,
         0.09093270803095634
        ],
        [
         "Mini Gifts Distributors Ltd.",
         654858.06,
         0.06527282826773756
        ],
        [
         "Australian Collectors, Co.",
         200995.40999999997,
         0.020034171801341955
        ],
        [
         "Muscle Machine Inc",
         197736.93999999997,
         0.019709384544809486
        ],
        [
         "La Rochelle Gifts",
         180124.9,
         0.017953908461389938
        ],
        [
         "Dragon Souveniers, Ltd.",
         172989.68000000008,
         0.017242707029872822
        ],
        [
         "Land of Toys Inc.",
         164069.44000000003,
         0.016353584135627607
        ],
        [
         "The Sharp Gifts Warehouse",
         160010.26999999996,
         0.01594898728861078
        ],
        [
         "AV Stores, Co.",
         157807.80999999997,
         0.01572945758877543
        ],
        [
         "Anna's Decorations, Ltd",
         153996.13000000003,
         0.015349529251249026
        ]
       ],
       "datasetInfos": [],
       "dbfsResultPath": null,
       "isJsonSchema": true,
       "metadata": {
        "createTempViewForImplicitDf": true,
        "dataframeName": "_sqldf",
        "executionCount": 20
       },
       "overflow": false,
       "plotOptions": {
        "customPlotOptions": {},
        "displayType": "table",
        "pivotAggregation": null,
        "pivotColumns": null,
        "xColumns": null,
        "yColumns": null
       },
       "removedWidgets": [],
       "schema": [
        {
         "metadata": "{}",
         "name": "Customer_Name",
         "type": "\"string\""
        },
        {
         "metadata": "{}",
         "name": "Sum_Sales",
         "type": "\"double\""
        },
        {
         "metadata": "{}",
         "name": "Contribution_Pcnt",
         "type": "\"double\""
        }
       ],
       "type": "table"
      }
     },
     "output_type": "display_data"
    },
    {
     "output_type": "display_data",
     "data": {
      "text/plain": [
       "Databricks visualization. Run in Databricks to view."
      ]
     },
     "metadata": {
      "application/vnd.databricks.v1.subcommand+json": {
       "baseErrorDetails": null,
       "bindings": {},
       "collapsed": false,
       "command": "%sql\nselect CUSTOMERNAME as Customer_Name, SUM(SALES) as Sum_Sales, SUM(SALES)/(select SUM(SALES) from productssales) as Contribution_Pcnt from productssales group by CUSTOMERNAME order by sum_sales DESC LIMIT 10",
       "commandTitle": "Bar Plot",
       "commandType": "auto",
       "commandVersion": 0,
       "commentThread": [],
       "commentsVisible": false,
       "contentSha256Hex": null,
       "customPlotOptions": {
        "redashChart": [
         {
          "key": "type",
          "value": "CHART"
         },
         {
          "key": "options",
          "value": {
           "alignYAxesAtZero": false,
           "coefficient": 1,
           "columnConfigurationMap": {
            "x": {
             "column": "Customer_Name",
             "id": "column_378fd0ff2"
            },
            "y": [
             {
              "column": "Sum_Sales",
              "id": "column_378fd0ff4",
              "transform": "SUM"
             }
            ]
           },
           "dateTimeFormat": "DD/MM/YYYY HH:mm",
           "direction": {
            "type": "counterclockwise"
           },
           "error_y": {
            "type": "data",
            "visible": true
           },
           "globalSeriesType": "column",
           "isAggregationOn": true,
           "legend": {
            "traceorder": "normal"
           },
           "missingValuesAsZero": true,
           "numberFormat": "0,0.[00000]",
           "percentFormat": "0[.]00%",
           "series": {
            "error_y": {
             "type": "data",
             "visible": true
            },
            "stacking": null
           },
           "seriesOptions": {
            "column_378fd0ff4": {
             "color": "#B554FF",
             "type": "column",
             "yAxis": 0
            }
           },
           "showDataLabels": false,
           "sizemode": "diameter",
           "sortX": true,
           "sortY": true,
           "swappedAxes": true,
           "textFormat": "",
           "useAggregationsUi": true,
           "valuesOptions": {},
           "version": 2,
           "xAxis": {
            "labels": {
             "enabled": true
            },
            "title": {
             "text": "Customer Name"
            },
            "type": "-"
           },
           "yAxis": [
            {
             "rangeMin": 0,
             "title": {
              "text": "Total Sales"
             },
             "type": "-"
            },
            {
             "opposite": true,
             "type": "-"
            }
           ]
          }
         }
        ]
       },
       "datasetPreviewNameToCmdIdMap": {},
       "diffDeletes": [],
       "diffInserts": [],
       "displayType": "redashChart",
       "error": null,
       "errorDetails": null,
       "errorSummary": null,
       "errorTraceType": null,
       "finishTime": 0,
       "globalVars": {},
       "guid": "",
       "height": "auto",
       "hideCommandCode": false,
       "hideCommandResult": false,
       "iPythonMetadata": null,
       "inputWidgets": {},
       "isLockedInExamMode": false,
       "latestUser": "a user",
       "latestUserId": null,
       "listResultMetadata": null,
       "metadata": {
        "byteLimit": 2048000,
        "implicitDf": true,
        "rowLimit": 10000
       },
       "nuid": "bd6a6759-57e2-4ccb-8cdf-b092b3f7c729",
       "origId": 0,
       "parentHierarchy": [],
       "pivotAggregation": null,
       "pivotColumns": null,
       "position": 10.25,
       "resultDbfsErrorMessage": null,
       "resultDbfsStatus": "INLINED_IN_TREE",
       "results": null,
       "showCommandTitle": false,
       "startTime": 0,
       "state": "input",
       "streamStates": {},
       "subcommandOptions": {
        "queryPlan": {
         "groups": [
          {
           "column": "Customer_Name",
           "type": "column"
          }
         ],
         "selects": [
          {
           "column": "Customer_Name",
           "type": "column"
          },
          {
           "alias": "column_378fd0ff4",
           "args": [
            {
             "column": "Sum_Sales",
             "type": "column"
            }
           ],
           "function": "SUM",
           "type": "function"
          }
         ]
        }
       },
       "submitTime": 0,
       "subtype": "tableResultSubCmd.visualization",
       "tableResultIndex": 0,
       "tableResultSettingsMap": null,
       "useConsistentColors": false,
       "version": "CommandV1",
       "width": "auto",
       "workflows": [],
       "xColumns": null,
       "yColumns": null
      }
     },
     "output_type": "display_data"
    },
    {
     "output_type": "display_data",
     "data": {
      "text/plain": [
       "Databricks visualization. Run in Databricks to view."
      ]
     },
     "metadata": {
      "application/vnd.databricks.v1.subcommand+json": {
       "baseErrorDetails": null,
       "bindings": {},
       "collapsed": false,
       "command": "%sql\nselect CUSTOMERNAME as Customer_Name, SUM(SALES) as Sum_Sales, SUM(SALES)/(select SUM(SALES) from productssales) as Contribution_Pcnt from productssales group by CUSTOMERNAME order by sum_sales DESC LIMIT 10",
       "commandTitle": "Table Plot",
       "commandType": "auto",
       "commandVersion": 0,
       "commentThread": [],
       "commentsVisible": false,
       "contentSha256Hex": null,
       "customPlotOptions": {
        "redashChart": [
         {
          "key": "type",
          "value": "TABLE"
         },
         {
          "key": "options",
          "value": {
           "columns": [
            {
             "alignContent": "left",
             "allowHTML": false,
             "allowSearch": false,
             "booleanValues": [
              "false",
              "true"
             ],
             "displayAs": "string",
             "highlightLinks": false,
             "imageHeight": "",
             "imageTitleTemplate": "{{ @ }}",
             "imageUrlTemplate": "{{ @ }}",
             "imageWidth": "",
             "linkOpenInNewTab": true,
             "linkTextTemplate": "{{ @ }}",
             "linkTitleTemplate": "{{ @ }}",
             "linkUrlTemplate": "{{ @ }}",
             "name": "Customer_Name",
             "order": 100000,
             "preserveWhitespace": false,
             "title": "Customer_Name",
             "type": "string",
             "useMonospaceFont": false,
             "visible": true
            },
            {
             "alignContent": "right",
             "allowHTML": false,
             "allowSearch": false,
             "booleanValues": [
              "false",
              "true"
             ],
             "displayAs": "number",
             "highlightLinks": false,
             "imageHeight": "",
             "imageTitleTemplate": "{{ @ }}",
             "imageUrlTemplate": "{{ @ }}",
             "imageWidth": "",
             "linkOpenInNewTab": true,
             "linkTextTemplate": "{{ @ }}",
             "linkTitleTemplate": "{{ @ }}",
             "linkUrlTemplate": "{{ @ }}",
             "name": "Sum_Sales",
             "numberFormat": "0.00",
             "order": 100001,
             "preserveWhitespace": false,
             "title": "Sum_Sales",
             "type": "float",
             "useMonospaceFont": false,
             "visible": true
            },
            {
             "alignContent": "right",
             "allowHTML": false,
             "allowSearch": false,
             "booleanValues": [
              "false",
              "true"
             ],
             "displayAs": "number",
             "highlightLinks": false,
             "imageHeight": "",
             "imageTitleTemplate": "{{ @ }}",
             "imageUrlTemplate": "{{ @ }}",
             "imageWidth": "",
             "linkOpenInNewTab": true,
             "linkTextTemplate": "{{ @ }}",
             "linkTitleTemplate": "{{ @ }}",
             "linkUrlTemplate": "{{ @ }}",
             "name": "Contribution_Pcnt",
             "numberFormat": "0.00",
             "order": 100002,
             "preserveWhitespace": false,
             "title": "Contribution_Pcnt",
             "type": "float",
             "useMonospaceFont": false,
             "visible": true
            }
           ],
           "condensed": true,
           "itemsPerPage": 25,
           "paginationSize": "default",
           "version": 2,
           "withRowNumber": false
          }
         }
        ]
       },
       "datasetPreviewNameToCmdIdMap": {},
       "diffDeletes": [],
       "diffInserts": [],
       "displayType": "redashChart",
       "error": null,
       "errorDetails": null,
       "errorSummary": null,
       "errorTraceType": null,
       "finishTime": 0,
       "globalVars": {},
       "guid": "",
       "height": "auto",
       "hideCommandCode": false,
       "hideCommandResult": false,
       "iPythonMetadata": null,
       "inputWidgets": {},
       "isLockedInExamMode": false,
       "latestUser": "a user",
       "latestUserId": null,
       "listResultMetadata": null,
       "metadata": {},
       "nuid": "17fe1bd5-7186-4ec5-bcce-91a0e603cc4b",
       "origId": 0,
       "parentHierarchy": [],
       "pivotAggregation": null,
       "pivotColumns": null,
       "position": 11.25,
       "resultDbfsErrorMessage": null,
       "resultDbfsStatus": "INLINED_IN_TREE",
       "results": null,
       "showCommandTitle": false,
       "startTime": 0,
       "state": "input",
       "streamStates": {},
       "subcommandOptions": {},
       "submitTime": 0,
       "subtype": "tableResultSubCmd.visualization",
       "tableResultIndex": 0,
       "tableResultSettingsMap": null,
       "useConsistentColors": false,
       "version": "CommandV1",
       "width": "auto",
       "workflows": [],
       "xColumns": null,
       "yColumns": null
      }
     },
     "output_type": "display_data"
    }
   ],
   "source": [
    "%sql\n",
    "select CUSTOMERNAME as Customer_Name, SUM(SALES) as Sum_Sales, SUM(SALES)/(select SUM(SALES) from productssales) as Contribution_Pcnt from productssales group by CUSTOMERNAME order by sum_sales DESC LIMIT 10"
   ]
  },
  {
   "cell_type": "markdown",
   "metadata": {
    "application/vnd.databricks.v1+cell": {
     "cellMetadata": {},
     "inputWidgets": {},
     "nuid": "561af7fd-ef35-4941-80ed-8d6b2e9f0110",
     "showTitle": false,
     "title": ""
    }
   },
   "source": [
    "#####8. Find Seasonal Sales Trends"
   ]
  },
  {
   "cell_type": "code",
   "execution_count": 0,
   "metadata": {
    "application/vnd.databricks.v1+cell": {
     "cellMetadata": {
      "byteLimit": 2048000,
      "rowLimit": 10000
     },
     "inputWidgets": {},
     "nuid": "ba406310-5a30-47ba-85a3-c056a8155f08",
     "showTitle": false,
     "title": ""
    }
   },
   "outputs": [
    {
     "output_type": "stream",
     "name": "stdout",
     "output_type": "stream",
     "text": [
      "+--------+------+------------------+\n|MONTH_ID|Season|        sum(SALES)|\n+--------+------+------------------+\n|       1|Winter| 785874.4400000008|\n|       2|Winter|          810441.9|\n|       3|Winter| 754501.3900000001|\n|       4|Spring| 669390.9600000003|\n|       5|Spring|         923972.56|\n|       6|Spring|454756.77999999985|\n|       7|Summer| 514875.9700000001|\n|       8|Summer| 659310.5699999998|\n|       9|Summer| 584724.2699999999|\n|      10|  Fall|1121215.2199999997|\n|      11|  Fall|        2118885.67|\n|      12|  Fall| 634679.1199999998|\n+--------+------+------------------+\n\n"
     ]
    }
   ],
   "source": [
    "spark.sql(\"\"\"\n",
    "select MONTH_ID,\n",
    "CASE \n",
    "  WHEN QTR_ID == 1 THEN 'Winter'\n",
    "  WHEN QTR_ID == 2 THEN 'Spring'\n",
    "  WHEN QTR_ID == 3 THEN 'Summer'\n",
    "  WHEN QTR_ID == 4 THEN 'Fall'\n",
    "END AS Season, sum(SALES) from productssales group by MONTH_ID, QTR_ID ORDER BY MONTH_ID ASC\n",
    "\"\"\").show()"
   ]
  },
  {
   "cell_type": "code",
   "execution_count": 0,
   "metadata": {
    "application/vnd.databricks.v1+cell": {
     "cellMetadata": {
      "byteLimit": 2048000,
      "implicitDf": true,
      "rowLimit": 10000
     },
     "inputWidgets": {},
     "nuid": "fe4d076b-05f5-4acb-a65b-03fe31284fa2",
     "showTitle": false,
     "title": ""
    }
   },
   "outputs": [
    {
     "output_type": "display_data",
     "data": {
      "text/html": [
       "<style scoped>\n",
       "  .table-result-container {\n",
       "    max-height: 300px;\n",
       "    overflow: auto;\n",
       "  }\n",
       "  table, th, td {\n",
       "    border: 1px solid black;\n",
       "    border-collapse: collapse;\n",
       "  }\n",
       "  th, td {\n",
       "    padding: 5px;\n",
       "  }\n",
       "  th {\n",
       "    text-align: left;\n",
       "  }\n",
       "</style><div class='table-result-container'><table class='table-result'><thead style='background-color: white'><tr><th>MONTH_ID</th><th>Season</th><th>sum(SALES)</th></tr></thead><tbody><tr><td>1</td><td>Winter</td><td>785874.4400000008</td></tr><tr><td>2</td><td>Winter</td><td>810441.9</td></tr><tr><td>3</td><td>Winter</td><td>754501.3900000001</td></tr><tr><td>4</td><td>Spring</td><td>669390.9600000003</td></tr><tr><td>5</td><td>Spring</td><td>923972.56</td></tr><tr><td>6</td><td>Spring</td><td>454756.77999999985</td></tr><tr><td>7</td><td>Summer</td><td>514875.9700000001</td></tr><tr><td>8</td><td>Summer</td><td>659310.5699999998</td></tr><tr><td>9</td><td>Summer</td><td>584724.2699999999</td></tr><tr><td>10</td><td>Fall</td><td>1121215.2199999997</td></tr><tr><td>11</td><td>Fall</td><td>2118885.67</td></tr><tr><td>12</td><td>Fall</td><td>634679.1199999998</td></tr></tbody></table></div>"
      ]
     },
     "metadata": {
      "application/vnd.databricks.v1+output": {
       "addedWidgets": {},
       "aggData": [],
       "aggError": "",
       "aggOverflow": false,
       "aggSchema": [],
       "aggSeriesLimitReached": false,
       "aggType": "",
       "arguments": {},
       "columnCustomDisplayInfos": {},
       "data": [
        [
         1,
         "Winter",
         785874.4400000008
        ],
        [
         2,
         "Winter",
         810441.9
        ],
        [
         3,
         "Winter",
         754501.3900000001
        ],
        [
         4,
         "Spring",
         669390.9600000003
        ],
        [
         5,
         "Spring",
         923972.56
        ],
        [
         6,
         "Spring",
         454756.77999999985
        ],
        [
         7,
         "Summer",
         514875.9700000001
        ],
        [
         8,
         "Summer",
         659310.5699999998
        ],
        [
         9,
         "Summer",
         584724.2699999999
        ],
        [
         10,
         "Fall",
         1121215.2199999997
        ],
        [
         11,
         "Fall",
         2118885.67
        ],
        [
         12,
         "Fall",
         634679.1199999998
        ]
       ],
       "datasetInfos": [],
       "dbfsResultPath": null,
       "isJsonSchema": true,
       "metadata": {
        "createTempViewForImplicitDf": true,
        "dataframeName": "_sqldf",
        "executionCount": 22
       },
       "overflow": false,
       "plotOptions": {
        "customPlotOptions": {},
        "displayType": "table",
        "pivotAggregation": null,
        "pivotColumns": null,
        "xColumns": null,
        "yColumns": null
       },
       "removedWidgets": [],
       "schema": [
        {
         "metadata": "{}",
         "name": "MONTH_ID",
         "type": "\"integer\""
        },
        {
         "metadata": "{}",
         "name": "Season",
         "type": "\"string\""
        },
        {
         "metadata": "{\"__autoGeneratedAlias\":\"true\"}",
         "name": "sum(SALES)",
         "type": "\"double\""
        }
       ],
       "type": "table"
      }
     },
     "output_type": "display_data"
    },
    {
     "output_type": "display_data",
     "data": {
      "text/plain": [
       "Databricks visualization. Run in Databricks to view."
      ]
     },
     "metadata": {
      "application/vnd.databricks.v1.subcommand+json": {
       "baseErrorDetails": null,
       "bindings": {},
       "collapsed": false,
       "command": "%sql WITH q AS (select MONTH_ID,\nCASE \n  WHEN QTR_ID == 1 THEN 'Winter'\n  WHEN QTR_ID == 2 THEN 'Spring'\n  WHEN QTR_ID == 3 THEN 'Summer'\n  WHEN QTR_ID == 4 THEN 'Fall'\nEND AS Season, sum(SALES) from productssales group by MONTH_ID, QTR_ID ORDER BY MONTH_ID ASC) SELECT `MONTH_ID`,SUM(`sum(SALES)`) `column_12e9f4c34` FROM q GROUP BY `MONTH_ID`",
       "commandTitle": "Seasonal Sales Distribution",
       "commandType": "auto",
       "commandVersion": 0,
       "commentThread": [],
       "commentsVisible": false,
       "contentSha256Hex": null,
       "customPlotOptions": {
        "redashChart": [
         {
          "key": "type",
          "value": "CHART"
         },
         {
          "key": "options",
          "value": {
           "alignYAxesAtZero": true,
           "coefficient": 1,
           "columnConfigurationMap": {
            "series": {
             "column": "Season",
             "id": "column_378fd0ff13"
            },
            "x": {
             "column": "MONTH_ID",
             "id": "column_12e9f4c37"
            },
            "y": [
             {
              "column": "sum(SALES)",
              "id": "column_12e9f4c34",
              "transform": "SUM"
             }
            ]
           },
           "dateTimeFormat": "DD/MM/YYYY HH:mm",
           "direction": {
            "type": "counterclockwise"
           },
           "error_y": {
            "type": "data",
            "visible": true
           },
           "globalSeriesType": "pie",
           "isAggregationOn": true,
           "legend": {
            "traceorder": "normal"
           },
           "missingValuesAsZero": true,
           "numberFormat": "0,0.[00000]",
           "percentFormat": "0[.]00%",
           "series": {
            "error_y": {
             "type": "data",
             "visible": true
            },
            "stacking": null
           },
           "seriesOptions": {
            "column_12e9f4c34": {
             "type": "pie",
             "yAxis": 0
            }
           },
           "showDataLabels": true,
           "sizemode": "diameter",
           "sortX": true,
           "sortY": true,
           "swappedAxes": false,
           "textFormat": "",
           "useAggregationsUi": true,
           "valuesOptions": {},
           "version": 2,
           "xAxis": {
            "labels": {
             "enabled": true
            },
            "type": "-"
           },
           "yAxis": [
            {
             "type": "-"
            },
            {
             "opposite": true,
             "type": "-"
            }
           ]
          }
         }
        ]
       },
       "datasetPreviewNameToCmdIdMap": {},
       "diffDeletes": [],
       "diffInserts": [],
       "displayType": "redashChart",
       "error": null,
       "errorDetails": null,
       "errorSummary": null,
       "errorTraceType": null,
       "finishTime": 0,
       "globalVars": {},
       "guid": "",
       "height": "auto",
       "hideCommandCode": false,
       "hideCommandResult": false,
       "iPythonMetadata": null,
       "inputWidgets": {},
       "isLockedInExamMode": false,
       "latestUser": "a user",
       "latestUserId": null,
       "listResultMetadata": null,
       "metadata": {
        "byteLimit": 2048000,
        "implicitDf": true,
        "rowLimit": 10000
       },
       "nuid": "60dc4e10-7bc7-43d4-adbb-dc2b49683acd",
       "origId": 0,
       "parentHierarchy": [],
       "pivotAggregation": null,
       "pivotColumns": null,
       "position": 12.0,
       "resultDbfsErrorMessage": null,
       "resultDbfsStatus": "INLINED_IN_TREE",
       "results": null,
       "showCommandTitle": false,
       "startTime": 0,
       "state": "input",
       "streamStates": {},
       "subcommandOptions": {
        "queryPlan": {
         "groups": [
          {
           "column": "MONTH_ID",
           "type": "column"
          },
          {
           "column": "Season",
           "type": "column"
          }
         ],
         "selects": [
          {
           "column": "MONTH_ID",
           "type": "column"
          },
          {
           "alias": "column_12e9f4c34",
           "args": [
            {
             "column": "sum(SALES)",
             "type": "column"
            }
           ],
           "function": "SUM",
           "type": "function"
          },
          {
           "column": "Season",
           "type": "column"
          }
         ]
        }
       },
       "submitTime": 0,
       "subtype": "tableResultSubCmd.visualization",
       "tableResultIndex": 0,
       "tableResultSettingsMap": null,
       "useConsistentColors": false,
       "version": "CommandV1",
       "width": "auto",
       "workflows": [],
       "xColumns": null,
       "yColumns": null
      }
     },
     "output_type": "display_data"
    }
   ],
   "source": [
    "%sql\n",
    "select MONTH_ID,\n",
    "CASE \n",
    "  WHEN QTR_ID == 1 THEN 'Winter'\n",
    "  WHEN QTR_ID == 2 THEN 'Spring'\n",
    "  WHEN QTR_ID == 3 THEN 'Summer'\n",
    "  WHEN QTR_ID == 4 THEN 'Fall'\n",
    "END AS Season, sum(SALES) from productssales group by MONTH_ID, QTR_ID ORDER BY MONTH_ID ASC"
   ]
  },
  {
   "cell_type": "markdown",
   "metadata": {
    "application/vnd.databricks.v1+cell": {
     "cellMetadata": {},
     "inputWidgets": {},
     "nuid": "4af7b0d2-d216-4332-95c1-faee3a7172ee",
     "showTitle": false,
     "title": ""
    }
   },
   "source": []
  },
  {
   "cell_type": "markdown",
   "metadata": {
    "application/vnd.databricks.v1+cell": {
     "cellMetadata": {},
     "inputWidgets": {},
     "nuid": "87a5bc96-019a-4311-ac60-1852d9bdf131",
     "showTitle": false,
     "title": ""
    }
   },
   "source": [
    "##### 9. Categorize ProductLine as 'Hot', or 'Cold' based on their ORDER Quantity in each quarter, using a CASE WHEN statement"
   ]
  },
  {
   "cell_type": "code",
   "execution_count": 0,
   "metadata": {
    "application/vnd.databricks.v1+cell": {
     "cellMetadata": {
      "byteLimit": 2048000,
      "implicitDf": true,
      "rowLimit": 10000
     },
     "inputWidgets": {},
     "nuid": "52d940cc-e87c-464f-914c-ac73f2394517",
     "showTitle": false,
     "title": ""
    }
   },
   "outputs": [
    {
     "output_type": "display_data",
     "data": {
      "text/html": [
       "<style scoped>\n",
       "  .table-result-container {\n",
       "    max-height: 300px;\n",
       "    overflow: auto;\n",
       "  }\n",
       "  table, th, td {\n",
       "    border: 1px solid black;\n",
       "    border-collapse: collapse;\n",
       "  }\n",
       "  th, td {\n",
       "    padding: 5px;\n",
       "  }\n",
       "  th {\n",
       "    text-align: left;\n",
       "  }\n",
       "</style><div class='table-result-container'><table class='table-result'><thead style='background-color: white'><tr><th>ProductLine</th><th>QTR_ID</th><th>sum(quantity)</th><th>category</th></tr></thead><tbody><tr><td>Classic Cars</td><td>1</td><td>7784</td><td>hot</td></tr><tr><td>Trains</td><td>1</td><td>693</td><td>cold</td></tr><tr><td>Classic Cars</td><td>2</td><td>6447</td><td>hot</td></tr><tr><td>Trains</td><td>2</td><td>439</td><td>cold</td></tr><tr><td>Classic Cars</td><td>3</td><td>6190</td><td>hot</td></tr><tr><td>Trains</td><td>3</td><td>531</td><td>cold</td></tr><tr><td>Trains</td><td>4</td><td>1049</td><td>cold</td></tr><tr><td>Classic Cars</td><td>4</td><td>13571</td><td>hot</td></tr></tbody></table></div>"
      ]
     },
     "metadata": {
      "application/vnd.databricks.v1+output": {
       "addedWidgets": {},
       "aggData": [],
       "aggError": "",
       "aggOverflow": false,
       "aggSchema": [],
       "aggSeriesLimitReached": false,
       "aggType": "",
       "arguments": {},
       "columnCustomDisplayInfos": {},
       "data": [
        [
         "Classic Cars",
         1,
         7784,
         "hot"
        ],
        [
         "Trains",
         1,
         693,
         "cold"
        ],
        [
         "Classic Cars",
         2,
         6447,
         "hot"
        ],
        [
         "Trains",
         2,
         439,
         "cold"
        ],
        [
         "Classic Cars",
         3,
         6190,
         "hot"
        ],
        [
         "Trains",
         3,
         531,
         "cold"
        ],
        [
         "Trains",
         4,
         1049,
         "cold"
        ],
        [
         "Classic Cars",
         4,
         13571,
         "hot"
        ]
       ],
       "datasetInfos": [],
       "dbfsResultPath": null,
       "isJsonSchema": true,
       "metadata": {
        "createTempViewForImplicitDf": true,
        "dataframeName": "_sqldf",
        "executionCount": 23
       },
       "overflow": false,
       "plotOptions": {
        "customPlotOptions": {},
        "displayType": "table",
        "pivotAggregation": null,
        "pivotColumns": null,
        "xColumns": null,
        "yColumns": null
       },
       "removedWidgets": [],
       "schema": [
        {
         "metadata": "{}",
         "name": "ProductLine",
         "type": "\"string\""
        },
        {
         "metadata": "{}",
         "name": "QTR_ID",
         "type": "\"integer\""
        },
        {
         "metadata": "{\"__autoGeneratedAlias\":\"true\"}",
         "name": "sum(quantity)",
         "type": "\"long\""
        },
        {
         "metadata": "{}",
         "name": "category",
         "type": "\"string\""
        }
       ],
       "type": "table"
      }
     },
     "output_type": "display_data"
    },
    {
     "output_type": "display_data",
     "data": {
      "text/plain": [
       "Databricks visualization. Run in Databricks to view."
      ]
     },
     "metadata": {
      "application/vnd.databricks.v1.subcommand+json": {
       "baseErrorDetails": null,
       "bindings": {},
       "collapsed": false,
       "command": "%sql WITH q AS (select ProductLine, QTR_ID, sum(quantity),\ncase\nwhen quantity=max_qty then 'hot'\nwhen quantity=min_qty then 'cold'\nelse 'medium'\nend as category from\n(select ProductLine, QTR_ID, sum(QUANTITYORDERED) quantity, MAX(sum(QUANTITYORDERED))over(partition by qtr_id) max_qty, MIN(sum(QUANTITYORDERED)) over(partition by qtr_id) min_qty from productssales group by ProductLine, QTR_ID ORDER BY QTR_ID) as fact group by\nProductLine, QTR_ID,category having category='hot' or category='cold') SELECT `QTR_ID`,SUM(`sum(quantity)`) `column_378fd0ff38`,`category` FROM q GROUP BY `QTR_ID`,`category`",
       "commandTitle": "Hot & Cold Products",
       "commandType": "auto",
       "commandVersion": 0,
       "commentThread": [],
       "commentsVisible": false,
       "contentSha256Hex": null,
       "customPlotOptions": {
        "redashChart": [
         {
          "key": "type",
          "value": "CHART"
         },
         {
          "key": "options",
          "value": {
           "alignYAxesAtZero": true,
           "coefficient": 1,
           "columnConfigurationMap": {
            "series": {
             "column": "category",
             "id": "column_378fd0ff40"
            },
            "x": {
             "column": "QTR_ID",
             "id": "column_378fd0ff36"
            },
            "y": [
             {
              "column": "sum(quantity)",
              "id": "column_378fd0ff38",
              "transform": "SUM"
             }
            ]
           },
           "dateTimeFormat": "DD/MM/YYYY HH:mm",
           "direction": {
            "type": "counterclockwise"
           },
           "error_y": {
            "type": "data",
            "visible": true
           },
           "globalSeriesType": "column",
           "isAggregationOn": true,
           "legend": {
            "traceorder": "normal"
           },
           "missingValuesAsZero": false,
           "numberFormat": "0,0.[00000]",
           "percentFormat": "0[.]00%",
           "series": {
            "error_y": {
             "type": "data",
             "visible": true
            },
            "percentValues": false,
            "stacking": null
           },
           "seriesOptions": {
            "cold": {
             "yAxis": 0
            },
            "column_378fd0ff38": {
             "type": "column",
             "yAxis": 0
            },
            "column_378fd0ff47": {
             "type": "column",
             "yAxis": 0
            },
            "hot": {
             "yAxis": 0
            }
           },
           "showDataLabels": false,
           "sizemode": "diameter",
           "sortX": true,
           "sortY": true,
           "swappedAxes": false,
           "textFormat": "",
           "useAggregationsUi": true,
           "valuesOptions": {},
           "version": 2,
           "xAxis": {
            "labels": {
             "enabled": true
            },
            "type": "-"
           },
           "yAxis": [
            {
             "type": "-"
            },
            {
             "opposite": true,
             "type": "-"
            }
           ]
          }
         }
        ]
       },
       "datasetPreviewNameToCmdIdMap": {},
       "diffDeletes": [],
       "diffInserts": [],
       "displayType": "redashChart",
       "error": null,
       "errorDetails": null,
       "errorSummary": null,
       "errorTraceType": null,
       "finishTime": 0,
       "globalVars": {},
       "guid": "",
       "height": "auto",
       "hideCommandCode": false,
       "hideCommandResult": false,
       "iPythonMetadata": null,
       "inputWidgets": {},
       "isLockedInExamMode": false,
       "latestUser": "a user",
       "latestUserId": null,
       "listResultMetadata": null,
       "metadata": {},
       "nuid": "e9e8b26e-1e81-43f6-818c-584991ad9457",
       "origId": 0,
       "parentHierarchy": [],
       "pivotAggregation": null,
       "pivotColumns": null,
       "position": 13.8125,
       "resultDbfsErrorMessage": null,
       "resultDbfsStatus": "INLINED_IN_TREE",
       "results": null,
       "showCommandTitle": false,
       "startTime": 0,
       "state": "input",
       "streamStates": {},
       "subcommandOptions": {
        "queryPlan": {
         "groups": [
          {
           "column": "QTR_ID",
           "type": "column"
          },
          {
           "column": "category",
           "type": "column"
          }
         ],
         "selects": [
          {
           "column": "QTR_ID",
           "type": "column"
          },
          {
           "alias": "column_378fd0ff38",
           "args": [
            {
             "column": "sum(quantity)",
             "type": "column"
            }
           ],
           "function": "SUM",
           "type": "function"
          },
          {
           "column": "category",
           "type": "column"
          }
         ]
        }
       },
       "submitTime": 0,
       "subtype": "tableResultSubCmd.visualization",
       "tableResultIndex": 0,
       "tableResultSettingsMap": null,
       "useConsistentColors": false,
       "version": "CommandV1",
       "width": "auto",
       "workflows": [],
       "xColumns": null,
       "yColumns": null
      }
     },
     "output_type": "display_data"
    }
   ],
   "source": [
    "%sql\n",
    "select ProductLine, QTR_ID, sum(quantity),\n",
    "case\n",
    "when quantity=max_qty then 'hot'\n",
    "when quantity=min_qty then 'cold'\n",
    "else 'medium'\n",
    "end as category from\n",
    "(select ProductLine, QTR_ID, sum(QUANTITYORDERED) quantity, MAX(sum(QUANTITYORDERED))over(partition by qtr_id) max_qty, MIN(sum(QUANTITYORDERED)) over(partition by qtr_id) min_qty from productssales group by ProductLine, QTR_ID ORDER BY QTR_ID) as fact group by\n",
    "ProductLine, QTR_ID,category having category='hot' or category='cold'"
   ]
  },
  {
   "cell_type": "code",
   "execution_count": 0,
   "metadata": {
    "application/vnd.databricks.v1+cell": {
     "cellMetadata": {
      "byteLimit": 2048000,
      "implicitDf": true,
      "rowLimit": 10000
     },
     "inputWidgets": {},
     "nuid": "0cf4ccf7-6a18-45fe-bafb-83a06ffee37c",
     "showTitle": false,
     "title": ""
    }
   },
   "outputs": [
    {
     "output_type": "display_data",
     "data": {
      "text/html": [
       "<style scoped>\n",
       "  .table-result-container {\n",
       "    max-height: 300px;\n",
       "    overflow: auto;\n",
       "  }\n",
       "  table, th, td {\n",
       "    border: 1px solid black;\n",
       "    border-collapse: collapse;\n",
       "  }\n",
       "  th, td {\n",
       "    padding: 5px;\n",
       "  }\n",
       "  th {\n",
       "    text-align: left;\n",
       "  }\n",
       "</style><div class='table-result-container'><table class='table-result'><thead style='background-color: white'><tr><th>ProductLine</th><th>QTR_ID</th><th>quantity</th></tr></thead><tbody><tr><td>Planes</td><td>1</td><td>2625</td></tr><tr><td>Classic Cars</td><td>1</td><td>7784</td></tr><tr><td>Ships</td><td>1</td><td>2163</td></tr><tr><td>Trucks and Buses</td><td>1</td><td>2068</td></tr><tr><td>Vintage Cars</td><td>1</td><td>5481</td></tr><tr><td>Trains</td><td>1</td><td>693</td></tr><tr><td>Motorcycles</td><td>1</td><td>2671</td></tr><tr><td>Ships</td><td>2</td><td>1620</td></tr><tr><td>Classic Cars</td><td>2</td><td>6447</td></tr><tr><td>Trucks and Buses</td><td>2</td><td>2286</td></tr><tr><td>Motorcycles</td><td>2</td><td>2721</td></tr><tr><td>Planes</td><td>2</td><td>2773</td></tr><tr><td>Trains</td><td>2</td><td>439</td></tr><tr><td>Vintage Cars</td><td>2</td><td>4030</td></tr><tr><td>Classic Cars</td><td>3</td><td>6190</td></tr><tr><td>Trains</td><td>3</td><td>531</td></tr><tr><td>Planes</td><td>3</td><td>1549</td></tr><tr><td>Vintage Cars</td><td>3</td><td>3269</td></tr><tr><td>Motorcycles</td><td>3</td><td>2214</td></tr><tr><td>Trucks and Buses</td><td>3</td><td>1949</td></tr><tr><td>Ships</td><td>3</td><td>1416</td></tr><tr><td>Motorcycles</td><td>4</td><td>4057</td></tr><tr><td>Trains</td><td>4</td><td>1049</td></tr><tr><td>Ships</td><td>4</td><td>2928</td></tr><tr><td>Vintage Cars</td><td>4</td><td>8289</td></tr><tr><td>Trucks and Buses</td><td>4</td><td>4474</td></tr><tr><td>Classic Cars</td><td>4</td><td>13571</td></tr><tr><td>Planes</td><td>4</td><td>3780</td></tr></tbody></table></div>"
      ]
     },
     "metadata": {
      "application/vnd.databricks.v1+output": {
       "addedWidgets": {},
       "aggData": [],
       "aggError": "",
       "aggOverflow": false,
       "aggSchema": [],
       "aggSeriesLimitReached": false,
       "aggType": "",
       "arguments": {},
       "columnCustomDisplayInfos": {},
       "data": [
        [
         "Planes",
         1,
         2625
        ],
        [
         "Classic Cars",
         1,
         7784
        ],
        [
         "Ships",
         1,
         2163
        ],
        [
         "Trucks and Buses",
         1,
         2068
        ],
        [
         "Vintage Cars",
         1,
         5481
        ],
        [
         "Trains",
         1,
         693
        ],
        [
         "Motorcycles",
         1,
         2671
        ],
        [
         "Ships",
         2,
         1620
        ],
        [
         "Classic Cars",
         2,
         6447
        ],
        [
         "Trucks and Buses",
         2,
         2286
        ],
        [
         "Motorcycles",
         2,
         2721
        ],
        [
         "Planes",
         2,
         2773
        ],
        [
         "Trains",
         2,
         439
        ],
        [
         "Vintage Cars",
         2,
         4030
        ],
        [
         "Classic Cars",
         3,
         6190
        ],
        [
         "Trains",
         3,
         531
        ],
        [
         "Planes",
         3,
         1549
        ],
        [
         "Vintage Cars",
         3,
         3269
        ],
        [
         "Motorcycles",
         3,
         2214
        ],
        [
         "Trucks and Buses",
         3,
         1949
        ],
        [
         "Ships",
         3,
         1416
        ],
        [
         "Motorcycles",
         4,
         4057
        ],
        [
         "Trains",
         4,
         1049
        ],
        [
         "Ships",
         4,
         2928
        ],
        [
         "Vintage Cars",
         4,
         8289
        ],
        [
         "Trucks and Buses",
         4,
         4474
        ],
        [
         "Classic Cars",
         4,
         13571
        ],
        [
         "Planes",
         4,
         3780
        ]
       ],
       "datasetInfos": [],
       "dbfsResultPath": null,
       "isJsonSchema": true,
       "metadata": {},
       "overflow": false,
       "plotOptions": {
        "customPlotOptions": {},
        "displayType": "table",
        "pivotAggregation": null,
        "pivotColumns": null,
        "xColumns": null,
        "yColumns": null
       },
       "removedWidgets": [],
       "schema": [
        {
         "metadata": "{}",
         "name": "ProductLine",
         "type": "\"string\""
        },
        {
         "metadata": "{}",
         "name": "QTR_ID",
         "type": "\"integer\""
        },
        {
         "metadata": "{}",
         "name": "quantity",
         "type": "\"long\""
        }
       ],
       "type": "table"
      }
     },
     "output_type": "display_data"
    }
   ],
   "source": [
    "%sql\n",
    "select ProductLine, QTR_ID, sum(QUANTITYORDERED) quantity from productssales group by ProductLine, QTR_ID ORDER BY QTR_ID"
   ]
  }
 ],
 "metadata": {
  "application/vnd.databricks.v1+notebook": {
   "dashboards": [
    {
     "elements": [
      {
       "dashboardResultIndex": null,
       "elementNUID": "44eff10a-c247-4ebe-8052-8e61d87cc25d",
       "elementType": "command",
       "guid": "2030f2bd-f462-4ebd-9682-0838bc6f86bc",
       "options": null,
       "position": {
        "height": 3,
        "width": 7,
        "x": 0,
        "y": 0,
        "z": null
       },
       "resultIndex": null
      },
      {
       "dashboardResultIndex": null,
       "elementNUID": "7ba4b615-966f-4ec7-a857-120280fad911",
       "elementType": "command",
       "guid": "427204e2-6349-45aa-8960-8a96b2b29c45",
       "options": null,
       "position": {
        "height": 3,
        "width": 7,
        "x": 0,
        "y": 3,
        "z": null
       },
       "resultIndex": null
      },
      {
       "dashboardResultIndex": null,
       "elementNUID": "bd6a6759-57e2-4ccb-8cdf-b092b3f7c729",
       "elementType": "command",
       "guid": "63a2d85b-2921-4f0b-9473-01357ef7dc8a",
       "options": {
        "autoScaleImg": false,
        "scale": 0,
        "showTitle": true,
        "title": "Top 10 Customer Sales Contribution",
        "titleAlign": "center"
       },
       "position": {
        "height": 7,
        "width": 9,
        "x": 0,
        "y": 10,
        "z": null
       },
       "resultIndex": null
      },
      {
       "dashboardResultIndex": null,
       "elementNUID": "60dc4e10-7bc7-43d4-adbb-dc2b49683acd",
       "elementType": "command",
       "guid": "aeaa34ee-638a-4892-8521-b13a38a7e015",
       "options": null,
       "position": {
        "height": 8,
        "width": 17,
        "x": 0,
        "y": 17,
        "z": null
       },
       "resultIndex": null
      },
      {
       "dashboardResultIndex": null,
       "elementNUID": "db953e3a-ca55-47b4-838f-9cf57b760723",
       "elementType": "command",
       "guid": "b8783e80-8ff7-4cec-98fe-acb0fbbb1f0b",
       "options": null,
       "position": {
        "height": 10,
        "width": 11,
        "x": 7,
        "y": 0,
        "z": null
       },
       "resultIndex": null
      }
     ],
     "globalVars": {},
     "guid": "",
     "layoutOption": {
      "grid": true,
      "stack": true
     },
     "nuid": "89cdac86-70da-4348-878e-43702fca585a",
     "origId": 3609275116437333,
     "title": "Sales Dashboard",
     "version": "DashboardViewV1",
     "width": 1440
    },
    {
     "elements": [
      {
       "dashboardResultIndex": null,
       "elementNUID": "e9e8b26e-1e81-43f6-818c-584991ad9457",
       "elementType": "command",
       "guid": "0679ee95-2a4d-4871-9748-17dd6c18a2b0",
       "options": null,
       "position": {
        "height": 6,
        "width": 12,
        "x": 0,
        "y": 0,
        "z": null
       },
       "resultIndex": null
      },
      {
       "dashboardResultIndex": null,
       "elementNUID": "44eff10a-c247-4ebe-8052-8e61d87cc25d",
       "elementType": "command",
       "guid": "0a81ba2e-2438-4f69-8b92-c80de0f4ec0d",
       "options": null,
       "position": {
        "height": 4,
        "width": 5,
        "x": 0,
        "y": 16,
        "z": null
       },
       "resultIndex": null
      },
      {
       "dashboardResultIndex": null,
       "elementNUID": "db953e3a-ca55-47b4-838f-9cf57b760723",
       "elementType": "command",
       "guid": "0f42cd01-b747-4eab-adce-bb1a52093d36",
       "options": null,
       "position": {
        "height": 9,
        "width": 8,
        "x": 16,
        "y": 0,
        "z": null
       },
       "resultIndex": null
      },
      {
       "dashboardResultIndex": null,
       "elementNUID": "bd6a6759-57e2-4ccb-8cdf-b092b3f7c729",
       "elementType": "command",
       "guid": "137dd648-4210-4084-b203-ebc82a222c18",
       "options": null,
       "position": {
        "height": 8,
        "width": 16,
        "x": 0,
        "y": 30,
        "z": null
       },
       "resultIndex": null
      },
      {
       "dashboardResultIndex": null,
       "elementNUID": "60dc4e10-7bc7-43d4-adbb-dc2b49683acd",
       "elementType": "command",
       "guid": "2d0b42f5-f60b-490f-be57-da640b631488",
       "options": null,
       "position": {
        "height": 6,
        "width": 12,
        "x": 0,
        "y": 6,
        "z": null
       },
       "resultIndex": null
      },
      {
       "dashboardResultIndex": null,
       "elementNUID": "bc1aeea6-6448-44b5-8f59-452909f7dce9",
       "elementType": "command",
       "guid": "34537a8d-53a3-4fe2-8e33-cfa876557d74",
       "options": null,
       "position": {
        "height": 4,
        "width": 5,
        "x": 0,
        "y": 12,
        "z": null
       },
       "resultIndex": null
      },
      {
       "dashboardResultIndex": null,
       "elementNUID": "ce15861f-9a02-47b7-a62e-3c34b6364a3b",
       "elementType": "command",
       "guid": "74139a17-053c-467a-a381-afe963d6b86d",
       "options": null,
       "position": {
        "height": 10,
        "width": 24,
        "x": 0,
        "y": 38,
        "z": null
       },
       "resultIndex": null
      },
      {
       "dashboardResultIndex": null,
       "elementNUID": "92917ad2-b408-4451-8aa9-3e9b752e50b5",
       "elementType": "command",
       "guid": "8ec5819e-37f9-49d4-87ca-267875a0351b",
       "options": null,
       "position": {
        "height": 10,
        "width": 24,
        "x": 0,
        "y": 48,
        "z": null
       },
       "resultIndex": null
      },
      {
       "dashboardResultIndex": null,
       "elementNUID": "7ba4b615-966f-4ec7-a857-120280fad911",
       "elementType": "command",
       "guid": "98e7864e-9f11-43cf-bcbe-7719d9aa1eab",
       "options": null,
       "position": {
        "height": 4,
        "width": 5,
        "x": 0,
        "y": 20,
        "z": null
       },
       "resultIndex": null
      },
      {
       "dashboardResultIndex": null,
       "elementNUID": "c4c35522-a0af-43a3-9e20-69ee1a9d3ce4",
       "elementType": "command",
       "guid": "bfd4021e-d1e8-4ea5-9b2d-fa8ba64dd998",
       "options": null,
       "position": {
        "height": 3,
        "width": 5,
        "x": 0,
        "y": 24,
        "z": null
       },
       "resultIndex": null
      },
      {
       "dashboardResultIndex": null,
       "elementNUID": "94dcb359-dec2-46df-9b4e-acc8852ae2b0",
       "elementType": "command",
       "guid": "d9790ebb-fbf2-456a-bb6b-de6b507bb786",
       "options": null,
       "position": {
        "height": 9,
        "width": 11,
        "x": 5,
        "y": 12,
        "z": null
       },
       "resultIndex": null
      },
      {
       "dashboardResultIndex": null,
       "elementNUID": "b7fad3e3-6b31-408d-a24e-8ce94e2f3da6",
       "elementType": "command",
       "guid": "f07af29c-5e7e-44bf-90e4-7ee627b8fe3b",
       "options": null,
       "position": {
        "height": 9,
        "width": 11,
        "x": 5,
        "y": 21,
        "z": null
       },
       "resultIndex": null
      }
     ],
     "globalVars": {},
     "guid": "",
     "layoutOption": {
      "grid": true,
      "stack": true
     },
     "nuid": "fa008a86-30b1-438f-b925-5517f521a8c2",
     "origId": 3609275116437334,
     "title": "Sales Dashboard1",
     "version": "DashboardViewV1",
     "width": 1024
    },
    {
     "elements": [],
     "globalVars": {},
     "guid": "",
     "layoutOption": {
      "grid": true,
      "stack": true
     },
     "nuid": "2796cadd-3679-4e50-bf0d-918bf9b087f3",
     "origId": 3609275116437335,
     "title": "Untitled",
     "version": "DashboardViewV1",
     "width": 1024
    }
   ],
   "environmentMetadata": null,
   "language": "python",
   "notebookMetadata": {
    "mostRecentlyExecutedCommandWithImplicitDF": {
     "commandId": 3609275116437284,
     "dataframes": [
      "_sqldf"
     ]
    },
    "pythonIndentUnit": 4
   },
   "notebookName": "Data Handling and Analysis & SQL",
   "widgets": {}
  }
 },
 "nbformat": 4,
 "nbformat_minor": 0
}
