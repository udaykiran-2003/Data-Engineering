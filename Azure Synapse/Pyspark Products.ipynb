{
  "cells": [
    {
      "cell_type": "code",
      "source": [
        "sc"
      ],
      "outputs": [
        {
          "output_type": "display_data",
          "data": {
            "application/vnd.livy.statement-meta+json": {
              "spark_pool": "Spark",
              "statement_id": 4,
              "statement_ids": [
                4
              ],
              "state": "finished",
              "livy_statement_state": "available",
              "spark_jobs": null,
              "session_id": "0",
              "normalized_state": "finished",
              "queued_time": "2024-09-19T06:44:12.7343835Z",
              "session_start_time": null,
              "execution_start_time": "2024-09-19T06:44:12.9121607Z",
              "execution_finish_time": "2024-09-19T06:44:13.0807809Z",
              "parent_msg_id": "17e1e586-0b80-48ab-93dd-79578384486a"
            },
            "text/plain": "StatementMeta(Spark, 0, 4, Finished, Available, Finished)"
          },
          "metadata": {}
        },
        {
          "output_type": "execute_result",
          "execution_count": 9,
          "data": {
            "text/plain": "<SparkContext master=yarn appName=Notebook 1_Spark_1726728006>",
            "text/html": "\n        <div>\n            <p><b>SparkContext</b></p>\n\n            <p><a href=\"https://web.azuresynapse.net/sparkui/27f7dfb0-2a7b-406c-b33a-cf1ed3e2a57c/workspaces/azuresynapse1b/sparkpools/Spark/sessions/0/applications/application_1726728087151_0001\">Spark UI</a></p>\n\n            <dl>\n              <dt>Version</dt>\n                <dd><code>v3.4.3.5.3.20240828.1</code></dd>\n              <dt>Master</dt>\n                <dd><code>yarn</code></dd>\n              <dt>AppName</dt>\n                <dd><code>Notebook 1_Spark_1726728006</code></dd>\n            </dl>\n        </div>\n        "
          },
          "metadata": {}
        }
      ],
      "execution_count": 2,
      "metadata": {
        "jupyter": {
          "outputs_hidden": true
        }
      }
    },
    {
      "cell_type": "code",
      "source": [
        "spark"
      ],
      "outputs": [
        {
          "output_type": "display_data",
          "data": {
            "application/vnd.livy.statement-meta+json": {
              "spark_pool": "Spark",
              "statement_id": 5,
              "statement_ids": [
                5
              ],
              "state": "finished",
              "livy_statement_state": "available",
              "spark_jobs": null,
              "session_id": "0",
              "normalized_state": "finished",
              "queued_time": "2024-09-19T06:44:23.6273697Z",
              "session_start_time": null,
              "execution_start_time": "2024-09-19T06:44:23.8038007Z",
              "execution_finish_time": "2024-09-19T06:44:23.9656056Z",
              "parent_msg_id": "3fdbdbf5-ffcf-4053-ab5e-4039d6938f0e"
            },
            "text/plain": "StatementMeta(Spark, 0, 5, Finished, Available, Finished)"
          },
          "metadata": {}
        },
        {
          "output_type": "execute_result",
          "execution_count": 11,
          "data": {
            "text/plain": "<pyspark.sql.session.SparkSession at 0x734ad876e980>",
            "text/html": "\n            <div>\n                <p><b>SparkSession - hive</b></p>\n                \n        <div>\n            <p><b>SparkContext</b></p>\n\n            <p><a href=\"https://web.azuresynapse.net/sparkui/27f7dfb0-2a7b-406c-b33a-cf1ed3e2a57c/workspaces/azuresynapse1b/sparkpools/Spark/sessions/0/applications/application_1726728087151_0001\">Spark UI</a></p>\n\n            <dl>\n              <dt>Version</dt>\n                <dd><code>v3.4.3.5.3.20240828.1</code></dd>\n              <dt>Master</dt>\n                <dd><code>yarn</code></dd>\n              <dt>AppName</dt>\n                <dd><code>Notebook 1_Spark_1726728006</code></dd>\n            </dl>\n        </div>\n        \n            </div>\n        "
          },
          "metadata": {}
        }
      ],
      "execution_count": 3,
      "metadata": {
        "jupyter": {
          "source_hidden": false,
          "outputs_hidden": true
        },
        "nteract": {
          "transient": {
            "deleting": false
          }
        }
      }
    },
    {
      "cell_type": "code",
      "source": [
        "products_df = spark.read.load(\"abfss://products@azuresdatalake.dfs.core.windows.net/Products.csv\", format= 'csv',\r\n",
        "inferSchema = True, header = True, sep = \"\\t\")"
      ],
      "outputs": [
        {
          "output_type": "display_data",
          "data": {
            "application/vnd.livy.statement-meta+json": {
              "spark_pool": "Spark",
              "statement_id": 8,
              "statement_ids": [
                8
              ],
              "state": "finished",
              "livy_statement_state": "available",
              "spark_jobs": null,
              "session_id": "0",
              "normalized_state": "finished",
              "queued_time": "2024-09-19T06:49:26.294899Z",
              "session_start_time": null,
              "execution_start_time": "2024-09-19T06:49:26.4416364Z",
              "execution_finish_time": "2024-09-19T06:49:27.5671827Z",
              "parent_msg_id": "df0bc3a3-2be1-4dec-b5ad-6c80be2563c0"
            },
            "text/plain": "StatementMeta(Spark, 0, 8, Finished, Available, Finished)"
          },
          "metadata": {}
        }
      ],
      "execution_count": 6,
      "metadata": {
        "jupyter": {
          "source_hidden": false,
          "outputs_hidden": false
        },
        "nteract": {
          "transient": {
            "deleting": false
          }
        }
      }
    },
    {
      "cell_type": "code",
      "source": [
        "products_df.show()"
      ],
      "outputs": [
        {
          "output_type": "display_data",
          "data": {
            "application/vnd.livy.statement-meta+json": {
              "spark_pool": "Spark",
              "statement_id": 9,
              "statement_ids": [
                9
              ],
              "state": "finished",
              "livy_statement_state": "available",
              "spark_jobs": null,
              "session_id": "0",
              "normalized_state": "finished",
              "queued_time": "2024-09-19T06:49:32.0435754Z",
              "session_start_time": null,
              "execution_start_time": "2024-09-19T06:49:32.1973334Z",
              "execution_finish_time": "2024-09-19T06:49:33.2947195Z",
              "parent_msg_id": "5527e7be-3f72-47de-91b0-3b79ca78ecb0"
            },
            "text/plain": "StatementMeta(Spark, 0, 9, Finished, Available, Finished)"
          },
          "metadata": {}
        },
        {
          "output_type": "stream",
          "name": "stdout",
          "text": [
            "+---------+--------------------+--------------+---------+\n|ProductID|         ProductName|      Category|ListPrice|\n+---------+--------------------+--------------+---------+\n|      771|Mountain-100 Silv...|Mountain Bikes|  3399.99|\n|      772|Mountain-100 Silv...|Mountain Bikes|  3399.99|\n|      773|Mountain-100 Silv...|Mountain Bikes|  3399.99|\n|      774|Mountain-100 Silv...|Mountain Bikes|  3399.99|\n|      775|Mountain-100 Blac...|Mountain Bikes|  3374.99|\n|      776|Mountain-100 Blac...|Mountain Bikes|  3374.99|\n|      777|Mountain-100 Blac...|Mountain Bikes|  3374.99|\n|      778|Mountain-100 Blac...|Mountain Bikes|  3374.99|\n|      779|Mountain-200 Silv...|Mountain Bikes|  2319.99|\n|      780|Mountain-200 Silv...|Mountain Bikes|  2319.99|\n|      781|Mountain-200 Silv...|Mountain Bikes|  2319.99|\n|      782|Mountain-200 Blac...|Mountain Bikes|  2294.99|\n|      783|Mountain-200 Blac...|Mountain Bikes|  2294.99|\n|      784|Mountain-200 Blac...|Mountain Bikes|  2294.99|\n|      785|Mountain-300 Blac...|Mountain Bikes|  1079.99|\n|      786|Mountain-300 Blac...|Mountain Bikes|  1079.99|\n|      787|Mountain-300 Blac...|Mountain Bikes|  1079.99|\n|      788|Mountain-300 Blac...|Mountain Bikes|  1079.99|\n|      980|Mountain-400-W Si...|Mountain Bikes|   769.49|\n|      981|Mountain-400-W Si...|Mountain Bikes|   769.49|\n+---------+--------------------+--------------+---------+\nonly showing top 20 rows\n\n"
          ]
        }
      ],
      "execution_count": 7,
      "metadata": {
        "jupyter": {
          "source_hidden": false,
          "outputs_hidden": false
        },
        "nteract": {
          "transient": {
            "deleting": false
          }
        }
      }
    },
    {
      "cell_type": "code",
      "source": [
        "products_df.createOrReplaceTempView(\"productsview\")"
      ],
      "outputs": [
        {
          "output_type": "display_data",
          "data": {
            "application/vnd.livy.statement-meta+json": {
              "spark_pool": "Spark",
              "statement_id": 10,
              "statement_ids": [
                10
              ],
              "state": "finished",
              "livy_statement_state": "available",
              "spark_jobs": null,
              "session_id": "0",
              "normalized_state": "finished",
              "queued_time": "2024-09-19T06:53:42.3154635Z",
              "session_start_time": null,
              "execution_start_time": "2024-09-19T06:53:42.4758998Z",
              "execution_finish_time": "2024-09-19T06:53:42.6450043Z",
              "parent_msg_id": "1f8e2205-1e77-43c8-8a2e-a3e9ce8908aa"
            },
            "text/plain": "StatementMeta(Spark, 0, 10, Finished, Available, Finished)"
          },
          "metadata": {}
        }
      ],
      "execution_count": 8,
      "metadata": {
        "jupyter": {
          "source_hidden": false,
          "outputs_hidden": false
        },
        "nteract": {
          "transient": {
            "deleting": false
          }
        }
      }
    },
    {
      "cell_type": "code",
      "source": [
        "spark.sql(\"select Category, count(*) as category_count from productsview group by Category order by \\\r\n",
        "category_count DESC limit 15\").show()"
      ],
      "outputs": [
        {
          "output_type": "display_data",
          "data": {
            "application/vnd.livy.statement-meta+json": {
              "spark_pool": "Spark",
              "statement_id": 14,
              "statement_ids": [
                14
              ],
              "state": "finished",
              "livy_statement_state": "available",
              "spark_jobs": null,
              "session_id": "0",
              "normalized_state": "finished",
              "queued_time": "2024-09-19T06:56:16.2219323Z",
              "session_start_time": null,
              "execution_start_time": "2024-09-19T06:56:16.3846332Z",
              "execution_finish_time": "2024-09-19T06:56:17.5309588Z",
              "parent_msg_id": "d23f5d8b-cbc3-483c-befb-8f2988f32dc1"
            },
            "text/plain": "StatementMeta(Spark, 0, 14, Finished, Available, Finished)"
          },
          "metadata": {}
        },
        {
          "output_type": "stream",
          "name": "stdout",
          "text": [
            "+---------------+--------------+\n|       Category|category_count|\n+---------------+--------------+\n|     Road Bikes|            43|\n|    Road Frames|            33|\n| Mountain Bikes|            32|\n|Mountain Frames|            28|\n|  Touring Bikes|            22|\n| Touring Frames|            18|\n|         Wheels|            14|\n|Tires and Tubes|            11|\n|        Saddles|             9|\n|        Jerseys|             8|\n|     Handlebars|             8|\n|         Pedals|             7|\n|         Shorts|             7|\n|         Gloves|             6|\n|          Socks|             4|\n+---------------+--------------+\n\n"
          ]
        }
      ],
      "execution_count": 12,
      "metadata": {
        "jupyter": {
          "source_hidden": false,
          "outputs_hidden": false
        },
        "nteract": {
          "transient": {
            "deleting": false
          }
        }
      }
    }
  ],
  "metadata": {
    "language_info": {
      "name": "python"
    },
    "kernelspec": {
      "name": "synapse_pyspark",
      "language": "Python",
      "display_name": "Synapse PySpark"
    },
    "kernel_info": {
      "name": "synapse_pyspark"
    },
    "save_output": true,
    "synapse_widget": {
      "version": "0.1",
      "state": {}
    }
  },
  "nbformat": 4,
  "nbformat_minor": 2
}